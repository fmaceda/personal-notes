{
 "cells": [
  {
   "cell_type": "markdown",
   "id": "33c57cee",
   "metadata": {},
   "source": [
    "# Methods\n",
    "\n",
    "## Content\n",
    "\n",
    "1. [Overview](#overview)\n",
    "2. [Using Parameters](#using-parameters)\n",
    "3. [Optional Parameters](#optional-parameters)\n",
    "4. [Returning Values](#returning-values)\n",
    "5. [Stateless Method](#stateless-method)\n",
    "6. [Stateful Method](#stateful-method)\n",
    "7. [Extension Methods](#extension-methods)\n",
    "8. [Passing by reference vs. passing by value](#passing-by-reference-vs-passing-by-value)\n",
    "9. [Async Methods](#async-methods)\n",
    "10. [Expression body definitions](#expression-body-definitions)\n",
    "11. [Named arguments](#named-arguments)\n"
   ]
  },
  {
   "cell_type": "markdown",
   "id": "7f03ff90",
   "metadata": {},
   "source": [
    "## Overview"
   ]
  },
  {
   "cell_type": "code",
   "execution_count": 3,
   "metadata": {
    "language_info": {
     "name": "polyglot-notebook"
    },
    "polyglot_notebook": {
     "kernelName": "csharp"
    }
   },
   "outputs": [
    {
     "name": "stdout",
     "output_type": "stream",
     "text": [
      "Generating random numbers:\n",
      "73 17 96 91 99 \n"
     ]
    }
   ],
   "source": [
    "Console.WriteLine(\"Generating random numbers:\");\n",
    "DisplayRandomNumbers(); // 17 29 46 36 3 \n",
    "\n",
    "void DisplayRandomNumbers() \n",
    "{\n",
    "    Random random = new Random();\n",
    "\n",
    "    for (int i = 0; i < 5; i++) \n",
    "    {\n",
    "        Console.Write($\"{random.Next(1, 100)} \");\n",
    "    }\n",
    "\n",
    "    Console.WriteLine();\n",
    "}"
   ]
  },
  {
   "cell_type": "markdown",
   "id": "c9cdca0b",
   "metadata": {},
   "source": [
    "## Using Parameters"
   ]
  },
  {
   "cell_type": "code",
   "execution_count": 10,
   "metadata": {
    "language_info": {
     "name": "polyglot-notebook"
    },
    "polyglot_notebook": {
     "kernelName": "csharp"
    }
   },
   "outputs": [
    {
     "name": "stdout",
     "output_type": "stream",
     "text": [
      "0, 1, 2, 3, 4, "
     ]
    }
   ],
   "source": [
    "CountTo(5);\n",
    "\n",
    "void CountTo(int max) \n",
    "{\n",
    "  for (int i = 0; i < max; i++)\n",
    "  {\n",
    "    Console.Write($\"{i}, \"); // 0, 1, 2, 3, 4\n",
    "  }\n",
    "}"
   ]
  },
  {
   "cell_type": "markdown",
   "id": "9d2311d2",
   "metadata": {},
   "source": [
    "## Optional Parameters"
   ]
  },
  {
   "cell_type": "code",
   "execution_count": 5,
   "metadata": {
    "language_info": {
     "name": "polyglot-notebook"
    },
    "polyglot_notebook": {
     "kernelName": "csharp"
    }
   },
   "outputs": [
    {
     "name": "stdout",
     "output_type": "stream",
     "text": [
      "0, 1, 2, 3, 4, 5, 6, 7, 8, 9, "
     ]
    }
   ],
   "source": [
    "CountTo();\n",
    "\n",
    "void CountTo(int max = 10) \n",
    "{\n",
    "  for (int i = 0; i < max; i++)\n",
    "  {\n",
    "    Console.Write($\"{i}, \"); // 0, 1, 2, 3, 4, 5, 6, 7, 8, 9\n",
    "  }\n",
    "}"
   ]
  },
  {
   "cell_type": "markdown",
   "id": "16192407",
   "metadata": {},
   "source": [
    "## Returning Values"
   ]
  },
  {
   "cell_type": "code",
   "execution_count": 6,
   "metadata": {
    "language_info": {
     "name": "polyglot-notebook"
    },
    "polyglot_notebook": {
     "kernelName": "csharp"
    }
   },
   "outputs": [
    {
     "name": "stdout",
     "output_type": "stream",
     "text": [
      "sum: 15"
     ]
    }
   ],
   "source": [
    "int sum = SumTo(5);\n",
    "Console.Write($\"sum: {sum}\"); // sum: 15\n",
    "\n",
    "int SumTo(int max) \n",
    "{\n",
    "  int result = 0;\n",
    "\n",
    "  for (int i = 1; i <= max; i++)\n",
    "  {\n",
    "    result += i;\n",
    "  }\n",
    "\n",
    "  return result;\n",
    "}"
   ]
  },
  {
   "cell_type": "markdown",
   "id": "6ec9642e",
   "metadata": {},
   "source": [
    "## Stateless Method\n",
    "\n",
    "The following code is stateless because it doesn't require to store any state to work, you just call the static method WriteLine from Console class."
   ]
  },
  {
   "cell_type": "code",
   "execution_count": 7,
   "metadata": {
    "language_info": {
     "name": "polyglot-notebook"
    },
    "polyglot_notebook": {
     "kernelName": "csharp"
    }
   },
   "outputs": [
    {
     "name": "stdout",
     "output_type": "stream",
     "text": [
      "Hello World!\r\n"
     ]
    }
   ],
   "source": [
    "Console.WriteLine(\"Hello World!\");"
   ]
  },
  {
   "cell_type": "markdown",
   "id": "ed8c21f0",
   "metadata": {},
   "source": [
    "## Stateful Method"
   ]
  },
  {
   "cell_type": "code",
   "execution_count": 8,
   "metadata": {
    "language_info": {
     "name": "polyglot-notebook"
    },
    "polyglot_notebook": {
     "kernelName": "csharp"
    }
   },
   "outputs": [],
   "source": [
    "Random dice = new Random();\n",
    "int roll = dice.Next(1, 7);"
   ]
  },
  {
   "cell_type": "markdown",
   "id": "2a4841c7",
   "metadata": {},
   "source": [
    "## Extension Methods\n",
    "\n",
    "Extension members enable you to \"add\" methods to existing types without creating a new derived type, recompiling, or otherwise modifying the original type.\n",
    "\n",
    "Extension methods are static methods, but they're called as if they were instance methods on the extended type. "
   ]
  },
  {
   "cell_type": "markdown",
   "id": "8b7cebd2",
   "metadata": {},
   "source": [
    "### Declaration\n",
    "\n",
    "Beginning with C# 14, you can declare extension blocks.\n",
    "\n",
    "```csharp\n",
    "namespace CustomExtensionMembers;\n",
    "\n",
    "public static class MyExtensions\n",
    "{\n",
    "  extension(string str)\n",
    "  {\n",
    "    public int WordCount() =>\n",
    "      str.Split([' ', '.', '?'], StringSplitOptions.RemoveEmptyEntries).Length;\n",
    "  }\n",
    "}\n",
    "```\n",
    "\n",
    "Before C# 14, you declare an extension method by adding the this modifier to the first parameter.\n",
    "\n",
    "```csharp\n",
    "namespace CustomExtensionMethods;\n",
    "\n",
    "public static class MyExtensions\n",
    "{\n",
    "  public static int WordCount(this string str) =>\n",
    "    str.Split([' ', '.', '?'], StringSplitOptions.RemoveEmptyEntries).Length;\n",
    "}\n",
    "```\n",
    "\n",
    "And it can be called from an application by using the syntax for accessing instance members:\n",
    "\n",
    "```csharp\n",
    "string s = \"Hello Extension Methods\";\n",
    "int i = s.WordCount();\n",
    "```\n",
    "\n",
    "### Value and Reference Types\n",
    "\n",
    "```csharp\n",
    "public static class IntExtensions\n",
    "{\n",
    "  extension(int number)\n",
    "  {\n",
    "    public void Increment()\n",
    "      => number++;\n",
    "  }\n",
    "\n",
    "  // Take note of the extra ref keyword here\n",
    "  extension(ref int number)\n",
    "  {\n",
    "    public void RefIncrement()\n",
    "      => number++;\n",
    "  }\n",
    "}\n",
    "```\n",
    "\n",
    "Different extension blocks are required to distinguish by-value and by-ref parameter modes for the receiver.\n",
    "\n",
    "```csharp\n",
    "int x = 1;\n",
    "\n",
    "// Takes x by value leading to the extension method\n",
    "// Increment modifying its own copy, leaving x unchanged\n",
    "x.Increment();\n",
    "Console.WriteLine($\"x is now {x}\"); // x is now 1\n",
    "\n",
    "// Takes x by reference leading to the extension method\n",
    "// RefIncrement changing the value of x directly\n",
    "x.RefIncrement();\n",
    "Console.WriteLine($\"x is now {x}\"); // x is now 2\n",
    "// ```"
   ]
  },
  {
   "cell_type": "markdown",
   "id": "e2f18320",
   "metadata": {},
   "source": [
    "## Passing by reference vs. passing by value\n",
    "\n",
    "By default, when an instance of a value type is passed to a method, its copy is passed instead of the instance itself. Therefore, changes to the argument have no effect on the original instance in the calling method. To pass a value-type instance by reference, use the ref keyword."
   ]
  },
  {
   "cell_type": "code",
   "execution_count": 6,
   "metadata": {
    "language_info": {
     "name": "polyglot-notebook"
    },
    "polyglot_notebook": {
     "kernelName": "csharp"
    }
   },
   "outputs": [
    {
     "name": "stdout",
     "output_type": "stream",
     "text": [
      "Before ChangeValue: valA = 5, valB = 5\n",
      "After ChangeValue: valA = 5, valB = 10\n",
      "After ChangeValueOut: valC = 10\n",
      "After ChangeValueIn: valD = 5\n",
      "Sum: 25\n"
     ]
    }
   ],
   "source": [
    "int valA = 5;\n",
    "int valB = 5;\n",
    "int valC;\n",
    "int valD = 5;\n",
    "\n",
    "Console.WriteLine($\"Before ChangeValue: valA = {valA}, valB = {valB}\");\n",
    "\n",
    "ChangeValue(valA);\n",
    "ChangeValueRef(ref valB);\n",
    "\n",
    "Console.WriteLine($\"After ChangeValue: valA = {valA}, valB = {valB}\");\n",
    "\n",
    "ChangeValueOut(out valC);\n",
    "ChangeValueIn(in valD);\n",
    "\n",
    "Console.WriteLine($\"After ChangeValueOut: valC = {valC}\");\n",
    "Console.WriteLine($\"After ChangeValueIn: valD = {valD}\");\n",
    "\n",
    "int initial = 10;\n",
    "SumParams(initial, 1, 2, 3, 4, 5); // \"1, 2, 3, 4, 5\" is a params array.\n",
    "\n",
    "public void ChangeValue(int value) \n",
    "{\n",
    "  value = 10; // This change won't affect the original variable\n",
    "}\n",
    "\n",
    "public void ChangeValueRef(ref int value) \n",
    "{\n",
    "  value = 10; // This change will affect the original variable\n",
    "}\n",
    "\n",
    "public void ChangeValueOut(out int value) \n",
    "{\n",
    "  value = 10; // This will initialize the variable\n",
    "}\n",
    "\n",
    "public void ChangeValueIn(in int value) \n",
    "{\n",
    "  // value = 10; // This will cause a compile-time error because 'in' parameters are read-only\n",
    "}\n",
    "\n",
    "public void SumParams(int initial, params int[] numbers) \n",
    "{\n",
    "  int sum = initial;\n",
    "\n",
    "  foreach (var number in numbers) \n",
    "  {\n",
    "    sum += number;\n",
    "  }\n",
    "  Console.WriteLine($\"Sum: {sum}\");\n",
    "}"
   ]
  },
  {
   "cell_type": "markdown",
   "id": "22c73c19",
   "metadata": {},
   "source": [
    "## Async Methods\n",
    "\n",
    "By using the async feature, you can invoke asynchronous methods without using explicit callbacks or manually splitting your code across multiple methods or lambda expressions.\n",
    "\n",
    "If you mark a method with the async modifier, you can use the await operator in the method. When control reaches an await expression in the async method, control returns to the caller, and progress in the method is suspended until the awaited task completes. When the task is complete, execution can resume in the method.\n",
    "\n",
    "An async method typically has a return type of Task<TResult>, Task, IAsyncEnumerable<T>or void. The void return type is used primarily to define event handlers, where a void return type is required. An async method that returns void can't be awaited, and the caller of a void-returning method can't catch exceptions that the method throws. An async method can have any task-like return type."
   ]
  },
  {
   "cell_type": "code",
   "execution_count": null,
   "metadata": {
    "language_info": {
     "name": "polyglot-notebook"
    },
    "polyglot_notebook": {
     "kernelName": "csharp"
    }
   },
   "outputs": [
    {
     "name": "stdout",
     "output_type": "stream",
     "text": [
      "Result: 5\r\n"
     ]
    }
   ],
   "source": [
    "await DoSomethingAsync();\n",
    "\n",
    "public static async Task DoSomethingAsync()\n",
    "{\n",
    "  Task<int> delayTask = DelayAsync();\n",
    "  int result = await delayTask;\n",
    "\n",
    "  // The previous two statements may be combined into\n",
    "  // the following statement.\n",
    "  //int result = await DelayAsync();\n",
    "\n",
    "  Console.WriteLine($\"Result: {result}\");\n",
    "}\n",
    "\n",
    "public static async Task<int> DelayAsync()\n",
    "{\n",
    "  await Task.Delay(100);\n",
    "  return 5;\n",
    "}\n",
    "\n",
    "// Example output:\n",
    "//   Result: 5"
   ]
  },
  {
   "cell_type": "markdown",
   "id": "3637d892",
   "metadata": {},
   "source": [
    "## Expression body definitions\n",
    "\n",
    "It is common to have method definitions that simply return immediately with the result of an expression, or that have a single statement as the body of the method. There is a syntax shortcut for defining such methods using =>"
   ]
  },
  {
   "cell_type": "code",
   "execution_count": null,
   "id": "f547c51a",
   "metadata": {
    "language_info": {
     "name": "polyglot-notebook"
    },
    "polyglot_notebook": {
     "kernelName": "csharp"
    }
   },
   "outputs": [],
   "source": [
    "public class Point\n",
    "{\n",
    "  public int x { get; set; }\n",
    "  public int y { get; set; }\n",
    "\n",
    "  public Point(int x, int y)\n",
    "  {\n",
    "    this.x = x;\n",
    "    this.y = y;\n",
    "  }\n",
    "\n",
    "  public Point Move(int dx, int dy) => new Point(x + dx, y + dy);\n",
    "}"
   ]
  },
  {
   "cell_type": "markdown",
   "id": "ce330359",
   "metadata": {},
   "source": [
    "## Named arguments\n",
    "\n",
    "Named arguments free you from matching the order of arguments to the order of parameters in the parameter lists of called methods."
   ]
  },
  {
   "cell_type": "code",
   "execution_count": null,
   "metadata": {
    "language_info": {
     "name": "polyglot-notebook"
    },
    "polyglot_notebook": {
     "kernelName": "csharp"
    }
   },
   "outputs": [],
   "source": [
    "// The method can be called in the normal way, by using positional arguments.\n",
    "PrintOrderDetails(\"Gift Shop\", 31, \"Red Mug\");\n",
    "\n",
    "// Named arguments can be supplied for the parameters in any order.\n",
    "PrintOrderDetails(orderNum: 31, productName: \"Red Mug\", sellerName: \"Gift Shop\");\n",
    "PrintOrderDetails(productName: \"Red Mug\", sellerName: \"Gift Shop\", orderNum: 31);\n",
    "\n",
    "// Named arguments mixed with positional arguments are valid\n",
    "// as long as they are used in their correct position.\n",
    "PrintOrderDetails(\"Gift Shop\", 31, productName: \"Red Mug\");\n",
    "PrintOrderDetails(sellerName: \"Gift Shop\", 31, productName: \"Red Mug\"); \n",
    "PrintOrderDetails(\"Gift Shop\", orderNum: 31, \"Red Mug\");\n",
    "\n",
    "static void PrintOrderDetails(string sellerName, int orderNum, string productName)\n",
    "{\n",
    "  if (string.IsNullOrWhiteSpace(sellerName))\n",
    "  {\n",
    "      throw new ArgumentException(message: \"Seller name cannot be null or empty.\", paramName: nameof(sellerName));\n",
    "  }\n",
    "\n",
    "  Console.WriteLine($\"Seller: {sellerName}, Order #: {orderNum}, Product: {productName}\");\n",
    "}"
   ]
  }
 ],
 "metadata": {
  "kernelspec": {
   "display_name": ".NET (C#)",
   "language": "C#",
   "name": ".net-csharp"
  },
  "language_info": {
   "name": "polyglot-notebook"
  },
  "polyglot_notebook": {
   "kernelInfo": {
    "defaultKernelName": "csharp",
    "items": [
     {
      "aliases": [],
      "name": "csharp"
     }
    ]
   }
  }
 },
 "nbformat": 4,
 "nbformat_minor": 5
}
