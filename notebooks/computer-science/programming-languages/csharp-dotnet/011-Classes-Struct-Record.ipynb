{
 "cells": [
  {
   "cell_type": "markdown",
   "id": "33c57cee",
   "metadata": {},
   "source": [
    "# Classes, Structs and Records\n",
    "\n",
    "## Content\n",
    "\n",
    "1. [Class](#class)\n",
    "2. [Struct](#struct)\n",
    "3. [Record](#record)\n",
    "4. [Interfaces](#interfaces)\n",
    "5. [Abstract Classes](#abstract-classes)\n",
    "6. [Sealed Classes](#sealed-classes)\n",
    "7. [Static Classes](#static-classes)\n",
    "8. [Partial Classes](#partial-classes)"
   ]
  },
  {
   "cell_type": "markdown",
   "id": "7f03ff90",
   "metadata": {},
   "source": [
    "## Class\n",
    "\n",
    "A type that is defined as a class is a reference type."
   ]
  },
  {
   "cell_type": "code",
   "execution_count": null,
   "metadata": {
    "language_info": {
     "name": "polyglot-notebook"
    },
    "polyglot_notebook": {
     "kernelName": "csharp"
    }
   },
   "outputs": [],
   "source": [
    "//[access modifier] - [class] - [identifier]\n",
    "public class Person\n",
    "{\n",
    "  // Properties\n",
    "  public string Name { get; set; }\n",
    "  public String LastName { get; set; }\n",
    "  public int Age { get; set; }\n",
    "\n",
    "  // Constructor\n",
    "  public Person(string name, string lastName, int age)\n",
    "  {\n",
    "    Name = name;\n",
    "    LastName = lastName;\n",
    "    Age = age;\n",
    "  }\n",
    "\n",
    "  // Methods \n",
    "  public void Introduce()\n",
    "  {\n",
    "    Console.WriteLine($\"Hello, my name is {Name} {LastName} and I am {Age} years old.\");\n",
    "  }\n",
    "}\n",
    "\n",
    "Person object1 = new Person(\"Fernando\", \"Maceda\", 30); // object1 is a reference to an allocated space that will know where the object exists.\n",
    "Person object2; // Reference to null\n",
    "\n",
    "Person object3 = new Person(\"Cristhian\", \"Silva\", 20); \n",
    "Person object4 = object3; // object4 has the same reference as object3. If any of both instances changes, the other one does as well. Not recommended to do that."
   ]
  },
  {
   "cell_type": "markdown",
   "id": "adb5ddcc",
   "metadata": {},
   "source": [
    "### Object Initializer"
   ]
  },
  {
   "cell_type": "code",
   "execution_count": null,
   "metadata": {
    "language_info": {
     "name": "polyglot-notebook"
    },
    "polyglot_notebook": {
     "kernelName": "csharp"
    }
   },
   "outputs": [],
   "source": [
    "public class Person\n",
    "{\n",
    "  public required string LastName { get; set; }\n",
    "  public required string FirstName { get; set; }\n",
    "}\n",
    "\n",
    "// Error! Required properties not set\n",
    "// var p1 = new Person();\n",
    "\n",
    "// Correct! Required properties set\n",
    "var p2 = new Person() { FirstName = \"Grace\", LastName = \"Hopper\" };"
   ]
  },
  {
   "cell_type": "markdown",
   "id": "a46bd784",
   "metadata": {},
   "source": [
    "## Struct"
   ]
  },
  {
   "cell_type": "markdown",
   "id": "78f46330",
   "metadata": {},
   "source": [
    "### Difference from Classes\n",
    "\n",
    "Because classes are reference types, a variable of a class object holds a reference to the address of the object on the managed heap. If a second variable of the same type is assigned to the first variable, then both variables refer to the object at that address.\n",
    "\n",
    "On the other hand, structs are value types, a variable of a struct object holds a copy of the entire object. Instances of structs can also be created by using the new operator, but this isn't required."
   ]
  },
  {
   "cell_type": "code",
   "execution_count": null,
   "id": "4cf65a70",
   "metadata": {
    "language_info": {
     "name": "polyglot-notebook"
    },
    "polyglot_notebook": {
     "kernelName": "csharp"
    }
   },
   "outputs": [],
   "source": [
    "public struct Person\n",
    "{\n",
    "  public string Name;\n",
    "  public int Age;\n",
    "  public Person(string name, int age)\n",
    "  {\n",
    "    Name = name;\n",
    "    Age = age;\n",
    "  }\n",
    "}\n",
    "\n",
    "// Create  struct instance and initialize by using \"new\".\n",
    "// Memory is allocated on thread stack.\n",
    "Person p1 = new Person(\"Alex\", 9);\n",
    "Console.WriteLine($\"p1 Name = {p1.Name} Age = {p1.Age}\");\n",
    "\n",
    "// Create  new struct object. Note that  struct can be initialized\n",
    "// without using \"new\".\n",
    "Person p2 = p1;\n",
    "\n",
    "// Assign values to p2 members.\n",
    "p2.Name = \"Spencer\";\n",
    "p2.Age = 7;\n",
    "Console.WriteLine($\"p2 Name = {p2.Name} Age = {p2.Age}\");\n",
    "\n",
    "// p1 values remain unchanged because p2 is  copy.\n",
    "Console.WriteLine($\"p1 Name = {p1.Name} Age = {p1.Age}\");"
   ]
  },
  {
   "cell_type": "markdown",
   "id": "0eeb1ab0",
   "metadata": {},
   "source": [
    "## Record\n",
    "\n",
    "A record in C# is a class or struct that provides special syntax and behavior for working with data models. The record modifier instructs the compiler to synthesize members that are useful for types whose primary role is storing data. These members include an overload of ToString() and members that support value equality."
   ]
  },
  {
   "cell_type": "code",
   "execution_count": null,
   "metadata": {
    "language_info": {
     "name": "polyglot-notebook"
    },
    "polyglot_notebook": {
     "kernelName": "csharp"
    }
   },
   "outputs": [],
   "source": [
    "// Value type: Stores all values\n",
    "public record Point(int X, int Y)\n",
    "{\n",
    "  public double Slope() => (double)Y / (double)X;\n",
    "}\n",
    "\n",
    "Point pt1 = new Point(1, 1);\n",
    "var pt2 = pt1 with { Y = 10 };\n",
    "double slope = pt1.Slope();\n",
    "\n",
    "Console.WriteLine($\"The two points are {pt1} and {pt2}\"); \n",
    "\n",
    "Console.WriteLine($\"The slope of {pt1} is {slope}\");"
   ]
  },
  {
   "cell_type": "markdown",
   "id": "4b1b9ef2",
   "metadata": {},
   "source": [
    "### When to Use?\n",
    "\n",
    "Consider using a record in place of a class or struct in the following scenarios:\n",
    "\n",
    "- You want to define a data model that depends on value equality.\n",
    "- You want to define a type for which objects are immutable."
   ]
  },
  {
   "cell_type": "markdown",
   "id": "a8fb7f31",
   "metadata": {},
   "source": [
    "## Interfaces\n",
    "\n",
    "An interface contains definitions for a group of related functionalities that a non-abstract class or a struct must implement.An interface contains definitions for a group of related functionalities that a non-abstract class or a struct must implement."
   ]
  },
  {
   "cell_type": "code",
   "execution_count": null,
   "id": "a7b9e48a",
   "metadata": {
    "language_info": {
     "name": "polyglot-notebook"
    },
    "polyglot_notebook": {
     "kernelName": "csharp"
    }
   },
   "outputs": [],
   "source": [
    "interface IEquatable<T>\n",
    "{\n",
    "  bool Equals(T obj);\n",
    "}\n",
    "\n",
    "public class Car : IEquatable<Car>\n",
    "{\n",
    "  public string? Make { get; set; }\n",
    "  public string? Model { get; set; }\n",
    "  public string? Year { get; set; }\n",
    "\n",
    "  // Implementation of IEquatable<T> interface\n",
    "  public bool Equals(Car? car)\n",
    "  {\n",
    "    return (this.Make, this.Model, this.Year) ==\n",
    "      (car?.Make, car?.Model, car?.Year);\n",
    "  }\n",
    "}"
   ]
  },
  {
   "cell_type": "markdown",
   "id": "69de06e2",
   "metadata": {},
   "source": [
    "## Abstract Classes\n",
    "\n",
    "The abstract modifier indicates that the thing being modified has a missing or incomplete implementation. An abstract class cannot be instantiated. The purpose of an abstract class is to provide a common definition of a base class that multiple derived classes can share.\n",
    "\n",
    "### Example 1"
   ]
  },
  {
   "cell_type": "code",
   "execution_count": null,
   "id": "cb98830d",
   "metadata": {
    "language_info": {
     "name": "polyglot-notebook"
    },
    "polyglot_notebook": {
     "kernelName": "csharp"
    }
   },
   "outputs": [],
   "source": [
    "abstract class Shape\n",
    "{\n",
    "  public abstract int GetArea();\n",
    "}\n",
    "\n",
    "class Square : Shape\n",
    "{\n",
    "  private int _side;\n",
    "\n",
    "  public Square(int n) => _side = n;\n",
    "\n",
    "  // GetArea method is required to avoid a compile-time error.\n",
    "  public override int GetArea() => _side * _side;\n",
    "}\n",
    "\n",
    "var sq = new Square(12);\n",
    "Console.WriteLine($\"Area of the square = {sq.GetArea()}\");"
   ]
  },
  {
   "cell_type": "markdown",
   "id": "ad8b201c",
   "metadata": {},
   "source": [
    "### Example 2"
   ]
  },
  {
   "cell_type": "code",
   "execution_count": null,
   "id": "902760f2",
   "metadata": {
    "language_info": {
     "name": "polyglot-notebook"
    },
    "polyglot_notebook": {
     "kernelName": "csharp"
    }
   },
   "outputs": [],
   "source": [
    "abstract class BaseClass\n",
    "{\n",
    "  protected int _x = 100;\n",
    "  protected int _y = 150;\n",
    "\n",
    "  // Abstract method\n",
    "  public abstract void AbstractMethod();\n",
    "\n",
    "  // Abstract properties\n",
    "  public abstract int X { get; }\n",
    "  public abstract int Y { get; }\n",
    "}\n",
    "\n",
    "class DerivedClass : BaseClass\n",
    "{\n",
    "  public override void AbstractMethod()\n",
    "  {\n",
    "    _x++;\n",
    "    _y++;\n",
    "  }\n",
    "\n",
    "  public override int X   // overriding property\n",
    "  {\n",
    "    get\n",
    "    {\n",
    "      return _x + 10;\n",
    "    }\n",
    "  }\n",
    "\n",
    "  public override int Y   // overriding property\n",
    "  {\n",
    "    get\n",
    "    {\n",
    "      return _y + 10;\n",
    "    }\n",
    "  }\n",
    "}\n",
    "\n",
    "var o = new DerivedClass();\n",
    "o.AbstractMethod();\n",
    "Console.WriteLine($\"x = {o.X}, y = {o.Y}\");"
   ]
  },
  {
   "cell_type": "markdown",
   "id": "6048debf",
   "metadata": {},
   "source": [
    "### Example 3"
   ]
  },
  {
   "cell_type": "code",
   "execution_count": null,
   "id": "30975e14",
   "metadata": {
    "language_info": {
     "name": "polyglot-notebook"
    },
    "polyglot_notebook": {
     "kernelName": "csharp"
    }
   },
   "outputs": [],
   "source": [
    "public abstract class Shape\n",
    "{\n",
    "  public string Color { get; set; }\n",
    "\n",
    "  // Constructor of the abstract class\n",
    "  protected Shape(string color)\n",
    "  {\n",
    "    Color = color;\n",
    "    Console.WriteLine($\"Created a shape with color {color}.\");\n",
    "  }\n",
    "\n",
    "  // Abstract method that must be implemented by derived classes\n",
    "  public abstract double CalculateArea();\n",
    "}\n",
    "\n",
    "public class Square : Shape\n",
    "{\n",
    "  public double Side { get; set; }\n",
    "\n",
    "  // Constructor of the derived class calling the base class constructor\n",
    "  public Square(string color, double side) : base(color)\n",
    "  {\n",
    "    Side = side;\n",
    "  }\n",
    "\n",
    "  public override double CalculateArea()\n",
    "  {\n",
    "    return Side * Side;\n",
    "  }\n",
    "}\n",
    "\n",
    "Square square = new Square(\"red\", 5);\n",
    "Console.WriteLine($\"Area of the square: {square.CalculateArea()}\");"
   ]
  },
  {
   "cell_type": "markdown",
   "id": "02adb91e",
   "metadata": {},
   "source": [
    "## Sealed Classes\n",
    "\n",
    "A sealed class cannot be used as a base class.  Because they can never be used as a base class, some run-time optimizations can make calling sealed class members slightly faster."
   ]
  },
  {
   "cell_type": "code",
   "execution_count": null,
   "id": "75eac44a",
   "metadata": {
    "language_info": {
     "name": "polyglot-notebook"
    },
    "polyglot_notebook": {
     "kernelName": "csharp"
    }
   },
   "outputs": [],
   "source": [
    "public class A\n",
    "{\n",
    "  public virtual void DoWork()\n",
    "  {\n",
    "    Console.WriteLine(\"Doing work in A\");\n",
    "  }\n",
    "}\n",
    "\n",
    "public class B : A\n",
    "{\n",
    "  public sealed override void DoWork()\n",
    "  {\n",
    "    Console.WriteLine(\"Doing work in B\");\n",
    "  }\n",
    "}\n",
    "\n",
    "public sealed class C : B\n",
    "{\n",
    "  // Cannot override DoWork here because B's DoWork is sealed.\n",
    "  // public override void DoWork() { } // This would cause a compile error.\n",
    "}"
   ]
  },
  {
   "cell_type": "markdown",
   "id": "e152f2f0",
   "metadata": {},
   "source": [
    "## Static Classes\n",
    "\n",
    "A static class is basically the same as a non-static class, but there's one difference: a static class can't be instantiated. In other words, you can't use the new operator to create a variable of the class type. Because there's no instance variable, you access the members of a static class by using the class name itself. "
   ]
  },
  {
   "cell_type": "code",
   "execution_count": null,
   "metadata": {
    "language_info": {
     "name": "polyglot-notebook"
    },
    "polyglot_notebook": {
     "kernelName": "csharp"
    }
   },
   "outputs": [],
   "source": [
    "public static class TemperatureConverter\n",
    "{\n",
    "  public static double CelsiusToFahrenheit(double celsius)\n",
    "  {\n",
    "    // Convert Celsius to Fahrenheit.\n",
    "    double fahrenheit = (celsius * 9 / 5) + 32;\n",
    "\n",
    "    return fahrenheit;\n",
    "  }\n",
    "}\n",
    "\n",
    "double celsius = 25.0;\n",
    "double fahrenheit = TemperatureConverter.CelsiusToFahrenheit(celsius);\n",
    "Console.WriteLine($\"{celsius}°C is {fahrenheit}°F\");"
   ]
  },
  {
   "cell_type": "markdown",
   "id": "d5dc7c7a",
   "metadata": {},
   "source": [
    "### Static Members\n",
    "\n",
    "A non-static class can contain static methods, fields, properties, or events. The static member is callable on a class even when no instance of the class exists. The static member is always accessed by the class name, not the instance name. Only one copy of a static member exists, regardless of how many instances of the class are created. Static methods and properties can't access non-static fields and events in their containing type, and they can't access an instance variable of any object unless it's explicitly passed in a method parameter."
   ]
  },
  {
   "cell_type": "code",
   "execution_count": null,
   "metadata": {
    "language_info": {
     "name": "polyglot-notebook"
    },
    "polyglot_notebook": {
     "kernelName": "csharp"
    }
   },
   "outputs": [],
   "source": [
    "public class Automobile\n",
    "{\n",
    "  public static int NumberOfWheels = 4;\n",
    "\n",
    "  public static int SizeOfGasTank\n",
    "  {\n",
    "    get\n",
    "    {\n",
    "      return 15;\n",
    "    }\n",
    "  }\n",
    "\n",
    "  public static void Drive() { }\n",
    "\n",
    "  // Other non-static fields and properties...\n",
    "}\n",
    "\n",
    "Automobile.Drive();\n",
    "int i = Automobile.NumberOfWheels;"
   ]
  },
  {
   "cell_type": "markdown",
   "id": "8aa4da15",
   "metadata": {},
   "source": [
    "## Partial Classes\n",
    "\n",
    "It's possible to split the definition of a class, a struct, an interface, or a member over two or more source files. Each source file contains a section of the type or member definition, and all parts are combined when the application is compiled."
   ]
  },
  {
   "cell_type": "code",
   "execution_count": 1,
   "metadata": {
    "language_info": {
     "name": "polyglot-notebook"
    },
    "polyglot_notebook": {
     "kernelName": "csharp"
    }
   },
   "outputs": [
    {
     "name": "stdout",
     "output_type": "stream",
     "text": [
      "Employee is working.\n",
      "Employee is at lunch.\n"
     ]
    }
   ],
   "source": [
    "// This is in Employee_Part1.cs\n",
    "public partial class Employee\n",
    "{\n",
    "  public void DoWork()\n",
    "  {\n",
    "    Console.WriteLine(\"Employee is working.\");\n",
    "  }\n",
    "}\n",
    "\n",
    "// This is in Employee_Part2.cs\n",
    "public partial class Employee\n",
    "{\n",
    "  public void GoToLunch()\n",
    "  {\n",
    "    Console.WriteLine(\"Employee is at lunch.\");\n",
    "  }\n",
    "}\n",
    "\n",
    "//Main program demonstrating the Employee class usage\n",
    "Employee emp = new Employee();\n",
    "emp.DoWork();\n",
    "emp.GoToLunch();"
   ]
  }
 ],
 "metadata": {
  "kernelspec": {
   "display_name": ".NET (C#)",
   "language": "C#",
   "name": ".net-csharp"
  },
  "language_info": {
   "name": "polyglot-notebook"
  },
  "polyglot_notebook": {
   "kernelInfo": {
    "defaultKernelName": "csharp",
    "items": [
     {
      "aliases": [],
      "name": "csharp"
     }
    ]
   }
  }
 },
 "nbformat": 4,
 "nbformat_minor": 5
}
