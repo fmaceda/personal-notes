{
 "cells": [
  {
   "cell_type": "markdown",
   "id": "ea6e9168",
   "metadata": {},
   "source": [
    "# Convert Data Types\n",
    "\n",
    "## Content\n",
    "\n",
    "1. [Casting](#casting)\n",
    "2. [To String](#to-string)\n",
    "3. [Parse](#parse)\n",
    "4. [Try Parse](#tryparse)\n",
    "5. [Convert](#convert)"
   ]
  },
  {
   "cell_type": "markdown",
   "id": "fc757980",
   "metadata": {},
   "source": [
    "## Casting\n",
    "\n",
    "Casting truncates the value."
   ]
  },
  {
   "cell_type": "code",
   "execution_count": 2,
   "metadata": {
    "language_info": {
     "name": "polyglot-notebook"
    },
    "polyglot_notebook": {
     "kernelName": "csharp"
    }
   },
   "outputs": [
    {
     "name": "stdout",
     "output_type": "stream",
     "text": [
      "decimal: 3.14\n",
      "int: 3\n"
     ]
    }
   ],
   "source": [
    "decimal myDecimal = 3.14m;\n",
    "Console.WriteLine($\"decimal: {myDecimal}\");\n",
    "\n",
    "int myInt = (int)myDecimal;\n",
    "Console.WriteLine($\"int: {myInt}\");"
   ]
  },
  {
   "cell_type": "markdown",
   "id": "94206fd9",
   "metadata": {},
   "source": [
    "## To String"
   ]
  },
  {
   "cell_type": "code",
   "execution_count": 3,
   "metadata": {
    "language_info": {
     "name": "polyglot-notebook"
    },
    "polyglot_notebook": {
     "kernelName": "csharp"
    }
   },
   "outputs": [
    {
     "name": "stdout",
     "output_type": "stream",
     "text": [
      "57\r\n"
     ]
    }
   ],
   "source": [
    "int first = 5;\n",
    "int second = 7;\n",
    "string message = first.ToString() + second.ToString();\n",
    "Console.WriteLine(message);"
   ]
  },
  {
   "cell_type": "markdown",
   "id": "85540197",
   "metadata": {},
   "source": [
    "## Parse"
   ]
  },
  {
   "cell_type": "code",
   "execution_count": 8,
   "metadata": {
    "language_info": {
     "name": "polyglot-notebook"
    },
    "polyglot_notebook": {
     "kernelName": "csharp"
    }
   },
   "outputs": [
    {
     "name": "stdout",
     "output_type": "stream",
     "text": [
      "12\r\n"
     ]
    }
   ],
   "source": [
    "string first = \"5\";\n",
    "string second = \"7\";\n",
    "int sum = int.Parse(first) + int.Parse(second);\n",
    "Console.WriteLine(sum);"
   ]
  },
  {
   "cell_type": "markdown",
   "id": "4b156f42",
   "metadata": {},
   "source": [
    "## TryParse"
   ]
  },
  {
   "cell_type": "code",
   "execution_count": 5,
   "metadata": {
    "language_info": {
     "name": "polyglot-notebook"
    },
    "polyglot_notebook": {
     "kernelName": "csharp"
    }
   },
   "outputs": [
    {
     "name": "stdout",
     "output_type": "stream",
     "text": [
      "Measurement: 102\r\n"
     ]
    }
   ],
   "source": [
    "string value = \"102\";\n",
    "int result = 0;\n",
    "if (int.TryParse(value, out result))\n",
    "{\n",
    "  Console.WriteLine($\"Measurement: {result}\");\n",
    "}\n",
    "else\n",
    "{\n",
    "  Console.WriteLine(\"Unable to report the measurement.\");\n",
    "}"
   ]
  },
  {
   "cell_type": "markdown",
   "id": "29ff8429",
   "metadata": {},
   "source": [
    "## Convert"
   ]
  },
  {
   "cell_type": "code",
   "execution_count": 6,
   "metadata": {
    "language_info": {
     "name": "polyglot-notebook"
    },
    "polyglot_notebook": {
     "kernelName": "csharp"
    }
   },
   "outputs": [
    {
     "name": "stdout",
     "output_type": "stream",
     "text": [
      "35\r\n"
     ]
    }
   ],
   "source": [
    "string value1 = \"5\";\n",
    "string value2 = \"7\";\n",
    "int result = Convert.ToInt32(value1) * Convert.ToInt32(value2);\n",
    "Console.WriteLine(result);"
   ]
  }
 ],
 "metadata": {
  "kernelspec": {
   "display_name": ".NET (C#)",
   "language": "C#",
   "name": ".net-csharp"
  },
  "language_info": {
   "name": "polyglot-notebook"
  },
  "polyglot_notebook": {
   "kernelInfo": {
    "defaultKernelName": "csharp",
    "items": [
     {
      "aliases": [],
      "name": "csharp"
     }
    ]
   }
  }
 },
 "nbformat": 4,
 "nbformat_minor": 5
}
