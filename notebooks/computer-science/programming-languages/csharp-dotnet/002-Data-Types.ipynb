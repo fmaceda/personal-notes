{
 "cells": [
  {
   "cell_type": "markdown",
   "id": "ea6e9168",
   "metadata": {},
   "source": [
    "# Data Types\n",
    "\n",
    "## Content\n",
    "\n",
    "1. [Data Types](#data-types)\n",
    "2. [Integer](#integer)\n",
    "3. [Doubles](#doubles)\n",
    "4. [Decimals](#decimals)\n",
    "5. [String](#string)\n",
    "6. [Array](#array)\n",
    "7. [Tuples](#tuples)\n",
    "8. [Generics](#generics)"
   ]
  },
  {
   "cell_type": "markdown",
   "id": "8b4cc578",
   "metadata": {},
   "source": [
    "## Data Types\n",
    "\n",
    "There are two different data types in C#:\n",
    "\n",
    "- **Value Types:** Directly store the data. Once you assign a value, it holds that data\n",
    "  - `int`, `char`, `float` are just a few examples.\n",
    "- **Reference Types:** Store a memory address. They point to the address of the value.\n",
    "  - `string`, `class`, `array` are commonly used.\n",
    "\n",
    "## Integer\n",
    "\n",
    "### Minimum and Maximum Integer Size"
   ]
  },
  {
   "cell_type": "code",
   "execution_count": 1,
   "metadata": {
    "language_info": {
     "name": "polyglot-notebook"
    },
    "polyglot_notebook": {
     "kernelName": "csharp"
    }
   },
   "outputs": [
    {
     "name": "stdout",
     "output_type": "stream",
     "text": [
      "The range of integers is -2147483648 to 2147483647\r\n"
     ]
    }
   ],
   "source": [
    "int max = int.MaxValue;\n",
    "int min = int.MinValue;\n",
    "Console.WriteLine($\"The range of integers is {min} to {max}\");"
   ]
  },
  {
   "cell_type": "markdown",
   "id": "d2f39f68",
   "metadata": {},
   "source": [
    "### Math operations"
   ]
  },
  {
   "cell_type": "code",
   "execution_count": 2,
   "id": "6ed0a4ad",
   "metadata": {
    "polyglot_notebook": {
     "kernelName": "csharp"
    }
   },
   "outputs": [
    {
     "name": "stdout",
     "output_type": "stream",
     "text": [
      "Sum: 12\n",
      "Difference: 2\n",
      "Product: 35\n",
      "Quotient: 1\n",
      "Modulus: 2\n"
     ]
    }
   ],
   "source": [
    "int sum = 7 + 5;\n",
    "int difference = 7 - 5;\n",
    "int product = 7 * 5;\n",
    "int quotient = 7 / 5;\n",
    "int modulus = 7 % 5;\n",
    "\n",
    "Console.WriteLine(\"Sum: \" + sum);\n",
    "Console.WriteLine(\"Difference: \" + difference);\n",
    "Console.WriteLine(\"Product: \" + product);\n",
    "Console.WriteLine(\"Quotient: \" + quotient);\n",
    "Console.WriteLine($\"Modulus: {7 % 5}\");"
   ]
  },
  {
   "cell_type": "markdown",
   "id": "788b82ef",
   "metadata": {},
   "source": [
    "### Order of operations\n",
    "\n",
    "In math, PEMDAS is an acronym that helps students remember the order of operations. The order is:\n",
    "\n",
    "1. Parentheses (whatever is inside the parenthesis is performed first)\n",
    "2. Exponents\n",
    "3. Multiplication and Division (from left to right)\n",
    "4. Addition and Subtraction (from left to right)"
   ]
  },
  {
   "cell_type": "markdown",
   "id": "6bd78d5d",
   "metadata": {},
   "source": [
    "### Increment and decrement"
   ]
  },
  {
   "cell_type": "code",
   "execution_count": 3,
   "id": "b2091b07",
   "metadata": {
    "polyglot_notebook": {
     "kernelName": "csharp"
    }
   },
   "outputs": [
    {
     "name": "stdout",
     "output_type": "stream",
     "text": [
      "First increment: 2\n",
      "Second increment: 3\n",
      "Third increment: 4\n",
      "First decrement: 3\n",
      "Second decrement: 2\n",
      "Third decrement: 1\n"
     ]
    }
   ],
   "source": [
    "int value = 1;\n",
    "\n",
    "value = value + 1;\n",
    "Console.WriteLine(\"First increment: \" + value);\n",
    "\n",
    "value += 1;\n",
    "Console.WriteLine(\"Second increment: \" + value);\n",
    "\n",
    "value++;\n",
    "Console.WriteLine(\"Third increment: \" + value); \n",
    "\n",
    "value = value - 1;\n",
    "Console.WriteLine(\"First decrement: \" + value);\n",
    "\n",
    "value -= 1;\n",
    "Console.WriteLine(\"Second decrement: \" + value);\n",
    "\n",
    "value--;\n",
    "Console.WriteLine(\"Third decrement: \" + value);"
   ]
  },
  {
   "cell_type": "markdown",
   "id": "186240ae",
   "metadata": {},
   "source": [
    "## Doubles \n",
    "\n",
    "### Minimum and Maximum Double Size"
   ]
  },
  {
   "cell_type": "code",
   "execution_count": 4,
   "metadata": {
    "language_info": {
     "name": "polyglot-notebook"
    },
    "polyglot_notebook": {
     "kernelName": "csharp"
    }
   },
   "outputs": [
    {
     "name": "stdout",
     "output_type": "stream",
     "text": [
      "The range of double is -1.7976931348623157E+308 to 1.7976931348623157E+308\r\n"
     ]
    }
   ],
   "source": [
    "double max = double.MaxValue;\n",
    "double min = double.MinValue;\n",
    "Console.WriteLine($\"The range of double is {min} to {max}\");"
   ]
  },
  {
   "cell_type": "markdown",
   "metadata": {
    "language_info": {
     "name": "polyglot-notebook"
    },
    "polyglot_notebook": {
     "kernelName": "csharp"
    }
   },
   "source": [
    "## Decimals\n",
    "\n",
    "### Minimum and Maximum Decimal Size"
   ]
  },
  {
   "cell_type": "code",
   "execution_count": 5,
   "metadata": {
    "language_info": {
     "name": "polyglot-notebook"
    },
    "polyglot_notebook": {
     "kernelName": "csharp"
    }
   },
   "outputs": [
    {
     "name": "stdout",
     "output_type": "stream",
     "text": [
      "The range of the decimal type is -79228162514264337593543950335 to 79228162514264337593543950335\r\n"
     ]
    }
   ],
   "source": [
    "decimal min = decimal.MinValue;\n",
    "decimal max = decimal.MaxValue;\n",
    "Console.WriteLine($\"The range of the decimal type is {min} to {max}\");"
   ]
  },
  {
   "cell_type": "markdown",
   "id": "368e09bf",
   "metadata": {},
   "source": [
    "### Difference with Doubles"
   ]
  },
  {
   "cell_type": "code",
   "execution_count": 13,
   "metadata": {
    "language_info": {
     "name": "polyglot-notebook"
    },
    "polyglot_notebook": {
     "kernelName": "csharp"
    }
   },
   "outputs": [
    {
     "name": "stdout",
     "output_type": "stream",
     "text": [
      "0.3333333333333333\n",
      "0.3333333333333333333333333333\n"
     ]
    }
   ],
   "source": [
    "double a = 1.0;\n",
    "double b = 3.0;\n",
    "Console.WriteLine(a / b);\n",
    "\n",
    "decimal c = 1.0M;\n",
    "decimal d = 3.0M;\n",
    "Console.WriteLine(c / d);"
   ]
  },
  {
   "cell_type": "markdown",
   "id": "c9d3c44a",
   "metadata": {},
   "source": [
    "## String\n",
    "\n",
    "### Combine String using character escape sequences"
   ]
  },
  {
   "cell_type": "code",
   "execution_count": 6,
   "id": "49f338ce",
   "metadata": {
    "polyglot_notebook": {
     "kernelName": "csharp"
    }
   },
   "outputs": [
    {
     "name": "stdout",
     "output_type": "stream",
     "text": [
      "Hello\n",
      "World!\n",
      "Hello\tWorld!\n",
      "Hello \"World\"!\n",
      "c:\\source\\repos\n",
      "    c:\\source\\repos    \n",
      "        (this is where your code goes)\n",
      "こんにちは World!\n"
     ]
    }
   ],
   "source": [
    "// Character escape sequences\n",
    "Console.WriteLine(\"Hello\\nWorld!\");\n",
    "Console.WriteLine(\"Hello\\tWorld!\");\n",
    "Console.WriteLine(\"Hello \\\"World\\\"!\");\n",
    "Console.WriteLine(\"c:\\\\source\\\\repos\");\n",
    "\n",
    "// Verbatim string literal\n",
    "Console.WriteLine(@\"    c:\\source\\repos    \n",
    "        (this is where your code goes)\");\n",
    "\n",
    "// Unicode escape character\n",
    "Console.WriteLine(\"\\u3053\\u3093\\u306B\\u3061\\u306F World!\"); "
   ]
  },
  {
   "cell_type": "markdown",
   "id": "323f728b",
   "metadata": {},
   "source": [
    "### Combine String using string concatenation"
   ]
  },
  {
   "cell_type": "code",
   "execution_count": 7,
   "id": "7074c258",
   "metadata": {
    "polyglot_notebook": {
     "kernelName": "csharp"
    }
   },
   "outputs": [
    {
     "name": "stdout",
     "output_type": "stream",
     "text": [
      "Hello Bob!\r\n"
     ]
    }
   ],
   "source": [
    "string firstName = \"Bob\";\n",
    "string greeting = \"Hello\";\n",
    "string message = greeting + \" \" + firstName + \"!\";\n",
    "Console.WriteLine(message);"
   ]
  },
  {
   "cell_type": "markdown",
   "id": "b38d9346",
   "metadata": {},
   "source": [
    "### Combine String using string interpolation"
   ]
  },
  {
   "cell_type": "code",
   "execution_count": 8,
   "id": "f7459316",
   "metadata": {
    "polyglot_notebook": {
     "kernelName": "csharp"
    }
   },
   "outputs": [
    {
     "name": "stdout",
     "output_type": "stream",
     "text": [
      "Hello Bob!\n",
      "C:\\Output\\First-Project\\Data\n"
     ]
    }
   ],
   "source": [
    "string firstName = \"Bob\";\n",
    "string greeting = \"Hello\";\n",
    "Console.WriteLine($\"{greeting} {firstName}!\");\n",
    "\n",
    "// Combine verbatim literals and string interpolation\n",
    "string projectName = \"First-Project\";\n",
    "Console.WriteLine($@\"C:\\Output\\{projectName}\\Data\");"
   ]
  },
  {
   "cell_type": "markdown",
   "id": "0dc3f69c",
   "metadata": {},
   "source": [
    "## Array\n",
    "\n",
    "### Declaration"
   ]
  },
  {
   "cell_type": "code",
   "execution_count": 9,
   "id": "fd3f9f6f",
   "metadata": {
    "polyglot_notebook": {
     "kernelName": "csharp"
    }
   },
   "outputs": [],
   "source": [
    "string[] customerIds1 = new string[3];\n",
    "string[] customerIds2 = [ \"A123\", \"B456\", \"C789\" ]; // Introduced in C#12\n",
    "string[] customerIds3 = { \"A123\", \"B456\", \"C789\" }; // Older version"
   ]
  },
  {
   "cell_type": "markdown",
   "id": "21ad42ba",
   "metadata": {},
   "source": [
    "### Assigning values"
   ]
  },
  {
   "cell_type": "code",
   "execution_count": 10,
   "metadata": {
    "polyglot_notebook": {
     "kernelName": "csharp"
    }
   },
   "outputs": [],
   "source": [
    "string[] customerIds = new string[3];\n",
    "\n",
    "customerIds[0] = \"C123\";\n",
    "customerIds[1] = \"C456\";\n",
    "customerIds[2] = \"C789\";"
   ]
  },
  {
   "cell_type": "markdown",
   "id": "1af0194c",
   "metadata": {},
   "source": [
    "### Size of the array"
   ]
  },
  {
   "cell_type": "code",
   "execution_count": 11,
   "metadata": {
    "polyglot_notebook": {
     "kernelName": "csharp"
    }
   },
   "outputs": [
    {
     "name": "stdout",
     "output_type": "stream",
     "text": [
      "There are 3 customers.\r\n"
     ]
    }
   ],
   "source": [
    "string[] customerIds = [ \"A123\", \"B456\", \"C789\" ];\n",
    "Console.WriteLine($\"There are {customerIds.Length} customers.\");"
   ]
  },
  {
   "cell_type": "markdown",
   "id": "e282cf37",
   "metadata": {},
   "source": [
    "## Tuples"
   ]
  },
  {
   "cell_type": "code",
   "execution_count": 12,
   "metadata": {
    "polyglot_notebook": {
     "kernelName": "csharp"
    }
   },
   "outputs": [
    {
     "name": "stdout",
     "output_type": "stream",
     "text": [
      "A line from the origin to the point (1, 2) has a slope of 2.\r\n"
     ]
    }
   ],
   "source": [
    "var point = (X: 1, Y: 2);\n",
    "\n",
    "var slope = (double)point.Y / (double)point.X;\n",
    "Console.WriteLine($\"A line from the origin to the point {point} has a slope of {slope}.\");"
   ]
  },
  {
   "cell_type": "markdown",
   "id": "e89b51e6",
   "metadata": {},
   "source": [
    "## Generics\n",
    "\n",
    "Generics introduces the concept of type parameters to .NET. Generics make it possible to design classes and methods that defer the specification of one or more type parameters until you use the class or method in your code. "
   ]
  },
  {
   "cell_type": "code",
   "execution_count": 3,
   "metadata": {
    "language_info": {
     "name": "polyglot-notebook"
    },
    "polyglot_notebook": {
     "kernelName": "csharp"
    }
   },
   "outputs": [
    {
     "name": "stdout",
     "output_type": "stream",
     "text": [
      "Item of type System.Int32 added: 1\n",
      "Item of type System.String added: \n",
      "Item of type Submission#3+ExampleClass added: Submission#3+ExampleClass\n"
     ]
    }
   ],
   "source": [
    "// Declare the generic class.\n",
    "public class GenericList<T>\n",
    "{\n",
    "  public void Add(T item) { \n",
    "    // Implementation for adding an item to the list\n",
    "    Console.WriteLine($\"Item of type {typeof(T)} added: {item}\");\n",
    "  }\n",
    "}\n",
    "\n",
    "public class ExampleClass { }\n",
    "\n",
    "// Create a list of type int.\n",
    "GenericList<int> list1 = new();\n",
    "list1.Add(1);\n",
    "\n",
    "// Create a list of type string.\n",
    "GenericList<string> list2 = new();\n",
    "list2.Add(\"\");\n",
    "\n",
    "// Create a list of type ExampleClass.\n",
    "GenericList<ExampleClass> list3 = new();\n",
    "list3.Add(new ExampleClass());"
   ]
  },
  {
   "cell_type": "markdown",
   "id": "896609df",
   "metadata": {},
   "source": [
    "## Anonymous Types\n",
    "\n",
    "Anonymous types provide a convenient way to encapsulate a set of read-only properties into a single object without having to explicitly define a type first. The type name is generated by the compiler and is not available at the source code level. The type of each property is inferred by the compiler."
   ]
  },
  {
   "cell_type": "code",
   "execution_count": 5,
   "metadata": {
    "language_info": {
     "name": "polyglot-notebook"
    },
    "polyglot_notebook": {
     "kernelName": "csharp"
    }
   },
   "outputs": [
    {
     "name": "stdout",
     "output_type": "stream",
     "text": [
      "108\n",
      "Hello\n"
     ]
    }
   ],
   "source": [
    "var v = new { Amount = 108, Message = \"Hello\" };\n",
    "\n",
    "// Rest the mouse pointer over v.Amount and v.Message in the following\n",
    "// statement to verify that their inferred types are int and string.\n",
    "Console.WriteLine(v.Amount);\n",
    "Console.WriteLine(v.Message);"
   ]
  }
 ],
 "metadata": {
  "kernelspec": {
   "display_name": ".NET (C#)",
   "language": "C#",
   "name": ".net-csharp"
  },
  "language_info": {
   "name": "polyglot-notebook"
  },
  "polyglot_notebook": {
   "kernelInfo": {
    "defaultKernelName": "csharp",
    "items": [
     {
      "aliases": [],
      "name": "csharp"
     }
    ]
   }
  }
 },
 "nbformat": 4,
 "nbformat_minor": 5
}
