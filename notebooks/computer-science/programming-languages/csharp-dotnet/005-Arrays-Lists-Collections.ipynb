{
 "cells": [
  {
   "cell_type": "markdown",
   "id": "33c57cee",
   "metadata": {},
   "source": [
    "# Arrays, Lists, and Collections\n",
    "\n",
    "## Content\n",
    "\n",
    "1. [Arrays](#arrays)\n",
    "2. [Lists](#lists)"
   ]
  },
  {
   "cell_type": "markdown",
   "id": "479792fd",
   "metadata": {},
   "source": [
    "## Arrays\n",
    "\n",
    "Static list of elements. The size is defined at the beginning and cannot be changed."
   ]
  },
  {
   "cell_type": "code",
   "execution_count": 5,
   "metadata": {
    "language_info": {
     "name": "polyglot-notebook"
    },
    "polyglot_notebook": {
     "kernelName": "csharp"
    }
   },
   "outputs": [
    {
     "name": "stdout",
     "output_type": "stream",
     "text": [
      "Hello FERNANDO!\n",
      "Hello ANA!\n",
      "Hello FELIPE!\n",
      "Hello FERNANDO!\n",
      "Hello ANA!\n",
      "Hello FELIPE!\n"
     ]
    }
   ],
   "source": [
    "string[] names = {\"Fernando\", \"Ana\", \"Felipe\"};\n",
    "\n",
    "for (int i = 0; i < names.Length; i++)\n",
    "{\n",
    "  // Prints three items in the list\n",
    "  Console.WriteLine($\"Hello {names[i].ToUpper()}!\");\n",
    "}\n",
    "\n",
    "foreach (var name in names)\n",
    "{\n",
    "  // Prints three items in the list\n",
    "  Console.WriteLine($\"Hello {name.ToUpper()}!\");\n",
    "}"
   ]
  },
  {
   "cell_type": "markdown",
   "id": "d5092ff3",
   "metadata": {},
   "source": [
    "### Adding Elements"
   ]
  },
  {
   "cell_type": "code",
   "execution_count": null,
   "metadata": {
    "language_info": {
     "name": "polyglot-notebook"
    },
    "polyglot_notebook": {
     "kernelName": "csharp"
    }
   },
   "outputs": [],
   "source": [
    "string[] names = [\"Fernando\", \"Ana\", \"Felipe\"];\n",
    "\n",
    "// Adding new elements.\n",
    "names = [..names, \"Maria\"];\n",
    "\n",
    "foreach (var name in names)\n",
    "{\n",
    "  // Prints four items in the list, adding the new two ones and removing one of them.\n",
    "  Console.WriteLine($\"Hello {name.ToUpper()}!\");\n",
    "} "
   ]
  },
  {
   "cell_type": "markdown",
   "id": "a4e17a53",
   "metadata": {},
   "source": [
    "### Ranges in Arrays"
   ]
  },
  {
   "cell_type": "code",
   "execution_count": null,
   "metadata": {
    "language_info": {
     "name": "polyglot-notebook"
    },
    "polyglot_notebook": {
     "kernelName": "csharp"
    }
   },
   "outputs": [],
   "source": [
    "string[] names = [\"Fernando\", \"Ana\", \"Felipe\", \"Maria\", \"Bill\"];\n",
    "\n",
    "// Prints names from the index 2 to index 3 (the right side of the range is not inclusive)\n",
    "foreach (var name in names[2..4]) \n",
    "{\n",
    "  // Prints four items in the list, adding the new two ones and removing one of them.\n",
    "  Console.WriteLine($\"Hello {name.ToUpper()}!\");\n",
    "}\n",
    "\n",
    "// Get's the first one in the list.\n",
    "Console.WriteLine($\"Hello {names[0].ToUpper()}!\");\n",
    "\n",
    "// Get's the first one in the list from the back.\n",
    "Console.WriteLine($\"Hello {names[^1].ToUpper()}!\");"
   ]
  },
  {
   "cell_type": "markdown",
   "id": "53bffb19",
   "metadata": {},
   "source": [
    "## Lists\n",
    "\n",
    "Dynamic list of elements. The size can be changed by adding or removing elements."
   ]
  },
  {
   "cell_type": "code",
   "execution_count": 6,
   "metadata": {
    "language_info": {
     "name": "polyglot-notebook"
    },
    "polyglot_notebook": {
     "kernelName": "csharp"
    }
   },
   "outputs": [
    {
     "name": "stdout",
     "output_type": "stream",
     "text": [
      "Hello FERNANDO!\n",
      "Hello ANA!\n",
      "Hello FELIPE!\n",
      "Hello FERNANDO!\n",
      "Hello ANA!\n",
      "Hello FELIPE!\n"
     ]
    }
   ],
   "source": [
    "using System;\n",
    "using System.Collections.Generic;\n",
    "\n",
    "var names = new List<string> {\"Fernando\", \"Ana\", \"Felipe\"};\n",
    "\n",
    "for (int i = 0; i < names.Count; i++)\n",
    "{\n",
    "  // Prints three items in the list\n",
    "  Console.WriteLine($\"Hello {names[i].ToUpper()}!\");\n",
    "}\n",
    "\n",
    "foreach (var name in names)\n",
    "{\n",
    "  // Prints three items in the list\n",
    "  Console.WriteLine($\"Hello {name.ToUpper()}!\");\n",
    "}\n"
   ]
  },
  {
   "cell_type": "markdown",
   "id": "0b028aa9",
   "metadata": {},
   "source": [
    "### Adding Elements"
   ]
  },
  {
   "cell_type": "code",
   "execution_count": 7,
   "metadata": {
    "language_info": {
     "name": "polyglot-notebook"
    },
    "polyglot_notebook": {
     "kernelName": "csharp"
    }
   },
   "outputs": [
    {
     "name": "stdout",
     "output_type": "stream",
     "text": [
      "Hello FERNANDO!\n",
      "Hello ANA!\n",
      "Hello FELIPE!\n",
      "Hello MARIA!\n",
      "Hello BILL!\n"
     ]
    }
   ],
   "source": [
    "List<string> names = [\"Fernando\", \"Ana\", \"Felipe\"];\n",
    "\n",
    "names.Add(\"Maria\");\n",
    "names.Add(\"Bill\");\n",
    "\n",
    "foreach (var name in names)\n",
    "{\n",
    "  Console.WriteLine($\"Hello {name.ToUpper()}!\");\n",
    "}"
   ]
  },
  {
   "cell_type": "markdown",
   "id": "5859e222",
   "metadata": {},
   "source": [
    "### Removing Elements"
   ]
  },
  {
   "cell_type": "code",
   "execution_count": 8,
   "metadata": {
    "language_info": {
     "name": "polyglot-notebook"
    },
    "polyglot_notebook": {
     "kernelName": "csharp"
    }
   },
   "outputs": [
    {
     "name": "stdout",
     "output_type": "stream",
     "text": [
      "Hello FERNANDO!\n",
      "Hello FELIPE!\n"
     ]
    }
   ],
   "source": [
    "List<string> names = [\"Fernando\", \"Ana\", \"Felipe\"];\n",
    "\n",
    "names.Remove(\"Ana\");\n",
    "\n",
    "foreach (var name in names)\n",
    "{\n",
    "  Console.WriteLine($\"Hello {name.ToUpper()}!\");\n",
    "}"
   ]
  },
  {
   "cell_type": "markdown",
   "id": "c32543f3",
   "metadata": {},
   "source": [
    "### Ranges in Lists"
   ]
  },
  {
   "cell_type": "code",
   "execution_count": 9,
   "metadata": {
    "language_info": {
     "name": "polyglot-notebook"
    },
    "polyglot_notebook": {
     "kernelName": "csharp"
    }
   },
   "outputs": [
    {
     "name": "stdout",
     "output_type": "stream",
     "text": [
      "Hello FELIPE!\n",
      "Hello MARIA!\n",
      "Hello FERNANDO!\n",
      "Hello BILL!\n"
     ]
    }
   ],
   "source": [
    "List<string> names = [\"Fernando\", \"Ana\", \"Felipe\", \"Maria\", \"Bill\"];\n",
    "\n",
    "// Prints names from the index 2 to index 3 (the right side of the range is not inclusive)\n",
    "foreach (var name in names[2..4]) \n",
    "{\n",
    "  // Prints four items in the list, adding the new two ones and removing one of them.\n",
    "  Console.WriteLine($\"Hello {name.ToUpper()}!\");\n",
    "}\n",
    "\n",
    "// Get's the first one in the list.\n",
    "Console.WriteLine($\"Hello {names[0].ToUpper()}!\");\n",
    "\n",
    "// Get's the first one in the list from the back.\n",
    "Console.WriteLine($\"Hello {names[^1].ToUpper()}!\");"
   ]
  }
 ],
 "metadata": {
  "kernelspec": {
   "display_name": ".NET (C#)",
   "language": "C#",
   "name": ".net-csharp"
  },
  "language_info": {
   "name": "polyglot-notebook"
  },
  "polyglot_notebook": {
   "kernelInfo": {
    "defaultKernelName": "csharp",
    "items": [
     {
      "aliases": [],
      "name": "csharp"
     }
    ]
   }
  }
 },
 "nbformat": 4,
 "nbformat_minor": 5
}
