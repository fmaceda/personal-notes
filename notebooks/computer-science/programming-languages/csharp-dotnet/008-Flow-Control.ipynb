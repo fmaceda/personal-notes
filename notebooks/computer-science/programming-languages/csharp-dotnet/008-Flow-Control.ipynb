{
 "cells": [
  {
   "cell_type": "markdown",
   "id": "33c57cee",
   "metadata": {},
   "source": [
    "# Flow Control\n",
    "\n",
    "## Content\n",
    "\n",
    "1. [Conditions](#con)\n",
    "2. [Switch Case](#switch-case)\n",
    "3. [Foreach Loop](#foreach-loop)\n",
    "4. [For Loop](#for-loop)\n",
    "5. [Do While Loop](#do-while-loop)\n",
    "6. [While Loop](#while-loop)\n"
   ]
  },
  {
   "cell_type": "markdown",
   "id": "7f03ff90",
   "metadata": {},
   "source": [
    "## Conditions\n",
    "\n",
    "### if-else operator"
   ]
  },
  {
   "cell_type": "code",
   "execution_count": 7,
   "id": "6cec63b8",
   "metadata": {
    "language_info": {
     "name": "polyglot-notebook"
    },
    "polyglot_notebook": {
     "kernelName": "csharp"
    }
   },
   "outputs": [
    {
     "name": "stdout",
     "output_type": "stream",
     "text": [
      "It's black.\r\n"
     ]
    }
   ],
   "source": [
    "string color = \"black\";\n",
    "\n",
    "if (color == \"black\")\n",
    "{\n",
    "  Console.WriteLine(\"It's black.\");\n",
    "}\n",
    "else if (color == \"white\")\n",
    "{\n",
    "  Console.WriteLine(\"It's white.\");\n",
    "}\n",
    "else {\n",
    "  Console.WriteLine(\"It's other color.\");\n",
    "}"
   ]
  },
  {
   "cell_type": "markdown",
   "id": "f9a80a58",
   "metadata": {},
   "source": [
    "### Conditional Operator"
   ]
  },
  {
   "cell_type": "code",
   "execution_count": 8,
   "id": "d707240f",
   "metadata": {
    "language_info": {
     "name": "polyglot-notebook"
    },
    "polyglot_notebook": {
     "kernelName": "csharp"
    }
   },
   "outputs": [
    {
     "name": "stdout",
     "output_type": "stream",
     "text": [
      "Discount: 100\r\n"
     ]
    }
   ],
   "source": [
    "int saleAmount = 1001;\n",
    "int discount = saleAmount > 1000 ? 100 : 50;\n",
    "Console.WriteLine($\"Discount: {discount}\");"
   ]
  },
  {
   "cell_type": "markdown",
   "id": "be2fd572",
   "metadata": {},
   "source": [
    "### Scope using if code blocks"
   ]
  },
  {
   "cell_type": "code",
   "execution_count": 9,
   "id": "d8d6997e",
   "metadata": {
    "language_info": {
     "name": "polyglot-notebook"
    },
    "polyglot_notebook": {
     "kernelName": "csharp"
    }
   },
   "outputs": [
    {
     "name": "stdout",
     "output_type": "stream",
     "text": [
      "Inside the code block: 10\r\n"
     ]
    }
   ],
   "source": [
    "bool flag = true;\n",
    "if (flag)\n",
    "{\n",
    "  int value = 10;\n",
    "  Console.WriteLine($\"Inside the code block: {value}\");\n",
    "}\n",
    "// The following line gives error because value is declared inside the if code block.\n",
    "// Console.WriteLine($\"Outside the code block: {value}\");"
   ]
  },
  {
   "cell_type": "markdown",
   "id": "a435febd",
   "metadata": {},
   "source": [
    "## Switch Case"
   ]
  },
  {
   "cell_type": "code",
   "execution_count": 10,
   "id": "30d41436",
   "metadata": {
    "language_info": {
     "name": "polyglot-notebook"
    },
    "polyglot_notebook": {
     "kernelName": "csharp"
    }
   },
   "outputs": [
    {
     "name": "stdout",
     "output_type": "stream",
     "text": [
      "App will display information for apple.\r\n"
     ]
    }
   ],
   "source": [
    "string fruit = \"apple\";\n",
    "\n",
    "switch (fruit)\n",
    "{\n",
    "  case \"apple\":\n",
    "    Console.WriteLine($\"App will display information for apple.\");\n",
    "    break;\n",
    "  case \"banana\":\n",
    "    Console.WriteLine($\"App will display information for banana.\");\n",
    "    break;\n",
    "  case \"cherry\":\n",
    "    Console.WriteLine($\"App will display information for cherry.\");\n",
    "    break;\n",
    "  default:\n",
    "    Console.WriteLine($\"App will not display information about any fruit.\");\n",
    "    break;\n",
    "}"
   ]
  },
  {
   "cell_type": "markdown",
   "id": "53ae4214",
   "metadata": {},
   "source": [
    "## Foreach Loop"
   ]
  },
  {
   "cell_type": "code",
   "execution_count": 11,
   "id": "73a7c80d",
   "metadata": {
    "language_info": {
     "name": "polyglot-notebook"
    },
    "polyglot_notebook": {
     "kernelName": "csharp"
    }
   },
   "outputs": [
    {
     "name": "stdout",
     "output_type": "stream",
     "text": [
      "Rowena\n",
      "Robin\n",
      "Bao\n"
     ]
    }
   ],
   "source": [
    "string[] names = { \"Rowena\", \"Robin\", \"Bao\" };\n",
    "\n",
    "foreach (string name in names)\n",
    "{\n",
    "  Console.WriteLine(name); // \"Rowena\", \"Robin\", \"Bao\"\n",
    "}"
   ]
  },
  {
   "cell_type": "markdown",
   "id": "9df4632d",
   "metadata": {},
   "source": [
    "## For Loop"
   ]
  },
  {
   "cell_type": "code",
   "execution_count": 12,
   "id": "b1a6883f",
   "metadata": {
    "language_info": {
     "name": "polyglot-notebook"
    },
    "polyglot_notebook": {
     "kernelName": "csharp"
    }
   },
   "outputs": [
    {
     "name": "stdout",
     "output_type": "stream",
     "text": [
      "0\n",
      "1\n",
      "2\n",
      "3\n",
      "4\n",
      "5\n"
     ]
    }
   ],
   "source": [
    "for (int i = 0; i < 10; i++)\n",
    "{\n",
    "  if (i > 5) {\n",
    "    break;\n",
    "  }\n",
    "  Console.WriteLine(i); // 1, 2, 3, 4, 5\n",
    "}"
   ]
  },
  {
   "cell_type": "markdown",
   "id": "bdea0756",
   "metadata": {},
   "source": [
    "## Do While Loop"
   ]
  },
  {
   "cell_type": "code",
   "execution_count": 13,
   "id": "e704668d",
   "metadata": {
    "language_info": {
     "name": "polyglot-notebook"
    },
    "polyglot_notebook": {
     "kernelName": "csharp"
    }
   },
   "outputs": [
    {
     "name": "stdout",
     "output_type": "stream",
     "text": [
      "4\n",
      "4\n",
      "3\n",
      "4\n",
      "6\n",
      "3\n",
      "5\n",
      "3\n",
      "5\n",
      "3\n",
      "2\n",
      "4\n",
      "2\n",
      "5\n",
      "6\n",
      "7\n"
     ]
    }
   ],
   "source": [
    "Random random = new Random();\n",
    "int current = 0;\n",
    "\n",
    "do\n",
    "{\n",
    "  current = random.Next(1, 11);\n",
    "  \n",
    "  if (current >= 8) {\n",
    "    continue;\n",
    "  }\n",
    "  \n",
    "  Console.WriteLine(current);\n",
    "} while (current != 7);"
   ]
  },
  {
   "cell_type": "markdown",
   "id": "cd6506f6",
   "metadata": {},
   "source": [
    "## While Loop"
   ]
  },
  {
   "cell_type": "code",
   "execution_count": 14,
   "id": "2024c3ac",
   "metadata": {
    "language_info": {
     "name": "polyglot-notebook"
    },
    "polyglot_notebook": {
     "kernelName": "csharp"
    }
   },
   "outputs": [
    {
     "name": "stdout",
     "output_type": "stream",
     "text": [
      "5\n",
      "3\n",
      "Last number: 2\n"
     ]
    }
   ],
   "source": [
    "Random random = new Random();\n",
    "int current = random.Next(1, 11);\n",
    "\n",
    "while (current >= 3)\n",
    "{\n",
    "  Console.WriteLine(current);\n",
    "  current = random.Next(1, 11);\n",
    "}\n",
    "Console.WriteLine($\"Last number: {current}\");"
   ]
  }
 ],
 "metadata": {
  "kernelspec": {
   "display_name": ".NET (C#)",
   "language": "C#",
   "name": ".net-csharp"
  },
  "language_info": {
   "name": "polyglot-notebook"
  },
  "polyglot_notebook": {
   "kernelInfo": {
    "defaultKernelName": "csharp",
    "items": [
     {
      "aliases": [],
      "name": "csharp"
     }
    ]
   }
  }
 },
 "nbformat": 4,
 "nbformat_minor": 5
}
