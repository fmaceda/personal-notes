{
 "cells": [
  {
   "cell_type": "markdown",
   "id": "9ad21487",
   "metadata": {},
   "source": [
    "# Phase 1: Foundation building"
   ]
  },
  {
   "cell_type": "markdown",
   "id": "8258d221",
   "metadata": {},
   "source": [
    "## C# Fundamentals & Basic Data Structures"
   ]
  },
  {
   "cell_type": "markdown",
   "id": "e9ad78f8",
   "metadata": {},
   "source": [
    "### 📚 C# Collections Framework Deep Dive**"
   ]
  },
  {
   "cell_type": "markdown",
   "id": "f521c3b7",
   "metadata": {},
   "source": [
    "#### **Official Microsoft Documentation**\n",
    "- **C# Collections Overview**: https://docs.microsoft.com/en-us/dotnet/csharp/programming-guide/concepts/collections\n",
    "- **System.Collections.Generic**: https://docs.microsoft.com/en-us/dotnet/api/system.collections.generic\n",
    "- **Performance Considerations**: https://docs.microsoft.com/en-us/dotnet/standard/collections/when-to-use-generic-collections"
   ]
  },
  {
   "cell_type": "markdown",
   "id": "4a32c1a8",
   "metadata": {},
   "source": [
    "\n",
    "#### **Books & Articles**\n",
    "1. **\"C# 12 in a Nutshell\" by Joseph Albahari**\n",
    "   - Chapter 7: Collections\n",
    "   - Chapter 19: Reflection and Metadata\n",
    "\n",
    "2. **\"Effective C#\" by Bill Wagner**\n",
    "   - Item 8: Prefer Generic Collection Interfaces\n",
    "   - Item 9: Consider Using Generic Type Parameters\n",
    "\n",
    "3. **Jon Skeet's Articles**\n",
    "   - \"C# Collections - A Complete Guide\": https://codeblog.jonskeet.uk/\n",
    "   - \"Generic Collections in .NET\": Deep dive series"
   ]
  },
  {
   "cell_type": "markdown",
   "id": "85d8d4d1",
   "metadata": {},
   "source": [
    "#### **Video Tutorials**\n",
    "1. **Nick Chapsas YouTube Channel**\n",
    "   - \"The Complete Guide to C# Collections\" (45 min)\n",
    "   - \"Dictionary vs HashSet: Performance Comparison\" (15 min)\n",
    "   - \"When to Use List vs Array in C#\" (20 min)\n",
    "\n",
    "2. **Tim Corey - IAmTimCorey**\n",
    "   - \"C# Collections - List, Dictionary, HashSet\" (1 hour)\n",
    "   - \"Understanding IEnumerable in C#\" (30 min)\n",
    "\n",
    "3. **Pluralsight Courses**\n",
    "   - \"C# Collections Fundamentals\" by Simon Robinson\n",
    "   - \"Working with Collections in C#\" by Scott Allen"
   ]
  },
  {
   "cell_type": "markdown",
   "id": "2904e11a",
   "metadata": {},
   "source": [
    "#### **Hands-On Practice**"
   ]
  },
  {
   "cell_type": "code",
   "execution_count": 2,
   "id": "4c11d795",
   "metadata": {
    "language_info": {
     "name": "polyglot-notebook"
    },
    "polyglot_notebook": {
     "kernelName": "csharp"
    }
   },
   "outputs": [
    {
     "name": "stdout",
     "output_type": "stream",
     "text": [
      "Operation took: 0ms\r\n"
     ]
    }
   ],
   "source": [
    "// Essential Collection Operations to Master\n",
    "var list = new List<int> { 1, 2, 3, 4, 5 };\n",
    "var dict = new Dictionary<string, int>();\n",
    "var hashSet = new HashSet<int>();\n",
    "var queue = new Queue<string>();\n",
    "var stack = new Stack<int>();\n",
    "\n",
    "// Performance testing template\n",
    "var stopwatch = System.Diagnostics.Stopwatch.StartNew();\n",
    "// Your operation here\n",
    "stopwatch.Stop();\n",
    "Console.WriteLine($\"Operation took: {stopwatch.ElapsedMilliseconds}ms\");"
   ]
  },
  {
   "cell_type": "markdown",
   "id": "254c00bb",
   "metadata": {},
   "source": [
    "#### **Interactive Learning**\n",
    "- **LeetCode**: Create account and solve these specific problems:\n",
    "  - Contains Duplicate (Easy) - HashSet practice\n",
    "  - Two Sum (Easy) - Dictionary practice\n",
    "  - Valid Anagram (Easy) - Dictionary/Array practice"
   ]
  },
  {
   "cell_type": "markdown",
   "id": "36476ce0",
   "metadata": {},
   "source": [
    "### 📊 **Time & Space Complexity Analysis**"
   ]
  },
  {
   "cell_type": "markdown",
   "id": "1dd8b4be",
   "metadata": {},
   "source": [
    "#### **Core Resources**\n",
    "1. **\"Introduction to Algorithms\" by CLRS**\n",
    "   - Chapter 3: Growth of Functions\n",
    "   - Chapter 4: Divide-and-Conquer\n",
    "\n",
    "2. **Online Courses**\n",
    "   - **Khan Academy**: \"Algorithms\" - Big O Notation section\n",
    "   - **Coursera**: \"Algorithms Part I\" by Princeton University (Week 1)\n",
    "   - **MIT OpenCourseWare**: \"Introduction to Algorithms\" (Lecture 1-3)"
   ]
  },
  {
   "cell_type": "markdown",
   "id": "4a0c5daf",
   "metadata": {},
   "source": [
    "#### **Interactive Visualizations**\n",
    "1. **Big O Cheat Sheet**: https://www.bigocheatsheet.com/\n",
    "2. **VisuAlgo**: https://visualgo.net/en/recursion\n",
    "3. **Algorithm Visualizer**: https://algorithm-visualizer.org/"
   ]
  },
  {
   "cell_type": "markdown",
   "id": "658e4514",
   "metadata": {},
   "source": [
    "#### **YouTube Channels**\n",
    "1. **Abdul Bari**\n",
    "   - \"Asymptotic Notations Big O, Omega, Theta\" (25 min)\n",
    "   - \"How to Analyze Time Complexity\" (30 min)\n",
    "\n",
    "2. **CS Dojo**\n",
    "   - \"Introduction to Big O Notation\" (15 min)\n",
    "   - \"Big O Notation - Full Course\" (45 min)"
   ]
  },
  {
   "cell_type": "markdown",
   "id": "71e4ea7a",
   "metadata": {},
   "source": [
    "#### **Practice Problems**\n",
    "```csharp\n",
    "// Analyze the time complexity of these operations:\n",
    "// 1. List<T>.Add() - O(1) amortized\n",
    "// 2. Dictionary<K,V>.ContainsKey() - O(1) average\n",
    "// 3. Array.Sort() - O(n log n)\n",
    "// 4. HashSet<T>.Contains() - O(1) average\n",
    "```"
   ]
  },
  {
   "cell_type": "markdown",
   "id": "c02fa089",
   "metadata": {},
   "source": [
    "### 🎯 Arrays & Strings (20 Problems)**"
   ]
  },
  {
   "cell_type": "markdown",
   "id": "b1ea80f9",
   "metadata": {},
   "source": [
    "#### **LeetCode Problem List (Arrays)**\n",
    "**Easy Problems (8 problems)**\n",
    "1. **Two Sum** (#1) - Hash table technique\n",
    "2. **Best Time to Buy and Sell Stock** (#121) - Single pass algorithm\n",
    "3. **Contains Duplicate** (#217) - Hash set usage\n",
    "4. **Product of Array Except Self** (#238) - Left/right pass technique\n",
    "5. **Maximum Subarray** (#53) - Kadane's algorithm\n",
    "6. **Move Zeroes** (#283) - Two pointers\n",
    "7. **Find All Numbers Disappeared in Array** (#448) - Array manipulation\n",
    "8. **Single Number** (#136) - Bit manipulation\n",
    "\n",
    "**Medium Problems (12 problems)**\n",
    "1. **Three Sum** (#15) - Two pointers after sorting\n",
    "2. **Container With Most Water** (#11) - Two pointers technique\n",
    "3. **Rotate Array** (#189) - Array rotation algorithms\n",
    "4. **Find First and Last Position** (#34) - Binary search variation\n",
    "5. **Spiral Matrix** (#54) - Matrix traversal\n",
    "6. **Merge Intervals** (#56) - Interval problems\n",
    "7. **Set Matrix Zeroes** (#73) - Matrix manipulation\n",
    "8. **Sort Colors** (#75) - Dutch national flag\n",
    "9. **Remove Duplicates from Sorted Array II** (#80) - Two pointers\n",
    "10. **Search in Rotated Sorted Array** (#33) - Modified binary search\n",
    "11. **Next Permutation** (#31) - Array manipulation\n",
    "12. **Trapping Rain Water** (#42) - Two pointers/stack"
   ]
  },
  {
   "cell_type": "markdown",
   "id": "e67bc912",
   "metadata": {},
   "source": [
    "#### **String Problems**\n",
    "**Easy Problems (5 problems)**\n",
    "1. **Valid Palindrome** (#125) - Two pointers\n",
    "2. **Valid Anagram** (#242) - Hash table/sorting\n",
    "3. **Longest Common Prefix** (#14) - String comparison\n",
    "4. **Reverse String** (#344) - Two pointers\n",
    "5. **First Unique Character** (#387) - Hash table\n",
    "\n",
    "**Medium Problems (7 problems)**\n",
    "1. **Longest Substring Without Repeating Characters** (#3) - Sliding window\n",
    "2. **Group Anagrams** (#49) - Hash table with sorting\n",
    "3. **Longest Palindromic Substring** (#5) - Dynamic programming\n",
    "4. **Palindromic Substrings** (#647) - String manipulation\n",
    "5. **Minimum Window Substring** (#76) - Sliding window\n",
    "6. **Valid Parentheses** (#20) - Stack usage\n",
    "7. **Generate Parentheses** (#22) - Backtracking"
   ]
  },
  {
   "cell_type": "markdown",
   "id": "8970ba25",
   "metadata": {},
   "source": [
    "#### **Learning Resources**\n",
    "\n",
    "**Books**\n",
    "1. **\"Cracking the Coding Interview\"** - Chapter 1 (Arrays and Strings)\n",
    "2. **\"Elements of Programming Interviews in Java\"** - Chapter 6 (Arrays) and Chapter 7 (Strings)\n",
    "\n",
    "**Video Tutorials**\n",
    "1. **Back to Back SWE**\n",
    "   - \"Arrays and Strings Playlist\" (15 videos)\n",
    "   - \"Two Pointers Technique Explained\" (20 min)\n",
    "\n",
    "2. **Tech With Tim**\n",
    "   - \"Sliding Window Algorithm\" (25 min)\n",
    "   - \"String Manipulation in Programming Interviews\" (30 min)\n",
    "\n",
    "**Interactive Practice Platforms**\n",
    "1. **HackerRank**\n",
    "   - Arrays domain: https://www.hackerrank.com/domains/algorithms?filters%5Bsubdomains%5D%5B%5D=arrays\n",
    "   - Strings domain: https://www.hackerrank.com/domains/algorithms?filters%5Bsubdomains%5D%5B%5D=strings\n",
    "\n",
    "2. **CodeSignal**\n",
    "   - Arrays and Strings challenges"
   ]
  },
  {
   "cell_type": "markdown",
   "id": "31c87fba",
   "metadata": {},
   "source": [
    "#### **C# Specific Tips & Patterns**"
   ]
  },
  {
   "cell_type": "code",
   "execution_count": null,
   "id": "87b1fa08",
   "metadata": {},
   "outputs": [],
   "source": [
    "// StringBuilder for efficient string building\n",
    "var sb = new StringBuilder();\n",
    "sb.Append(\"Hello\");\n",
    "sb.Append(\" World\");\n",
    "string result = sb.ToString();\n",
    "\n",
    "// Array.Sort with custom comparer\n",
    "var intervals = new int[][] { [1, 3], [2, 4], [5, 7] };\n",
    "Array.Sort(intervals, (a, b) => a[0].CompareTo(b[0]));\n",
    "\n",
    "// String manipulation\n",
    "string s = \"hello\";\n",
    "char[] chars = s.ToCharArray(); // For in-place modification\n",
    "Array.Reverse(chars);\n",
    "string reversed = new string(chars);\n",
    "\n",
    "// Two pointers template\n",
    "int[] nums = { 1, 2, 3, 4, 5 };\n",
    "int left = 0, right = nums.Length - 1;\n",
    "while (left < right) {\n",
    "    // Process nums[left] and nums[right]\n",
    "    left++;\n",
    "    right--;\n",
    "}\n",
    "\n",
    "// Sliding window template\n",
    "int windowStart = 0, maxLength = 0;\n",
    "for (int windowEnd = 0; windowEnd < s.Length; windowEnd++) {\n",
    "    // Expand window by including s[windowEnd]\n",
    "    \n",
    "    // Contract window if needed\n",
    "    while (windowStart <= windowEnd && /* some condition */) {\n",
    "        windowStart++;\n",
    "    }\n",
    "    \n",
    "    maxLength = Math.Max(maxLength, windowEnd - windowStart + 1);\n",
    "}"
   ]
  },
  {
   "cell_type": "markdown",
   "id": "e6524d95",
   "metadata": {},
   "source": [
    "### 🛠️ **Development Environment Setup**"
   ]
  },
  {
   "cell_type": "markdown",
   "id": "1129fefe",
   "metadata": {},
   "source": [
    "#### **VS Code Extensions**\n",
    "1. **C# for Visual Studio Code** - Microsoft\n",
    "2. **LeetCode** - LeetCode extension for VS Code\n",
    "3. **Code Runner** - For quick code execution\n",
    "4. **Bracket Pair Colorizer** - Better code visualization\n",
    "5. **GitLens** - Git integration"
   ]
  },
  {
   "cell_type": "markdown",
   "id": "63e7a865",
   "metadata": {},
   "source": [
    "#### **NuGet Packages for Testing**\n",
    "```xml\n",
    "<PackageReference Include=\"Microsoft.NET.Test.Sdk\" Version=\"17.6.0\" />\n",
    "<PackageReference Include=\"NUnit\" Version=\"3.13.3\" />\n",
    "<PackageReference Include=\"NUnit3TestAdapter\" Version=\"4.5.0\" />\n",
    "```"
   ]
  },
  {
   "cell_type": "markdown",
   "id": "370d7e42",
   "metadata": {},
   "source": [
    "#### **Project Template**\n",
    "```bash\n",
    "# Create a new console application\n",
    "dotnet new console -n DSA_Month1_Practice\n",
    "cd DSA_Month1_Practice\n",
    "\n",
    "# Add testing framework\n",
    "dotnet add package NUnit\n",
    "dotnet add package NUnit3TestAdapter\n",
    "dotnet add package Microsoft.NET.Test.Sdk\n",
    "```\n",
    "\n",
    "```csharp\n",
    "// Sample test structure\n",
    "[Test]\n",
    "public void TwoSum_ValidInput_ReturnsCorrectIndices()\n",
    "{\n",
    "    // Arrange\n",
    "    int[] nums = { 2, 7, 11, 15 };\n",
    "    int target = 9;\n",
    "    \n",
    "    // Act\n",
    "    int[] result = TwoSum(nums, target);\n",
    "    \n",
    "    // Assert\n",
    "    Assert.AreEqual(new int[] { 0, 1 }, result);\n",
    "}\n",
    "```"
   ]
  },
  {
   "cell_type": "markdown",
   "id": "2ba866c5",
   "metadata": {},
   "source": [
    "### 📅 **Week-by-Week Study Plan**"
   ]
  },
  {
   "cell_type": "markdown",
   "id": "44001661",
   "metadata": {},
   "source": [
    "#### **Week 1 (Days 1-7)**\n",
    "**Monday**: C# Collections overview (2 hours)\n",
    "- Read Microsoft documentation\n",
    "- Watch Nick Chapsas video on collections\n",
    "\n",
    "**Tuesday**: List<T> and Array deep dive (2 hours)\n",
    "- Performance comparisons\n",
    "- When to use each\n",
    "- Solve: Contains Duplicate, Two Sum\n",
    "\n",
    "**Wednesday**: Dictionary and HashSet (2 hours)\n",
    "- Implementation details\n",
    "- Hash functions in C#\n",
    "- Solve: Valid Anagram, Group Anagrams\n",
    "\n",
    "**Thursday**: Queue and Stack (2 hours)\n",
    "- FIFO vs LIFO concepts\n",
    "- C# implementations\n",
    "- Solve: Valid Parentheses\n",
    "\n",
    "**Friday**: Review and practice (2 hours)\n",
    "- Implement custom collection classes\n",
    "- Performance testing\n",
    "\n",
    "**Weekend**: Extended practice (3-4 hours)\n",
    "- Mixed problems from week's topics\n",
    "- Code review and optimization"
   ]
  },
  {
   "cell_type": "markdown",
   "id": "2813f7f2",
   "metadata": {},
   "source": [
    "#### **Week 2 (Days 8-14)**\n",
    "**Monday**: Big O notation theory (2 hours)\n",
    "- Watch Abdul Bari videos\n",
    "- Practice analyzing simple algorithms\n",
    "\n",
    "**Tuesday**: Amortized analysis (2 hours)\n",
    "- Dynamic array growth\n",
    "- Hash table resizing\n",
    "- Analyze Collection operations\n",
    "\n",
    "**Wednesday**: Space complexity (2 hours)\n",
    "- Memory usage patterns\n",
    "- Garbage collection impact\n",
    "- Profile C# applications\n",
    "\n",
    "**Thursday**: Practical complexity analysis (2 hours)\n",
    "- Analyze LeetCode solutions\n",
    "- Compare different approaches\n",
    "\n",
    "**Friday**: Review and testing (2 hours)\n",
    "- Create complexity analysis cheat sheet\n",
    "- Practice problems\n",
    "\n",
    "**Weekend**: Mixed practice (3-4 hours)\n",
    "- Solve problems and analyze complexity\n",
    "- Prepare for arrays/strings topics"
   ]
  },
  {
   "cell_type": "markdown",
   "id": "34dfa995",
   "metadata": {},
   "source": [
    "#### **Week 3 (Days 15-21)**\n",
    "**Monday**: Array fundamentals (2.5 hours)\n",
    "- Array operations and techniques\n",
    "- Solve: Best Time to Buy and Sell Stock, Maximum Subarray\n",
    "\n",
    "**Tuesday**: Two pointers technique (2.5 hours)\n",
    "- Pattern recognition\n",
    "- Solve: Container With Most Water, Move Zeroes\n",
    "\n",
    "**Wednesday**: Array rotation and manipulation (2.5 hours)\n",
    "- In-place algorithms\n",
    "- Solve: Rotate Array, Product of Array Except Self\n",
    "\n",
    "**Thursday**: Advanced array problems (2.5 hours)\n",
    "- Multiple techniques combination\n",
    "- Solve: Three Sum, Trapping Rain Water\n",
    "\n",
    "**Friday**: Review and optimization (2 hours)\n",
    "- Code review session\n",
    "- Alternative solutions\n",
    "\n",
    "**Weekend**: Extended practice (4 hours)\n",
    "- Hard array problems\n",
    "- Mock interview with arrays"
   ]
  },
  {
   "cell_type": "markdown",
   "id": "54bfb8e5",
   "metadata": {},
   "source": [
    "#### **Week 4 (Days 22-28)**\n",
    "**Monday**: String basics and manipulation (2.5 hours)\n",
    "- StringBuilder usage\n",
    "- Solve: Valid Palindrome, Reverse String\n",
    "\n",
    "**Tuesday**: Sliding window technique (2.5 hours)\n",
    "- Template and variations\n",
    "- Solve: Longest Substring Without Repeating Characters\n",
    "\n",
    "**Wednesday**: String matching and patterns (2.5 hours)\n",
    "- Hash table applications\n",
    "- Solve: Group Anagrams, First Unique Character\n",
    "\n",
    "**Thursday**: Advanced string problems (2.5 hours)\n",
    "- Dynamic programming introduction\n",
    "- Solve: Longest Palindromic Substring\n",
    "\n",
    "**Friday**: Review and integration (2 hours)\n",
    "- Arrays + strings problems\n",
    "- Pattern recognition practice\n",
    "\n",
    "**Weekend**: Assessment and preparation (4 hours)\n",
    "- Mock interview session\n",
    "- Prepare for Month 2 topics"
   ]
  },
  {
   "cell_type": "markdown",
   "id": "45be4c62",
   "metadata": {},
   "source": [
    "### 🎯 **Success Metrics for Month 1**"
   ]
  },
  {
   "cell_type": "markdown",
   "id": "4ef9e98d",
   "metadata": {},
   "source": [
    "#### **Technical Goals**\n",
    "- [ ] Understand all C# collection types and their performance characteristics\n",
    "- [ ] Can analyze time and space complexity of any algorithm\n",
    "- [ ] Solve 80% of easy array/string problems in under 20 minutes\n",
    "- [ ] Solve 60% of medium array/string problems in under 35 minutes\n",
    "- [ ] Implement basic data structures from scratch"
   ]
  },
  {
   "cell_type": "markdown",
   "id": "7fc4218f",
   "metadata": {},
   "source": [
    "#### **Problem-Solving Goals**\n",
    "- [ ] Recognize two pointers pattern immediately\n",
    "- [ ] Apply sliding window technique correctly\n",
    "- [ ] Choose appropriate data structures for problems\n",
    "- [ ] Write clean, readable C# code with proper naming\n",
    "- [ ] Handle edge cases consistently"
   ]
  },
  {
   "cell_type": "markdown",
   "id": "6f2690de",
   "metadata": {},
   "source": [
    "#### **Knowledge Checks**\n",
    "- [ ] Can explain why HashSet.Contains() is O(1)\n",
    "- [ ] Understand when List<T> reallocates memory\n",
    "- [ ] Know the difference between Array.Sort() and custom sorting\n",
    "- [ ] Can optimize space complexity using in-place algorithms\n",
    "- [ ] Understand StringBuilder vs string concatenation performance"
   ]
  },
  {
   "cell_type": "markdown",
   "id": "5cd1d00e",
   "metadata": {},
   "source": [
    "\n",
    "### 📝 **Monthly Review Template**\n",
    "\n",
    "At the end of Month 1, evaluate your progress:"
   ]
  },
  {
   "cell_type": "markdown",
   "id": "7082ade1",
   "metadata": {},
   "source": [
    "#### **Strengths Identified**\n",
    "- What concepts came naturally?\n",
    "- Which problem types were easy to solve?\n",
    "- What C# features helped most?"
   ]
  },
  {
   "cell_type": "markdown",
   "id": "1fc6353b",
   "metadata": {},
   "source": [
    "#### **Areas for Improvement**\n",
    "- Which topics need more practice?\n",
    "- What problem patterns were challenging?\n",
    "- Time management issues?"
   ]
  },
  {
   "cell_type": "markdown",
   "id": "f88e52e9",
   "metadata": {},
   "source": [
    "#### **Adjustments for Month 2**\n",
    "- Focus areas based on weaknesses\n",
    "- Time allocation changes\n",
    "- Additional resources needed"
   ]
  },
  {
   "cell_type": "markdown",
   "id": "e3556107",
   "metadata": {},
   "source": [
    "#### **Confidence Level (1-10)**\n",
    "- Arrays and strings: __/10\n",
    "- Time complexity analysis: __/10\n",
    "- C# collections: __/10\n",
    "- Problem-solving speed: __/10"
   ]
  },
  {
   "cell_type": "markdown",
   "id": "6f4e03e2",
   "metadata": {},
   "source": [
    "---\n",
    "\n",
    "**Remember**: Month 1 is about building solid foundations. Don't rush through topics - understanding the fundamentals deeply will pay dividends in later months! 🚀"
   ]
  }
 ],
 "metadata": {
  "kernelspec": {
   "display_name": ".NET (C#)",
   "language": "C#",
   "name": ".net-csharp"
  },
  "language_info": {
   "name": "polyglot-notebook"
  },
  "polyglot_notebook": {
   "kernelInfo": {
    "defaultKernelName": "csharp",
    "items": [
     {
      "aliases": [],
      "name": "csharp"
     }
    ]
   }
  }
 },
 "nbformat": 4,
 "nbformat_minor": 5
}
