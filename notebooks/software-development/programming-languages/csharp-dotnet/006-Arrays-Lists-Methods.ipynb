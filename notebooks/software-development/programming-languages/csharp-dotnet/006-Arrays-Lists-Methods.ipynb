{
 "cells": [
  {
   "cell_type": "markdown",
   "id": "33c57cee",
   "metadata": {},
   "source": [
    "# Methods on Arrays and Lists\n",
    "\n",
    "## Content\n",
    "\n",
    "1. [Sort](#sort)\n",
    "2. [Searching](#searching)\n",
    "3. [Reverse](#reverse)\n",
    "4. [Clear](#clear)\n",
    "5. [Resize](#resize)\n",
    "6. [Join](#join)\n",
    "7. [Split](#split)"
   ]
  },
  {
   "cell_type": "markdown",
   "id": "1ae0b374",
   "metadata": {},
   "source": [
    "## Sort\n",
    "\n",
    "### Array"
   ]
  },
  {
   "cell_type": "code",
   "execution_count": null,
   "metadata": {
    "language_info": {
     "name": "polyglot-notebook"
    },
    "polyglot_notebook": {
     "kernelName": "csharp"
    }
   },
   "outputs": [],
   "source": [
    "string[] pallets = [ \"B14\", \"A11\", \"B12\", \"A13\" ];\n",
    "\n",
    "Array.Sort(pallets);\n",
    "\n",
    "foreach (var pallet in pallets)\n",
    "{\n",
    "  Console.WriteLine($\"-- {pallet}\");\n",
    "}"
   ]
  },
  {
   "cell_type": "markdown",
   "id": "8543af94",
   "metadata": {},
   "source": [
    "### List"
   ]
  },
  {
   "cell_type": "code",
   "execution_count": null,
   "id": "eb1d384b",
   "metadata": {
    "language_info": {
     "name": "polyglot-notebook"
    },
    "polyglot_notebook": {
     "kernelName": "csharp"
    }
   },
   "outputs": [],
   "source": [
    "List<string> names = [\"Fernando\", \"Ana\", \"Felipe\", \"Maria\", \"Bill\"];\n",
    "\n",
    "names.Sort();\n",
    "\n",
    "foreach (var name in names) \n",
    "{\n",
    "  Console.WriteLine($\"Hello {name.ToUpper()}!\");\n",
    "}"
   ]
  },
  {
   "cell_type": "markdown",
   "id": "379fa08d",
   "metadata": {},
   "source": [
    "## Searching\n",
    "\n",
    "### Array"
   ]
  },
  {
   "cell_type": "code",
   "execution_count": 4,
   "id": "187435c2",
   "metadata": {
    "language_info": {
     "name": "polyglot-notebook"
    },
    "polyglot_notebook": {
     "kernelName": "csharp"
    }
   },
   "outputs": [
    {
     "name": "stdout",
     "output_type": "stream",
     "text": [
      "I found Fernando at index 0\r\n"
     ]
    }
   ],
   "source": [
    "string[] names = [\"Fernando\", \"Ana\", \"Felipe\", \"Maria\", \"Bill\"];\n",
    "\n",
    "Console.WriteLine($\"I found Fernando at index {Array.IndexOf(names, \"Fernando\")}\");"
   ]
  },
  {
   "cell_type": "markdown",
   "id": "d354f0a0",
   "metadata": {},
   "source": [
    "### List"
   ]
  },
  {
   "cell_type": "code",
   "execution_count": 3,
   "metadata": {
    "language_info": {
     "name": "polyglot-notebook"
    },
    "polyglot_notebook": {
     "kernelName": "csharp"
    }
   },
   "outputs": [
    {
     "name": "stdout",
     "output_type": "stream",
     "text": [
      "I found Fernando at index 0\r\n"
     ]
    }
   ],
   "source": [
    "List<string> names = [\"Fernando\", \"Ana\", \"Felipe\", \"Maria\", \"Bill\"];\n",
    "\n",
    "Console.WriteLine($\"I found Fernando at index {names.IndexOf(\"Fernando\")}\");"
   ]
  },
  {
   "cell_type": "markdown",
   "id": "8b4060a4",
   "metadata": {},
   "source": [
    "## Reverse\n",
    "\n",
    "### Array"
   ]
  },
  {
   "cell_type": "code",
   "execution_count": 6,
   "metadata": {
    "language_info": {
     "name": "polyglot-notebook"
    },
    "polyglot_notebook": {
     "kernelName": "csharp"
    }
   },
   "outputs": [
    {
     "name": "stdout",
     "output_type": "stream",
     "text": [
      "-- B14\n",
      "-- B12\n",
      "-- A13\n",
      "-- A11\n"
     ]
    }
   ],
   "source": [
    "string[] pallets = [ \"A11\", \"A13\", \"B12\", \"B14\" ];\n",
    "\n",
    "Array.Reverse(pallets);\n",
    "\n",
    "foreach (var pallet in pallets)\n",
    "{\n",
    "  Console.WriteLine($\"-- {pallet}\");\n",
    "}"
   ]
  },
  {
   "cell_type": "markdown",
   "id": "4ca92735",
   "metadata": {},
   "source": [
    "### List"
   ]
  },
  {
   "cell_type": "code",
   "execution_count": 5,
   "id": "cf76896b",
   "metadata": {
    "language_info": {
     "name": "polyglot-notebook"
    },
    "polyglot_notebook": {
     "kernelName": "csharp"
    }
   },
   "outputs": [
    {
     "name": "stdout",
     "output_type": "stream",
     "text": [
      "-- B14\n",
      "-- B12\n",
      "-- A13\n",
      "-- A11\n"
     ]
    }
   ],
   "source": [
    "List<string> pallets = [ \"A11\", \"A13\", \"B12\", \"B14\" ];\n",
    "\n",
    "pallets.Reverse();\n",
    "\n",
    "foreach (var pallet in pallets)\n",
    "{\n",
    "  Console.WriteLine($\"-- {pallet}\");\n",
    "}"
   ]
  },
  {
   "cell_type": "markdown",
   "id": "590f2fab",
   "metadata": {},
   "source": [
    "## Clear\n",
    "\n",
    "### Array\n",
    "\n",
    "Blank the selected positions on the array."
   ]
  },
  {
   "cell_type": "code",
   "execution_count": 7,
   "metadata": {
    "language_info": {
     "name": "polyglot-notebook"
    },
    "polyglot_notebook": {
     "kernelName": "csharp"
    }
   },
   "outputs": [
    {
     "name": "stdout",
     "output_type": "stream",
     "text": [
      "-- \n",
      "-- \n",
      "-- B12\n",
      "-- A13\n"
     ]
    }
   ],
   "source": [
    "string[] pallets = [ \"B14\", \"A11\", \"B12\", \"A13\" ];\n",
    "\n",
    "Array.Clear(pallets, 0, 2);\n",
    "\n",
    "foreach (var pallet in pallets)\n",
    "{\n",
    "  Console.WriteLine($\"-- {pallet}\"); // null, null, B12, A13\n",
    "}"
   ]
  },
  {
   "cell_type": "markdown",
   "id": "0ff9061d",
   "metadata": {},
   "source": [
    "### List\n",
    "\n",
    "Removes all the values in the List."
   ]
  },
  {
   "cell_type": "code",
   "execution_count": null,
   "metadata": {
    "language_info": {
     "name": "polyglot-notebook"
    },
    "polyglot_notebook": {
     "kernelName": "csharp"
    }
   },
   "outputs": [],
   "source": [
    "List<string> pallets = [ \"B14\", \"A11\", \"B12\", \"A13\" ];\n",
    "\n",
    "pallets.Clear();\n",
    "\n",
    "Console.WriteLine(pallets.Count);"
   ]
  },
  {
   "cell_type": "markdown",
   "id": "cd7b52f9",
   "metadata": {},
   "source": [
    "## Resize\n",
    "\n",
    "### Array"
   ]
  },
  {
   "cell_type": "code",
   "execution_count": 9,
   "metadata": {
    "language_info": {
     "name": "polyglot-notebook"
    },
    "polyglot_notebook": {
     "kernelName": "csharp"
    }
   },
   "outputs": [
    {
     "name": "stdout",
     "output_type": "stream",
     "text": [
      "\n",
      "-- B14\n",
      "-- A11\n",
      "-- B12\n",
      "-- A13\n",
      "-- C01\n",
      "-- C02\n"
     ]
    }
   ],
   "source": [
    "string[] pallets =  [\"B14\", \"A11\", \"B12\", \"A13\" ];\n",
    "Console.WriteLine(\"\");\n",
    "\n",
    "Array.Resize(ref pallets, 6);\n",
    "\n",
    "pallets[4] = \"C01\";\n",
    "pallets[5] = \"C02\";\n",
    "\n",
    "foreach (var pallet in pallets)\n",
    "{\n",
    "  Console.WriteLine($\"-- {pallet}\");\n",
    "}"
   ]
  },
  {
   "cell_type": "markdown",
   "id": "aed1969a",
   "metadata": {},
   "source": [
    "### List\n",
    "\n",
    "There's no resize method in List."
   ]
  },
  {
   "cell_type": "markdown",
   "id": "4714dce5",
   "metadata": {},
   "source": [
    "## Join\n",
    "\n",
    "### Array"
   ]
  },
  {
   "cell_type": "code",
   "execution_count": 15,
   "metadata": {
    "language_info": {
     "name": "polyglot-notebook"
    },
    "polyglot_notebook": {
     "kernelName": "csharp"
    }
   },
   "outputs": [
    {
     "name": "stdout",
     "output_type": "stream",
     "text": [
      "a|b|c\r\n"
     ]
    }
   ],
   "source": [
    "char[] letters = ['a', 'b', 'c'];\n",
    "string result = String.Join(\"|\", letters); // a|b|c\n",
    "Console.WriteLine(result);"
   ]
  },
  {
   "cell_type": "markdown",
   "id": "28df085d",
   "metadata": {},
   "source": [
    "### List"
   ]
  },
  {
   "cell_type": "code",
   "execution_count": 14,
   "metadata": {
    "language_info": {
     "name": "polyglot-notebook"
    },
    "polyglot_notebook": {
     "kernelName": "csharp"
    }
   },
   "outputs": [
    {
     "name": "stdout",
     "output_type": "stream",
     "text": [
      "a|b|c\r\n"
     ]
    }
   ],
   "source": [
    "List<char> letters = ['a', 'b', 'c'];\n",
    "string result = String.Join(\"|\", letters); // a|b|c\n",
    "Console.WriteLine(result);"
   ]
  },
  {
   "cell_type": "markdown",
   "id": "ddcdc433",
   "metadata": {},
   "source": [
    "## Split\n",
    "\n",
    "### Array"
   ]
  },
  {
   "cell_type": "code",
   "execution_count": null,
   "metadata": {
    "language_info": {
     "name": "polyglot-notebook"
    },
    "polyglot_notebook": {
     "kernelName": "csharp"
    }
   },
   "outputs": [],
   "source": [
    "string result = \"123|456|789\";\n",
    "string[] items = result.Split('|');\n",
    "\n",
    "foreach (string item in items)\n",
    "{\n",
    "  Console.WriteLine(item); // 123, 456, 789\n",
    "}"
   ]
  },
  {
   "cell_type": "markdown",
   "id": "fdcf0a93",
   "metadata": {},
   "source": [
    "### List"
   ]
  },
  {
   "cell_type": "code",
   "execution_count": 16,
   "id": "65dac615",
   "metadata": {
    "language_info": {
     "name": "polyglot-notebook"
    },
    "polyglot_notebook": {
     "kernelName": "csharp"
    }
   },
   "outputs": [
    {
     "name": "stdout",
     "output_type": "stream",
     "text": [
      "123\n",
      "456\n",
      "789\n"
     ]
    }
   ],
   "source": [
    "string result = \"123|456|789\";\n",
    "List<string> items = result.Split('|').ToList();\n",
    "\n",
    "foreach (string item in items)\n",
    "{\n",
    "  Console.WriteLine(item); // 123, 456, 789\n",
    "}"
   ]
  }
 ],
 "metadata": {
  "kernelspec": {
   "display_name": ".NET (C#)",
   "language": "C#",
   "name": ".net-csharp"
  },
  "language_info": {
   "name": "polyglot-notebook"
  },
  "polyglot_notebook": {
   "kernelInfo": {
    "defaultKernelName": "csharp",
    "items": [
     {
      "aliases": [],
      "name": "csharp"
     }
    ]
   }
  }
 },
 "nbformat": 4,
 "nbformat_minor": 5
}
