{
 "cells": [
  {
   "cell_type": "markdown",
   "id": "33c57cee",
   "metadata": {},
   "source": [
    "# Formatting Data\n",
    "\n",
    "## Content\n",
    "\n",
    "1. [Composite Formatting](#composite-formatting)\n",
    "2. [Formatting Currency](#formatting-currency)\n",
    "3. [Formatting Numbers](#formatting-numbers)\n",
    "4. [Formatting Percentage](#formatting-percentage)\n",
    "5. [Padding](#padding)"
   ]
  },
  {
   "cell_type": "markdown",
   "id": "1ae0b374",
   "metadata": {},
   "source": [
    "## Composite Formatting"
   ]
  },
  {
   "cell_type": "code",
   "execution_count": null,
   "metadata": {
    "language_info": {
     "name": "polyglot-notebook"
    },
    "polyglot_notebook": {
     "kernelName": "csharp"
    }
   },
   "outputs": [],
   "source": [
    "string first = \"Hello\";\n",
    "string second = \"World\";\n",
    "string result = string.Format(\"{0} {1}!\", first, second);\n",
    "Console.WriteLine(result);"
   ]
  },
  {
   "cell_type": "markdown",
   "id": "a4fb8a17",
   "metadata": {},
   "source": [
    "## Formatting Currency"
   ]
  },
  {
   "cell_type": "code",
   "execution_count": null,
   "metadata": {
    "language_info": {
     "name": "polyglot-notebook"
    },
    "polyglot_notebook": {
     "kernelName": "csharp"
    }
   },
   "outputs": [],
   "source": [
    "decimal price = 123.45m;\n",
    "int discount = 50;\n",
    "Console.WriteLine($\"Price: {price:C} (Save {discount:C})\");"
   ]
  },
  {
   "cell_type": "markdown",
   "id": "520ab4f9",
   "metadata": {},
   "source": [
    "## Formatting Numbers"
   ]
  },
  {
   "cell_type": "code",
   "execution_count": null,
   "metadata": {
    "language_info": {
     "name": "polyglot-notebook"
    },
    "polyglot_notebook": {
     "kernelName": "csharp"
    }
   },
   "outputs": [],
   "source": [
    "decimal measurement = 123456.78912m;\n",
    "Console.WriteLine($\"Measurement: {measurement:N} units\");\n",
    "Console.WriteLine($\"Measurement: {measurement:N4} units\");"
   ]
  },
  {
   "cell_type": "markdown",
   "id": "206122c8",
   "metadata": {},
   "source": [
    "## Formatting Percentage"
   ]
  },
  {
   "cell_type": "code",
   "execution_count": null,
   "metadata": {
    "language_info": {
     "name": "polyglot-notebook"
    },
    "polyglot_notebook": {
     "kernelName": "csharp"
    }
   },
   "outputs": [],
   "source": [
    "decimal tax = .36785m;\n",
    "Console.WriteLine($\"Tax rate: {tax:P2}\");"
   ]
  },
  {
   "cell_type": "markdown",
   "id": "a61071ed",
   "metadata": {},
   "source": [
    "## Padding"
   ]
  },
  {
   "cell_type": "code",
   "execution_count": null,
   "metadata": {
    "language_info": {
     "name": "polyglot-notebook"
    },
    "polyglot_notebook": {
     "kernelName": "csharp"
    }
   },
   "outputs": [],
   "source": [
    "string input = \"Pad this\";\n",
    "Console.WriteLine(input.PadLeft(12)); // \" \tPad this\"\n",
    "Console.WriteLine(input.PadLeft(12, '*')); // \"****Pad this\"\n",
    "Console.WriteLine(input.PadRight(12, '*')); // \"Pad this****\""
   ]
  }
 ],
 "metadata": {
  "kernelspec": {
   "display_name": ".NET (C#)",
   "language": "C#",
   "name": ".net-csharp"
  },
  "language_info": {
   "name": "polyglot-notebook"
  },
  "polyglot_notebook": {
   "kernelInfo": {
    "defaultKernelName": "csharp",
    "items": [
     {
      "aliases": [],
      "name": "csharp"
     }
    ]
   }
  }
 },
 "nbformat": 4,
 "nbformat_minor": 5
}
