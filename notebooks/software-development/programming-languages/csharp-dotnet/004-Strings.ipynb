{
 "cells": [
  {
   "cell_type": "markdown",
   "id": "ea6e9168",
   "metadata": {},
   "source": [
    "# Strings\n",
    "\n",
    "## Content\n",
    "\n",
    "1. [Length](#length)\n",
    "2. [IndexOf](#indexof)\n",
    "3. [LastIndexOf](#lastindexof)\n",
    "4. [IndexOfAny](#indexofany)\n",
    "5. [Remove](#remove)\n",
    "6. [Substring](#substring)\n",
    "7. [Replace](#replace)\n",
    "8. [Trim](#trim)\n",
    "9. [Case](#case)\n",
    "10. [Contains, StartsWith and EndsWith](#contains-startswith-and-endswith)"
   ]
  },
  {
   "cell_type": "markdown",
   "id": "e282cf37",
   "metadata": {},
   "source": [
    "## What is a String?\n",
    "\n",
    "A string is a sequence of characters. \n",
    "\n",
    "## Length\n",
    "\n",
    "Length is a property of a string and it returns the number of characters in that string."
   ]
  },
  {
   "cell_type": "code",
   "execution_count": null,
   "metadata": {
    "polyglot_notebook": {
     "kernelName": "csharp"
    }
   },
   "outputs": [],
   "source": [
    "string message = \"Find what is (inside the parentheses)\";\n",
    "\n",
    "Console.WriteLine(message.Length );"
   ]
  },
  {
   "cell_type": "markdown",
   "id": "97ab7f1d",
   "metadata": {},
   "source": [
    "## IndexOf\n",
    "\n",
    "IndexOf is a method that returns the index of the start of substring being searched."
   ]
  },
  {
   "cell_type": "code",
   "execution_count": null,
   "metadata": {
    "polyglot_notebook": {
     "kernelName": "csharp"
    }
   },
   "outputs": [],
   "source": [
    "string message = \"Find what is (inside the parentheses)\";\n",
    "\n",
    "int openingPosition = message.IndexOf('(');\n",
    "int closingPosition = message.IndexOf(')');\n",
    "\n",
    "Console.WriteLine(openingPosition);\n",
    "Console.WriteLine(closingPosition);"
   ]
  },
  {
   "cell_type": "markdown",
   "id": "ce03f873",
   "metadata": {},
   "source": [
    "## LastIndexOf\n",
    "\n",
    "LastIndexOf is a method that returns the last occurrence of the index of substring being searched."
   ]
  },
  {
   "cell_type": "code",
   "execution_count": null,
   "metadata": {
    "polyglot_notebook": {
     "kernelName": "csharp"
    }
   },
   "outputs": [],
   "source": [
    "string message = \"hello there!\";\n",
    "\n",
    "int first_h = message.IndexOf('h');\n",
    "int last_h = message.LastIndexOf('h');\n",
    "Console.WriteLine($\"For the message: '{message}', the first 'h' is at position {first_h} and the last 'h' is at position {last_h}.\"); "
   ]
  },
  {
   "cell_type": "markdown",
   "id": "f6e463ec",
   "metadata": {},
   "source": [
    "## IndexOfAny\n",
    "\n",
    "LastIndexOf is a method similar than IndexOf, but it receives an array as input, and searches the index of any of the substrings in the array."
   ]
  },
  {
   "cell_type": "code",
   "execution_count": null,
   "metadata": {
    "polyglot_notebook": {
     "kernelName": "csharp"
    }
   },
   "outputs": [],
   "source": [
    "string message = \"Hello, world!\";\n",
    "char[] charsToFind = { 'a', 'e', 'i' };\n",
    "\n",
    "int index = message.IndexOfAny(charsToFind);\n",
    "\n",
    "Console.WriteLine($\"Found '{message[index]}' in '{message}' at index: {index}.\");"
   ]
  },
  {
   "cell_type": "markdown",
   "id": "3305a7c7",
   "metadata": {},
   "source": [
    "## Remove\n",
    "\n",
    "Remove is a method that removes a substring belonging to a big string, given the index of the start of the string and the number of characters to delete."
   ]
  },
  {
   "cell_type": "code",
   "execution_count": null,
   "metadata": {
    "polyglot_notebook": {
     "kernelName": "csharp"
    }
   },
   "outputs": [],
   "source": [
    "string data = \"12345John Smith          5000  3  \";\n",
    "string updatedData = data.Remove(5, 20);\n",
    "Console.WriteLine(updatedData);"
   ]
  },
  {
   "cell_type": "markdown",
   "id": "1dc38777",
   "metadata": {},
   "source": [
    "## Substring\n",
    "\n",
    "Substring is a method that returns a substring, given the index and the length of the substring within the big string."
   ]
  },
  {
   "cell_type": "code",
   "execution_count": null,
   "id": "eadfa25e",
   "metadata": {
    "polyglot_notebook": {
     "kernelName": "csharp"
    }
   },
   "outputs": [],
   "source": [
    "string message = \"What is the value <span>between the tags</span>?\";\n",
    "\n",
    "const string openSpan = \"<span>\";\n",
    "const string closeSpan = \"</span>\";\n",
    "\n",
    "int openingPosition = message.IndexOf(openSpan);\n",
    "int closingPosition = message.IndexOf(closeSpan);\n",
    "\n",
    "openingPosition += openSpan.Length;\n",
    "int length = closingPosition - openingPosition;\n",
    "Console.WriteLine(message.Substring(openingPosition, length));"
   ]
  },
  {
   "cell_type": "markdown",
   "id": "34f0d043",
   "metadata": {},
   "source": [
    "## Replace\n",
    "\n",
    "Replace is a method that replaces a substring with other substring inside a big string."
   ]
  },
  {
   "cell_type": "code",
   "execution_count": null,
   "metadata": {
    "polyglot_notebook": {
     "kernelName": "csharp"
    }
   },
   "outputs": [],
   "source": [
    "string message = \"This--is--ex-amp-le--da-ta\";\n",
    "message = message.Replace(\"--\", \" \");\n",
    "message = message.Replace(\"-\", \"\");\n",
    "Console.WriteLine(message);"
   ]
  },
  {
   "cell_type": "markdown",
   "id": "6d533933",
   "metadata": {},
   "source": [
    "## Trim\n",
    "\n",
    "Trim, TrimStart and TrimEnd are methods that removes spaces between a string."
   ]
  },
  {
   "cell_type": "code",
   "execution_count": null,
   "metadata": {
    "polyglot_notebook": {
     "kernelName": "csharp"
    }
   },
   "outputs": [],
   "source": [
    "string greeting = \"      Hello World!       \";\n",
    "Console.WriteLine($\"[{greeting}]\");\n",
    "\n",
    "string trimmedGreeting = greeting.TrimStart();\n",
    "Console.WriteLine($\"[{trimmedGreeting}]\");\n",
    "\n",
    "trimmedGreeting = greeting.TrimEnd();\n",
    "Console.WriteLine($\"[{trimmedGreeting}]\");\n",
    "\n",
    "trimmedGreeting = greeting.Trim();\n",
    "Console.WriteLine($\"[{trimmedGreeting}]\");"
   ]
  },
  {
   "cell_type": "markdown",
   "id": "ac816a76",
   "metadata": {},
   "source": [
    "## Case\n",
    "\n",
    "ToUpper and ToLower are methods to convert string to upper or lower cases."
   ]
  },
  {
   "cell_type": "code",
   "execution_count": null,
   "metadata": {
    "polyglot_notebook": {
     "kernelName": "csharp"
    }
   },
   "outputs": [],
   "source": [
    "string songLyrics = \"You say goodbye, and I say hello\";\n",
    "Console.WriteLine(songLyrics.ToUpper());\n",
    "Console.WriteLine(songLyrics.ToLower());"
   ]
  },
  {
   "cell_type": "markdown",
   "id": "eb72b064",
   "metadata": {},
   "source": [
    "## Contains, StartsWith and EndsWith\n",
    "\n",
    "Contains StartsWith and EndsWith are methods that help searching specific substring inside a big string."
   ]
  },
  {
   "cell_type": "code",
   "execution_count": null,
   "metadata": {
    "polyglot_notebook": {
     "kernelName": "csharp"
    }
   },
   "outputs": [],
   "source": [
    "string songLyrics = \"You say goodbye, and I say hello\";\n",
    "\n",
    "Console.WriteLine(songLyrics.Contains(\"goodbye\"));\n",
    "Console.WriteLine(songLyrics.Contains(\"greetings\"));\n",
    "\n",
    "Console.WriteLine(message.StartsWith(\"You\")); // true\n",
    "Console.WriteLine(message.EndsWith(\"hello\")); // true"
   ]
  },
  {
   "cell_type": "markdown",
   "id": "66e7c3fe",
   "metadata": {},
   "source": [
    "##"
   ]
  }
 ],
 "metadata": {
  "kernelspec": {
   "display_name": ".NET (C#)",
   "language": "C#",
   "name": ".net-csharp"
  },
  "language_info": {
   "name": "polyglot-notebook"
  },
  "polyglot_notebook": {
   "kernelInfo": {
    "defaultKernelName": "csharp",
    "items": [
     {
      "aliases": [],
      "name": "csharp"
     }
    ]
   }
  }
 },
 "nbformat": 4,
 "nbformat_minor": 5
}
