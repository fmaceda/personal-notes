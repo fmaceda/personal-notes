{
 "cells": [
  {
   "cell_type": "markdown",
   "id": "2753507e",
   "metadata": {},
   "source": [
    "# Language Integrated Query (LINQ)\n",
    "\n",
    "## Content\n",
    "\n",
    "1. [Record](#record)"
   ]
  },
  {
   "cell_type": "markdown",
   "id": "45c1b2dd",
   "metadata": {},
   "source": [
    "## Overview\n",
    "\n",
    "Language-Integrated Query (LINQ) is the name for a set of technologies based on the integration of query capabilities directly into the C# language. Traditionally, queries against data are expressed as simple strings without type checking at compile time or IntelliSense support. Furthermore, it's required to learn a different query language for each type of data source: SQL databases, XML documents, various Web services, and so on. With LINQ, a query is a first-class language construct, just like classes, methods, and events."
   ]
  },
  {
   "cell_type": "markdown",
   "id": "cc636347",
   "metadata": {},
   "source": [
    "## Using LINQ"
   ]
  },
  {
   "cell_type": "code",
   "execution_count": 4,
   "id": "19a6d85b",
   "metadata": {
    "language_info": {
     "name": "polyglot-notebook"
    },
    "polyglot_notebook": {
     "kernelName": "csharp"
    }
   },
   "outputs": [
    {
     "name": "stdout",
     "output_type": "stream",
     "text": [
      "97 92 81 "
     ]
    }
   ],
   "source": [
    "// Specify the data source.\n",
    "List<int> scores = [97, 92, 81, 60];\n",
    "// Or\n",
    "// int[] scores = [97, 92, 81, 60];\n",
    "\n",
    "// Define the QUERY SYNTAX expression.\n",
    "IEnumerable<int> scoreQuery1 =\n",
    "  from score in scores // required\n",
    "  where score > 80 // optional\n",
    "  orderby score descending // optional\n",
    "  select score; // must end with select or group\n",
    "\n",
    "// Or METHOD SYNTAX\n",
    "IEnumerable<int> scoreQuery2 = scores\n",
    "  .Where(s => s > 80) // lambda expression\n",
    "  .OrderByDescending(s => s); // lambda expression\n",
    "\n",
    "// Note: Query and method syntaxes can be used together.\n",
    "var scoreQuery3 = (\n",
    "  from score in scores\n",
    "  where score > 80\n",
    "  orderby score descending\n",
    "  select score\n",
    ").Count();\n",
    "\n",
    "// Execute the query.\n",
    "foreach (var i in scoreQuery1)\n",
    "{\n",
    "  Console.Write(i + \" \");\n",
    "}"
   ]
  },
  {
   "cell_type": "markdown",
   "id": "9b9587ba",
   "metadata": {},
   "source": [
    "## In-memory vs Remote data\n",
    "\n",
    "There are two ways you enable LINQ querying of in-memory data. If the data is of a type that implements IEnumerable<T>, you query the data by using LINQ to Objects."
   ]
  },
  {
   "cell_type": "code",
   "execution_count": 5,
   "id": "3ce53e0a",
   "metadata": {
    "language_info": {
     "name": "polyglot-notebook"
    },
    "polyglot_notebook": {
     "kernelName": "csharp"
    }
   },
   "outputs": [],
   "source": [
    "List<int> scores = [97, 92, 81, 60];\n",
    "\n",
    "// In-memory\n",
    "IEnumerable<int> scoreQuery1 =\n",
    "  from score in scores\n",
    "  where score > 80\n",
    "  orderby score descending\n",
    "  select score;\n",
    "\n",
    "// Remote - It can be integrated with libraries like Entity Framework.\n",
    "// You first create an object-relational mapping between C# classes and your database schema.\n",
    "// Then you write your queries against the objects\n",
    "// At run-time EntityFramework handles the communication with the database.\n",
    "// It will even be able to build the SQL query and execute it in the database side.\n",
    "class MyORM\n",
    "{\n",
    "  public IQueryable<int> GetQueryableProducts()\n",
    "  {\n",
    "    // This method would typically return a queryable collection of products from a database.\n",
    "    // For demonstration, we return an empty queryable.\n",
    "    return Enumerable.Empty<int>().AsQueryable();\n",
    "  }\n",
    "}\n",
    "\n",
    "var myORM = new MyORM();\n",
    "\n",
    "IQueryable<int> scoreQuery2 = myORM.GetQueryableProducts();"
   ]
  },
  {
   "cell_type": "markdown",
   "id": "f665adca",
   "metadata": {},
   "source": [
    "## Parts of Query Operation\n",
    "\n",
    "ll LINQ query operations consist of three distinct actions:\n",
    "\n",
    "1. Obtain the data source.\n",
    "2. Create the query.\n",
    "3. Execute the query."
   ]
  },
  {
   "cell_type": "code",
   "execution_count": 6,
   "id": "e3cc8445",
   "metadata": {
    "language_info": {
     "name": "polyglot-notebook"
    },
    "polyglot_notebook": {
     "kernelName": "csharp"
    }
   },
   "outputs": [
    {
     "name": "stdout",
     "output_type": "stream",
     "text": [
      "0 2 4 6 "
     ]
    }
   ],
   "source": [
    "// 1. Data source.\n",
    "int[] numbers = [ 0, 1, 2, 3, 4, 5, 6 ];\n",
    "\n",
    "// 2. Query creation.\n",
    "// numQuery is an IEnumerable<int>\n",
    "var numQuery = from num in numbers\n",
    "               where (num % 2) == 0\n",
    "               select num;\n",
    "\n",
    "// 3. Query execution.\n",
    "foreach (int num in numQuery)\n",
    "{\n",
    "  Console.Write(\"{0,1} \", num);\n",
    "}"
   ]
  },
  {
   "cell_type": "markdown",
   "id": "4996e54b",
   "metadata": {},
   "source": [
    "## Ending a Query Expression"
   ]
  },
  {
   "cell_type": "code",
   "execution_count": 7,
   "id": "382aa4ef",
   "metadata": {
    "language_info": {
     "name": "polyglot-notebook"
    },
    "polyglot_notebook": {
     "kernelName": "csharp"
    }
   },
   "outputs": [
    {
     "name": "stdout",
     "output_type": "stream",
     "text": [
      "38000\n",
      "Canada:38000000\n",
      "45000\n",
      "Argentina:45000000\n",
      "128000\n",
      "Mexico:128000000\n",
      "213000\n",
      "Brazil:213000000\n",
      "331000\n",
      "United States:331000000\n"
     ]
    }
   ],
   "source": [
    "class Country\n",
    "{\n",
    "  public string Name { get; set; }\n",
    "  public long Population { get; set; }\n",
    "  public double Area { get; set; } // in square kilometers\n",
    "}\n",
    "\n",
    "var countries = new List<Country>\n",
    "{\n",
    "  new Country { Name = \"United States\", Population = 331_000_000, Area = 9_525_067 },\n",
    "  new Country { Name = \"Canada\", Population = 38_000_000, Area = 9_984_670 },\n",
    "  new Country { Name = \"Mexico\", Population = 128_000_000, Area = 1_964_375 },\n",
    "  new Country { Name = \"Brazil\", Population = 213_000_000, Area = 8_515_767 },\n",
    "  new Country { Name = \"Argentina\", Population = 45_000_000, Area = 2_780_400 }\n",
    "};\n",
    "\n",
    "// GROUP CLAUSE\n",
    "// Use the group clause to produce a sequence of groups organized by a key that you specify.\n",
    "var queryCountryGroups =\n",
    "  from country in countries\n",
    "  group country by country.Name[0];\n",
    "\n",
    "// SELECT CLAUSE\n",
    "// Use the select clause to produce all other types of sequences.\n",
    "IEnumerable<Country> sortedQuery =\n",
    "  from country in countries\n",
    "  orderby country.Area\n",
    "  select country;\n",
    "// The select clause can be used to transform source data into sequences of new types. \n",
    "var queryNameAndPop =\n",
    "  from country in countries\n",
    "  select new\n",
    "  {\n",
    "      Name = country.Name,\n",
    "      Pop = country.Population\n",
    "  };\n",
    "\n",
    "// CONTINUATIONS WITH INTO\n",
    "// You can use the into keyword in a select or group clause to create a temporary identifier that stores a query. \n",
    "// percentileQuery is an IEnumerable<IGrouping<int, Country>>\n",
    "var percentileQuery =\n",
    "  from country in countries\n",
    "  let percentile = (int)country.Population / 1_000\n",
    "  group country by percentile into countryGroup\n",
    "  where countryGroup.Key >= 20\n",
    "  orderby countryGroup.Key\n",
    "  select countryGroup;\n",
    "\n",
    "// grouping is an IGrouping<int, Country>\n",
    "foreach (var grouping in percentileQuery)\n",
    "{\n",
    "  Console.WriteLine(grouping.Key);\n",
    "  foreach (var country in grouping)\n",
    "  {\n",
    "    Console.WriteLine(country.Name + \":\" + country.Population);\n",
    "  }\n",
    "}"
   ]
  },
  {
   "cell_type": "markdown",
   "id": "39ac7233",
   "metadata": {},
   "source": [
    "## Filtering, ordering, and joining\n",
    "\n",
    "Between the starting from clause, and the ending select or group clause, all other clauses (where, join, orderby, from, let) are optional. Any of the optional clauses might be used zero times or multiple times in a query body."
   ]
  },
  {
   "cell_type": "code",
   "execution_count": 8,
   "id": "1e612ce4",
   "metadata": {
    "language_info": {
     "name": "polyglot-notebook"
    },
    "polyglot_notebook": {
     "kernelName": "csharp"
    }
   },
   "outputs": [
    {
     "name": "stdout",
     "output_type": "stream",
     "text": [
      "Svetlana Claire Sven Cesar "
     ]
    }
   ],
   "source": [
    "class City {\n",
    "  public string Name { get; set; }\n",
    "  public long Population { get; set; } // in people\n",
    "}\n",
    "\n",
    "class Country\n",
    "{\n",
    "  public string Name { get; set; }\n",
    "  public long Population { get; set; }\n",
    "  public double Area { get; set; } // in square kilometers\n",
    "}\n",
    "\n",
    "var cities = new List<City>\n",
    "{\n",
    "  new City { Name = \"Tokyo\", Population = 37_833_000 },\n",
    "  new City { Name = \"Delhi\", Population = 31_000_000 },\n",
    "  new City { Name = \"Shanghai\", Population = 24_150_000 },\n",
    "  new City { Name = \"São Paulo\", Population = 22_046_000 },\n",
    "  new City { Name = \"Mexico City\", Population = 21_782_000 }\n",
    "};\n",
    "\n",
    "var countries = new List<Country>\n",
    "{\n",
    "  new Country { Name = \"United States\", Population = 331_000_000, Area = 9_525_067 },\n",
    "  new Country { Name = \"Canada\", Population = 38_000_000, Area = 9_984_670 },\n",
    "  new Country { Name = \"Mexico\", Population = 128_000_000, Area = 1_964_375 },\n",
    "  new Country { Name = \"Brazil\", Population = 213_000_000, Area = 8_515_767 },\n",
    "  new Country { Name = \"Argentina\", Population = 45_000_000, Area = 2_780_400 }\n",
    "};\n",
    "\n",
    "var categories = new List<string> { \"Electronics\", \"Clothing\", \"Books\" };\n",
    "var products = new List<(string Name, string Category)>\n",
    "{\n",
    "  (\"Smartphone\", \"Electronics\"),\n",
    "  (\"Laptop\", \"Electronics\"),\n",
    "  (\"T-shirt\", \"Clothing\"),\n",
    "  (\"Novel\", \"Books\"),\n",
    "  (\"Headphones\", \"Electronics\")\n",
    "};\n",
    "var students = new List<(string Name, int Year, List<int> ExamScores)>\n",
    "{\n",
    "  (\"Alice\", 1, [85, 90, 78]),\n",
    "  (\"Bob\", 2, [88, 92, 95]),\n",
    "  (\"Charlie\", 1, [80, 85, 82]),\n",
    "  (\"David\", 2, [90, 91, 89])\n",
    "};\n",
    "// WHERE CLAUSE\n",
    "// Use the where clause to filter out elements from the source data based on one or more predicate expressions. \n",
    "IEnumerable<City> queryCityPop =\n",
    "  from city in cities\n",
    "  where city.Population is < 15_000_000 and > 10_000_000\n",
    "  select city;\n",
    "\n",
    "// ORDERBY CLAUSE \n",
    "// Use the orderby clause to sort the results in either ascending or descending order. \n",
    "IEnumerable<Country> querySortedCountries =\n",
    "  from country in countries\n",
    "  orderby country.Area, country.Population descending\n",
    "  select country;\n",
    "\n",
    "// JOIN CLAUSE\n",
    "// Use the join clause to associate and/or combine elements from one data source with elements from another data source based on an equality comparison between specified keys in each element. \n",
    "var categoryQuery =\n",
    "  from cat in categories\n",
    "  join prod in products on cat equals prod.Category\n",
    "  select new\n",
    "  {\n",
    "    Category = cat,\n",
    "    Name = prod.Name\n",
    "  };\n",
    "\n",
    "// LET CLAUSE\n",
    "// Use the let clause to store the result of an expression, such as a method call, in a new range variable.\n",
    "string[] names = [\"Svetlana Omelchenko\", \"Claire O'Donnell\", \"Sven Mortensen\", \"Cesar Garcia\"];\n",
    "IEnumerable<string> queryFirstNames =\n",
    "  from name in names\n",
    "  let firstName = name.Split(' ')[0]\n",
    "  select firstName;\n",
    "\n",
    "foreach (var s in queryFirstNames)\n",
    "{\n",
    "  Console.Write(s + \" \");\n",
    "}\n",
    "\n",
    "//Output: Svetlana Claire Sven Cesar\n",
    "\n",
    "// SUBQUERIES IN A QUERY EXPRESSION\n",
    "// A query clause might itself contain a query expression, which is sometimes referred to as a subquery.\n",
    "var queryGroupMax =\n",
    "  from student in students\n",
    "  group student by student.Year into studentGroup\n",
    "  select new\n",
    "  {\n",
    "    Level = studentGroup.Key,\n",
    "    HighestScore = (\n",
    "        from student2 in studentGroup\n",
    "        select student2.ExamScores.Average()\n",
    "    ).Max()\n",
    "  };"
   ]
  },
  {
   "cell_type": "markdown",
   "id": "862a277b",
   "metadata": {},
   "source": [
    "## Lambda Expressions"
   ]
  },
  {
   "cell_type": "code",
   "execution_count": 9,
   "id": "15afe233",
   "metadata": {
    "language_info": {
     "name": "polyglot-notebook"
    },
    "polyglot_notebook": {
     "kernelName": "csharp"
    }
   },
   "outputs": [
    {
     "name": "stdout",
     "output_type": "stream",
     "text": [
      "Alice: 100\n",
      "Eve: 90\n",
      "Heidi: 85\n"
     ]
    }
   ],
   "source": [
    "List<(string Name, int score)> scores = [\n",
    "  (\"Alice\", 100),\n",
    "  (\"Bob\", 45),\n",
    "  (\"Charlie\", 75),\n",
    "  (\"David\", 80),\n",
    "  (\"Eve\", 90),\n",
    "  (\"Frank\", 60),\n",
    "  (\"Grace\", 70),\n",
    "  (\"Heidi\", 85)\n",
    "];\n",
    "\n",
    "scores.Where(score => score.score > 80) // Lambda expression\n",
    "      .OrderByDescending(score => score.score) // Lambda expression\n",
    "      .ToList()\n",
    "      .ForEach(score => Console.WriteLine($\"{score.Name}: {score.score}\")); // Lambda expression"
   ]
  }
 ],
 "metadata": {
  "kernelspec": {
   "display_name": ".NET (C#)",
   "language": "C#",
   "name": ".net-csharp"
  },
  "language_info": {
   "name": "polyglot-notebook"
  },
  "polyglot_notebook": {
   "kernelInfo": {
    "defaultKernelName": "csharp",
    "items": [
     {
      "aliases": [],
      "name": "csharp"
     }
    ]
   }
  }
 },
 "nbformat": 4,
 "nbformat_minor": 5
}
