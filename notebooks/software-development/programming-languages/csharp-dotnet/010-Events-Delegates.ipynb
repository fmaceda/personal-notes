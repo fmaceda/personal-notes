{
 "cells": [
  {
   "cell_type": "markdown",
   "id": "f5affdab",
   "metadata": {},
   "source": [
    "# Events and Delegates\n",
    "\n",
    "## Content\n",
    "\n",
    "1. [Delegates](#delegates)\n",
    "2. [Events](#events)"
   ]
  },
  {
   "cell_type": "markdown",
   "id": "217e73be",
   "metadata": {},
   "source": [
    "## Delegates\n",
    "\n",
    "Delegates provide a late binding mechanism in .NET. Late Binding means that you create an algorithm where the caller also supplies at least one method that implements part of the algorithm."
   ]
  },
  {
   "cell_type": "code",
   "execution_count": 9,
   "id": "ba5f40e6",
   "metadata": {},
   "outputs": [
    {
     "name": "stdout",
     "output_type": "stream",
     "text": [
      "1\r\n"
     ]
    }
   ],
   "source": [
    "// From the .NET Core library\n",
    "\n",
    "// Define the delegate type:\n",
    "public delegate int? Comparison<in T>(T left, T right);\n",
    "\n",
    "// Declare an instance of that type:\n",
    "public Comparison<string> comparer;\n",
    "\n",
    "// Assign a method to the delegate:\n",
    "private static int? CompareLength(string left, string right) =>\n",
    "  left.Length.CompareTo(right.Length);\n",
    "  \n",
    "comparer += CompareLength; // This line will add the method to the delegate.\n",
    "\n",
    "// comparer -= CompareLength; // This line will remove the method from the delegate.\n",
    "\n",
    "// Invoke delegate.\n",
    "int? result = comparer?.Invoke(\"Long String\", \"String\");\n",
    "// int result = comparer(\"Long String\", \"String\"); // Other way to invoke the delegate.\n",
    "\n",
    "Console.WriteLine(result); // Outputs: 1 (because \"Long String\" is longer than \"String\")"
   ]
  },
  {
   "cell_type": "markdown",
   "id": "96bee86e",
   "metadata": {},
   "source": [
    "### Strongly Typed Delegates\n",
    "\n",
    "The .NET Core framework contains several types that you can reuse whenever you need delegate types. These are generic definitions so you can declare customizations when you need new method declarations."
   ]
  },
  {
   "cell_type": "code",
   "execution_count": null,
   "id": "c4f0464b",
   "metadata": {},
   "outputs": [],
   "source": [
    "// Action\n",
    "public delegate void Action();\n",
    "public delegate void Action<in T>(T arg);\n",
    "public delegate void Action<in T1, in T2>(T1 arg1, T2 arg2);\n",
    "\n",
    "// Func\n",
    "public delegate TResult Func<out TResult>();\n",
    "public delegate TResult Func<in T1, out TResult>(T1 arg);\n",
    "public delegate TResult Func<in T1, in T2, out TResult>(T1 arg1, T2 arg2);\n",
    "\n",
    "// Predicate\n",
    "public delegate bool Predicate<in T>(T obj);"
   ]
  },
  {
   "cell_type": "markdown",
   "id": "00142115",
   "metadata": {},
   "source": [
    "Action and Func delegates support until 16 in parameters."
   ]
  },
  {
   "cell_type": "markdown",
   "id": "89218a74",
   "metadata": {},
   "source": [
    "## Events\n",
    "\n",
    "Events are, like delegates, a late binding mechanism. In fact, events are built on the language support for delegates.\n",
    "\n",
    "Events are a way for an object to broadcast (to all interested components in the system) that something happened. Any other component can subscribe to the event, and be notified when an event is raised."
   ]
  },
  {
   "cell_type": "code",
   "execution_count": 18,
   "id": "838cff86",
   "metadata": {},
   "outputs": [
    {
     "name": "stdout",
     "output_type": "stream",
     "text": [
      "Value changed to: Hello, World!\r\n"
     ]
    }
   ],
   "source": [
    "// Define a custom event arguments class.\n",
    "public class TestClass {\n",
    "  private string _value;\n",
    "  public event EventHandler<ValueChangedArgs> ValueChanged;\n",
    "\n",
    "  public void SetValue(string value) {\n",
    "    if (value != _value) {\n",
    "      _value = value;\n",
    "      OnValueChanged(new ValueChangedArgs(value));\n",
    "    }\n",
    "  }\n",
    "\n",
    "  protected void OnValueChanged(ValueChangedArgs eventArgs) {\n",
    "    ValueChanged?.Invoke(this, eventArgs);\n",
    "    // ValueChanged(this, eventArgs); // Other way to invoke the event.\n",
    "  }\n",
    "}\n",
    "\n",
    "public class ValueChangedArgs : EventArgs\n",
    "{\n",
    "  public string Value { get; }\n",
    "\n",
    "  public ValueChangedArgs(string value) => Value = value;\n",
    "}\n",
    "\n",
    "public void OnValueChanged(object sender, ValueChangedArgs eventArgs) {\n",
    "  Console.WriteLine($\"Value changed to: {eventArgs.Value}\");\n",
    "}\n",
    "\n",
    "var test = new TestClass();\n",
    "\n",
    "// Subscribe to the event.\n",
    "test.ValueChanged += OnValueChanged;\n",
    "\n",
    "// Unsubscribe from the event.\n",
    "// test.ValueChanged -= OnValueChanged;\n",
    "\n",
    "test.SetValue(\"Hello, World!\");\n",
    "\n",
    "\n"
   ]
  }
 ],
 "metadata": {
  "kernelspec": {
   "display_name": ".NET (C#)",
   "language": "C#",
   "name": ".net-csharp"
  },
  "language_info": {
   "name": "polyglot-notebook"
  },
  "polyglot_notebook": {
   "kernelInfo": {
    "defaultKernelName": "csharp",
    "items": [
     {
      "aliases": [],
      "name": "csharp"
     }
    ]
   }
  }
 },
 "nbformat": 4,
 "nbformat_minor": 5
}
