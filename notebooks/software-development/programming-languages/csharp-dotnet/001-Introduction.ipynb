{
 "cells": [
  {
   "cell_type": "markdown",
   "id": "2a457065",
   "metadata": {},
   "source": [
    "# Introduction\n",
    "\n",
    "## Content\n",
    "\n",
    "1. [What's CSharp?](#whats-csharp)\n",
    "2. [.NET SDK Instalation](#net-sdk-instalation)\n",
    "3. [Hello World](#hello-world)\n",
    "4. [Variables](#variables)\n",
    "5. [Constant](#constant)\n",
    "\n",
    "## What's CSharp?\n",
    "\n",
    "C# is a high-level, general-purpose programming language developed by Microsoft as part of the .NET framework. It's an object-oriented language, meaning it uses objects to structure code and data, and is used to build a variety of applications.\n",
    "\n",
    "C# is known for its ease of learning, strong community support, and ability to produce highly performant code. \n",
    "\n",
    "## .NET SDK Instalation\n",
    "\n",
    "The easiest way to have the .NET SDK installed in your personal computer is to download [Visual Studio](https://visualstudio.microsoft.com/). You can also use other IDE, but you will need to install the [SDK](https://dotnet.microsoft.com/en-us/download/visual-studio-sdks) manually.\n",
    "\n",
    "## Hello World\n",
    "\n",
    "A sample C# program is show here."
   ]
  },
  {
   "cell_type": "code",
   "execution_count": null,
   "id": "db8a5618",
   "metadata": {
    "polyglot_notebook": {
     "kernelName": "csharp"
    }
   },
   "outputs": [],
   "source": [
    "// See https://aka.ms/new-console-template for more information\n",
    "Console.WriteLine(\"Hello, World!\");"
   ]
  },
  {
   "cell_type": "markdown",
   "id": "0ee94ced",
   "metadata": {},
   "source": [
    "Run the program as below:\n",
    "\n",
    "```bash\n",
    "$  dotnet run Program.cs\n",
    "```"
   ]
  },
  {
   "cell_type": "markdown",
   "id": "ee0db8ad",
   "metadata": {},
   "source": [
    "## Variables\n",
    "\n",
    "A variable is a symbol used for storing different values.\n",
    "\n",
    "\n",
    "### Explicitly Typed:"
   ]
  },
  {
   "cell_type": "code",
   "execution_count": null,
   "id": "40e41f17",
   "metadata": {
    "polyglot_notebook": {
     "kernelName": "csharp"
    }
   },
   "outputs": [],
   "source": [
    "string firstName = \"Someone\";\n",
    "char userOption = 'A';\n",
    "int gameScore = 123;\n",
    "float percentage = 12.10f;\n",
    "double portion = 4.556;\n",
    "decimal particlesPerMillion = 123.4567m;\n",
    "bool processedCustomer = true;"
   ]
  },
  {
   "cell_type": "markdown",
   "id": "48cdee50",
   "metadata": {},
   "source": [
    "### Implicitly Typed:"
   ]
  },
  {
   "cell_type": "code",
   "execution_count": null,
   "id": "b2f48db6",
   "metadata": {
    "polyglot_notebook": {
     "kernelName": "csharp"
    }
   },
   "outputs": [],
   "source": [
    "var message = \"Hello world!\";"
   ]
  },
  {
   "cell_type": "markdown",
   "id": "309b699b",
   "metadata": {},
   "source": [
    "## Constant\n",
    "\n",
    "A kind of variable that is immutable."
   ]
  },
  {
   "cell_type": "code",
   "execution_count": null,
   "id": "622b774d",
   "metadata": {
    "polyglot_notebook": {
     "kernelName": "csharp"
    }
   },
   "outputs": [],
   "source": [
    "const int ConstNum = 5;"
   ]
  }
 ],
 "metadata": {
  "kernelspec": {
   "display_name": ".NET (C#)",
   "language": "C#",
   "name": ".net-csharp"
  },
  "language_info": {
   "name": "polyglot-notebook"
  },
  "polyglot_notebook": {
   "kernelInfo": {
    "defaultKernelName": "csharp",
    "items": [
     {
      "aliases": [],
      "name": "csharp"
     }
    ]
   }
  }
 },
 "nbformat": 4,
 "nbformat_minor": 5
}
