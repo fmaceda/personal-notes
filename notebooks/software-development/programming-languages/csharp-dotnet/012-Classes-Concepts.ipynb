{
 "cells": [
  {
   "cell_type": "markdown",
   "id": "8804231a",
   "metadata": {},
   "source": [
    "# Classes Concepts\n",
    "\n",
    "## Content\n",
    "\n",
    "1. [Polymorphism](#polymorphism)\n",
    "2. [Members](#members)"
   ]
  },
  {
   "cell_type": "markdown",
   "id": "e07d0294",
   "metadata": {},
   "source": [
    "## Polymorphism\n",
    "\n",
    "The C# language is designed so that versioning between base and derived classes in different libraries can evolve and maintain backward compatibility. This means, for example, that the introduction of a new member in a base class with the same name as a member in a derived class is completely supported by C# and does not lead to unexpected behavior. It also means that a class must explicitly state whether a method is intended to override an inherited method, or whether a method is a new method that hides a similarly named inherited method.\n",
    "\n",
    "### Virtual and Override\n",
    "\n",
    "By default, C# methods are not virtual. If a method is declared as virtual, any class inheriting the method can implement its own version."
   ]
  },
  {
   "cell_type": "code",
   "execution_count": 3,
   "id": "547cfd8a",
   "metadata": {
    "language_info": {
     "name": "polyglot-notebook"
    },
    "polyglot_notebook": {
     "kernelName": "csharp"
    }
   },
   "outputs": [
    {
     "name": "stdout",
     "output_type": "stream",
     "text": [
      "Max barks.\n",
      "Max makes a noise.\n"
     ]
    }
   ],
   "source": [
    "public class Animal(string Name)\n",
    "{\n",
    "  public virtual void MakeNoise()\n",
    "  {\n",
    "    Console.WriteLine($\"{Name} makes a noise.\");\n",
    "  }\n",
    "}\n",
    "\n",
    "public class Dog(string Name) : Animal(Name)\n",
    "{\n",
    "  public override void MakeNoise()\n",
    "  {\n",
    "    Console.WriteLine($\"{Name} barks.\");\n",
    "\n",
    "    base.MakeNoise(); // Calls the base class method\n",
    "  }\n",
    "}\n",
    "\n",
    "var dog = new Dog(\"Max\");\n",
    "\n",
    "dog.MakeNoise();"
   ]
  },
  {
   "cell_type": "markdown",
   "id": "9adcbbf9",
   "metadata": {},
   "source": [
    "### Hiding Base Class Method\n",
    "\n",
    "In C#, a method in a derived class can have the same name as a method in the base class. You can hide the base class methods by using the new keyword."
   ]
  },
  {
   "cell_type": "code",
   "execution_count": 7,
   "id": "52c01b1b",
   "metadata": {
    "language_info": {
     "name": "polyglot-notebook"
    },
    "polyglot_notebook": {
     "kernelName": "csharp"
    }
   },
   "outputs": [
    {
     "name": "stdout",
     "output_type": "stream",
     "text": [
      "Base - Method1\n",
      "Base - Method2\n",
      "Derived - Method1\n",
      "Derived - Method2\n",
      "Derived - Method1\n",
      "Base - Method2\n"
     ]
    }
   ],
   "source": [
    "class BaseClass  \n",
    "{  \n",
    "  public virtual void Method1()  \n",
    "  {  \n",
    "    Console.WriteLine(\"Base - Method1\");  \n",
    "  }\n",
    "\n",
    "  public void Method2()  \n",
    "  {  \n",
    "    Console.WriteLine(\"Base - Method2\");  \n",
    "  }  \n",
    "}  \n",
    "  \n",
    "class DerivedClass : BaseClass  \n",
    "{  \n",
    "  public override void Method1()  \n",
    "  {  \n",
    "    Console.WriteLine(\"Derived - Method1\");  \n",
    "  } \n",
    "  \n",
    "  public new void Method2()  \n",
    "  {  \n",
    "    Console.WriteLine(\"Derived - Method2\");  \n",
    "  }  \n",
    "}\n",
    "\n",
    "BaseClass bc = new BaseClass();\n",
    "DerivedClass dc = new DerivedClass();\n",
    "BaseClass bcdc = new DerivedClass();\n",
    "\n",
    "bc.Method1();  \n",
    "bc.Method2();  \n",
    "dc.Method1();  \n",
    "dc.Method2();  \n",
    "bcdc.Method1();  \n",
    "bcdc.Method2();  "
   ]
  },
  {
   "cell_type": "markdown",
   "id": "2db4bde7",
   "metadata": {},
   "source": [
    "## Members\n",
    "\n",
    "Classes and structs have members that represent their data and behavior.\n",
    "\n",
    "| Member | Description |\n",
    "| --- | --- |\n",
    "| Fields | Fields are variables declared at class scope. A field may be a built-in numeric type or an instance of another class. For example, a calendar class may have a field that contains the current date. |\n",
    "|Constants | Constants are fields whose value is set at compile time and cannot be changed. |\n",
    "| Properties | Properties are methods on a class that are accessed as if they were fields on that class. A property can provide protection for a class field to keep it from being changed without the knowledge of the object. |\n",
    "| Methods | Methods define the actions that a class can perform. Methods can take parameters that provide input data, and can return output data through parameters. Methods can also return a value directly, without using a parameter. |\n",
    "| Events | Events provide notifications about occurrences, such as button clicks or the successful completion of a method, to other objects. Events are defined and triggered by using delegates. |\n",
    "| Operators | Overloaded operators are considered type members. When you overload an operator, you define it as a public method in a type. For more information, see Operator overloading. |\n",
    "| Indexers | Indexers enable an object to be indexed in a manner similar to arrays. |\n",
    "| Constructors | Constructors are methods that are called when the object is first created. They are often used to initialize the data of an object. |\n",
    "| Finalizers | Finalizers are used very rarely in C#. They are methods that are called by the runtime execution engine when the object is about to be removed from memory. They are generally used to make sure that any resources which must be released are handled appropriately. |\n",
    "| Nested Types | Nested types are types declared within another type. Nested types are often used to describe objects that are used only by the types that contain them. |"
   ]
  },
  {
   "cell_type": "markdown",
   "id": "52dcc997",
   "metadata": {},
   "source": [
    "### Fields\n",
    "\n",
    "A field is a variable of any type that is declared directly in a class or struct. Fields are members of their containing type."
   ]
  },
  {
   "cell_type": "code",
   "execution_count": null,
   "id": "4ac12477",
   "metadata": {
    "language_info": {
     "name": "polyglot-notebook"
    },
    "polyglot_notebook": {
     "kernelName": "csharp"
    }
   },
   "outputs": [],
   "source": [
    "public class Person {\n",
    "  public string Name { get; set; }\n",
    "  public int Age { get; set; }\n",
    "}\n",
    "\n",
    "var person = new Person {\n",
    "  Name = \"John\",\n",
    "  Age = 30\n",
    "};"
   ]
  },
  {
   "cell_type": "markdown",
   "id": "01503677",
   "metadata": {},
   "source": [
    "### Constants \n",
    "\n",
    "Constants are immutable values which are known at compile time and do not change for the life of the program."
   ]
  },
  {
   "cell_type": "code",
   "execution_count": null,
   "id": "92f67337",
   "metadata": {
    "language_info": {
     "name": "polyglot-notebook"
    },
    "polyglot_notebook": {
     "kernelName": "csharp"
    }
   },
   "outputs": [],
   "source": [
    "class Calendar1\n",
    "{\n",
    "  public const int Months = 12;\n",
    "}"
   ]
  },
  {
   "cell_type": "markdown",
   "id": "80adae64",
   "metadata": {},
   "source": [
    "### Properties\n",
    "\n",
    "A property is a member that provides a flexible mechanism to read, write, or compute the value of a data field. Properties appear as public data members, but they're implemented as special methods called accessors."
   ]
  },
  {
   "cell_type": "code",
   "execution_count": null,
   "id": "764dfc2c",
   "metadata": {
    "language_info": {
     "name": "polyglot-notebook"
    },
    "polyglot_notebook": {
     "kernelName": "csharp"
    }
   },
   "outputs": [],
   "source": [
    "public class Person\n",
    "{\n",
    "  private string _firstName;\n",
    "  public string FirstName\n",
    "  {\n",
    "    get => _firstName;\n",
    "    set\n",
    "    {\n",
    "      _firstName = value;\n",
    "      _fullName = null;\n",
    "    }\n",
    "  }\n",
    "  public required string LastName { get; set; }\n",
    "  public string Age { get; init; } // 'init' allows setting during object initialization only.\n",
    "\n",
    "  private string _fullName;\n",
    "  public string FullName // Property with backing fields.\n",
    "  {\n",
    "    get\n",
    "    {\n",
    "      if (_fullName is null)\n",
    "        _fullName = $\"{FirstName} {LastName}\";\n",
    "      return _fullName;\n",
    "    }\n",
    "  }\n",
    "}\n",
    "\n",
    "var person = new Person\n",
    "{\n",
    "  LastName = \"Doe\", // LastName is required, so it must be set.\n",
    "  Age = \"30\" // Age can be set during initialization.\n",
    "};"
   ]
  },
  {
   "cell_type": "markdown",
   "id": "5df4ec36",
   "metadata": {},
   "source": [
    "### Methods\n",
    "\n",
    "A method is a code block that contains a series of statements. A program causes the statements to be executed by calling the method and specifying any required method arguments. In C#, every executed instruction is performed in the context of a method."
   ]
  },
  {
   "cell_type": "code",
   "execution_count": null,
   "id": "abd1d887",
   "metadata": {
    "language_info": {
     "name": "polyglot-notebook"
    },
    "polyglot_notebook": {
     "kernelName": "csharp"
    }
   },
   "outputs": [],
   "source": [
    "abstract class Motorcycle\n",
    "{\n",
    "  // Anyone can call this.\n",
    "  public void StartEngine() {/* Method statements here */ }\n",
    "\n",
    "  // Derived classes can override the base class implementation.\n",
    "  public virtual int Drive(int miles, int speed) { /* Method statements here */ return 1; }\n",
    "\n",
    "  // Derived classes must implement this.\n",
    "  public abstract double GetTopSpeed();\n",
    "}\n",
    "\n",
    "class TestMotorcycle : Motorcycle\n",
    "{\n",
    "  public override double GetTopSpeed()\n",
    "  {\n",
    "    return 108.4;\n",
    "  }\n",
    "}\n",
    "\n",
    "TestMotorcycle moto = new TestMotorcycle();\n",
    "\n",
    "moto.StartEngine();\n",
    "moto.Drive(5, 20);\n",
    "double speed = moto.GetTopSpeed();\n",
    "Console.WriteLine($\"My top speed is {speed}\");"
   ]
  },
  {
   "cell_type": "markdown",
   "id": "eaebdfbe",
   "metadata": {},
   "source": [
    "### Events\n",
    "\n",
    "Events enable a class or object to notify other classes or objects when something of interest occurs. The class that sends (or raises) the event is called the publisher and the classes that receive (or handle) the event are called subscribers."
   ]
  },
  {
   "cell_type": "code",
   "execution_count": 1,
   "metadata": {
    "language_info": {
     "name": "polyglot-notebook"
    },
    "polyglot_notebook": {
     "kernelName": "csharp"
    }
   },
   "outputs": [
    {
     "name": "stdout",
     "output_type": "stream",
     "text": [
      "Value changed to: Hello, World!\r\n"
     ]
    }
   ],
   "source": [
    "// Define a custom event arguments class.\n",
    "public class TestClass {\n",
    "  private string _value;\n",
    "  public event EventHandler<ValueChangedArgs> ValueChanged;\n",
    "\n",
    "  public void SetValue(string value) {\n",
    "    if (value != _value) {\n",
    "      _value = value;\n",
    "      OnValueChanged(new ValueChangedArgs(value));\n",
    "    }\n",
    "  }\n",
    "\n",
    "  protected void OnValueChanged(ValueChangedArgs eventArgs) {\n",
    "    ValueChanged?.Invoke(this, eventArgs);\n",
    "    // ValueChanged(this, eventArgs); // Other way to invoke the event.\n",
    "  }\n",
    "}\n",
    "\n",
    "public class ValueChangedArgs : EventArgs\n",
    "{\n",
    "  public string Value { get; }\n",
    "\n",
    "  public ValueChangedArgs(string value) => Value = value;\n",
    "}\n",
    "\n",
    "public void OnValueChanged(object sender, ValueChangedArgs eventArgs) {\n",
    "  Console.WriteLine($\"Value changed to: {eventArgs.Value}\");\n",
    "}\n",
    "\n",
    "var test = new TestClass();\n",
    "\n",
    "// Subscribe to the event.\n",
    "test.ValueChanged += OnValueChanged;\n",
    "\n",
    "// Unsubscribe from the event.\n",
    "// test.ValueChanged -= OnValueChanged;\n",
    "\n",
    "test.SetValue(\"Hello, World!\");\n",
    "\n",
    "\n"
   ]
  },
  {
   "cell_type": "markdown",
   "id": "446aaa78",
   "metadata": {},
   "source": [
    "### Operators\n",
    "\n",
    "C# provides a number of operators. Many of them are supported by the built-in types and allow you to perform basic operations with values of those types.\n",
    "\n",
    "#### Operators Overloading"
   ]
  },
  {
   "cell_type": "code",
   "execution_count": 8,
   "metadata": {
    "language_info": {
     "name": "polyglot-notebook"
    },
    "polyglot_notebook": {
     "kernelName": "csharp"
    }
   },
   "outputs": [
    {
     "name": "stdout",
     "output_type": "stream",
     "text": [
      "-5 / 4\n",
      "14 / 8\n",
      "6 / 8\n",
      "5 / 8\n",
      "10 / 4\n"
     ]
    }
   ],
   "source": [
    "public struct Fraction\n",
    "{\n",
    "  private int numerator;\n",
    "  private int denominator;\n",
    "\n",
    "  public Fraction(int numerator, int denominator)\n",
    "  {\n",
    "    if (denominator == 0)\n",
    "    {\n",
    "      throw new ArgumentException(\"Denominator cannot be zero.\", nameof(denominator));\n",
    "    }\n",
    "    this.numerator = numerator;\n",
    "    this.denominator = denominator;\n",
    "  }\n",
    "\n",
    "  public static Fraction operator +(Fraction operand) => operand;\n",
    "  public static Fraction operator -(Fraction operand) => new Fraction(-operand.numerator, operand.denominator);\n",
    "\n",
    "  public static Fraction operator +(Fraction left, Fraction right)\n",
    "    => new Fraction(left.numerator * right.denominator + right.numerator * left.denominator, left.denominator * right.denominator);\n",
    "\n",
    "  public static Fraction operator -(Fraction left, Fraction right)\n",
    "    => left + (-right);\n",
    "\n",
    "  public static Fraction operator *(Fraction left, Fraction right)\n",
    "    => new Fraction(left.numerator * right.numerator, left.denominator * right.denominator);\n",
    "\n",
    "  public static Fraction operator /(Fraction left, Fraction right)\n",
    "  {\n",
    "    if (right.numerator == 0)\n",
    "    {\n",
    "      throw new DivideByZeroException();\n",
    "    }\n",
    "    return new Fraction(left.numerator * right.denominator, left.denominator * right.numerator);\n",
    "  }\n",
    "\n",
    "  // Define increment and decrement to add 1/den, rather than 1/1.\n",
    "  public static Fraction operator ++(Fraction operand)\n",
    "    => new Fraction(operand.numerator++, operand.denominator);\n",
    "\n",
    "  public static Fraction operator --(Fraction operand) =>\n",
    "    new Fraction(operand.numerator--, operand.denominator);\n",
    "\n",
    "  public override string ToString() => $\"{numerator} / {denominator}\";\n",
    "\n",
    "  // New operators allowed in C# 14:\n",
    "  // public void operator +=(Fraction operand) =>\n",
    "  //   (numerator, denominator ) =\n",
    "  //   (\n",
    "  //     numerator * operand.denominator + operand.numerator * denominator,\n",
    "  //     denominator * operand.denominator\n",
    "  //   );\n",
    "\n",
    "  // public void operator -=(Fraction operand) =>\n",
    "  //   (numerator, denominator) =\n",
    "  //   (\n",
    "  //     numerator * operand.denominator - operand.numerator * denominator,\n",
    "  //     denominator * operand.denominator\n",
    "  //   );\n",
    "\n",
    "  // public void operator *=(Fraction operand) =>\n",
    "  //   (numerator, denominator) =\n",
    "  //   (\n",
    "  //     numerator * operand.numerator,\n",
    "  //     denominator * operand.denominator\n",
    "  //   );\n",
    "\n",
    "  // public void operator /=(Fraction operand)\n",
    "  // {\n",
    "  //   if (operand.numerator == 0)\n",
    "  //   {\n",
    "  //     throw new DivideByZeroException();\n",
    "  //   }\n",
    "  //   (numerator, denominator) =\n",
    "  //   (\n",
    "  //     numerator * operand.denominator,\n",
    "  //     denominator * operand.numerator\n",
    "  //   );\n",
    "  // }\n",
    "\n",
    "  // public void operator ++() => numerator++;\n",
    "\n",
    "  // public void operator --() => numerator--;\n",
    "}\n",
    "\n",
    "var a = new Fraction(5, 4);\n",
    "var b = new Fraction(1, 2);\n",
    "Console.WriteLine(-a);   // output: -5 / 4\n",
    "Console.WriteLine(a + b);  // output: 14 / 8\n",
    "Console.WriteLine(a - b);  // output: 6 / 8\n",
    "Console.WriteLine(a * b);  // output: 5 / 8\n",
    "Console.WriteLine(a / b);  // output: 10 / 4"
   ]
  },
  {
   "cell_type": "markdown",
   "id": "1ab34d52",
   "metadata": {},
   "source": [
    "### Indexers\n",
    "\n",
    "You define indexers when instances of a class or struct can be indexed like an array or other collection. The indexed value can be set or retrieved without explicitly specifying a type or instance member."
   ]
  },
  {
   "cell_type": "code",
   "execution_count": null,
   "metadata": {
    "language_info": {
     "name": "polyglot-notebook"
    },
    "polyglot_notebook": {
     "kernelName": "csharp"
    }
   },
   "outputs": [
    {
     "name": "stdout",
     "output_type": "stream",
     "text": [
      "Index 0: Custom index\r\n"
     ]
    }
   ],
   "source": [
    "public class SampleCollection<T>\n",
    "{\n",
    "  // Declare an array to store the data elements.\n",
    "  private T[] arr = new T[100];\n",
    "\n",
    "  // Define the indexer to allow client code to use [] notation.\n",
    "  public T this[int index]\n",
    "  {\n",
    "    get => arr[index];\n",
    "    set => arr[index] = value;\n",
    "  }\n",
    "}\n",
    "\n",
    "var sample = new SampleCollection<string>();\n",
    "sample[0] = \"Custom index\";\n",
    "\n",
    "Console.WriteLine($\"Index 0: {sample[0]}\");"
   ]
  },
  {
   "cell_type": "markdown",
   "id": "44c2bc2e",
   "metadata": {},
   "source": [
    "### Constructors\n",
    "\n",
    "A constructor is a method called by the runtime when an instance of a class or a struct is created. A class or struct can have multiple constructors that take different arguments."
   ]
  },
  {
   "cell_type": "code",
   "execution_count": 9,
   "id": "f1a04a31",
   "metadata": {
    "language_info": {
     "name": "polyglot-notebook"
    },
    "polyglot_notebook": {
     "kernelName": "csharp"
    }
   },
   "outputs": [
    {
     "name": "stdout",
     "output_type": "stream",
     "text": [
      "Person: Doe, John\r\n"
     ]
    }
   ],
   "source": [
    "public class Person\n",
    "{\n",
    "  public string LastName;\n",
    "  public string FirstName;\n",
    "\n",
    "  public Person(string lastName, string firstName)\n",
    "  {\n",
    "    LastName = lastName;\n",
    "    FirstName= firstName;\n",
    "  }\n",
    "}\n",
    "\n",
    "var person = new Person(\"Doe\", \"John\");\n",
    "Console.WriteLine($\"Person: {person.LastName}, {person.FirstName}\");"
   ]
  },
  {
   "cell_type": "markdown",
   "id": "d90b6281",
   "metadata": {},
   "source": [
    "#### Static Constructors\n",
    "\n",
    "Static constructors are parameterless. If you don't provide a static constructor to initialize static fields, the C# compiler initializes static fields to their default value"
   ]
  },
  {
   "cell_type": "code",
   "execution_count": 10,
   "id": "16c52007",
   "metadata": {
    "language_info": {
     "name": "polyglot-notebook"
    },
    "polyglot_notebook": {
     "kernelName": "csharp"
    }
   },
   "outputs": [
    {
     "name": "stdout",
     "output_type": "stream",
     "text": [
      "Minimum age for adults: 18\r\n"
     ]
    }
   ],
   "source": [
    "public class Person\n",
    "{\n",
    "  private string last;\n",
    "  private string first;\n",
    "\n",
    "  public Person(string lastName, string firstName)\n",
    "  {\n",
    "    last = lastName;\n",
    "    first = firstName;\n",
    "  }\n",
    "}\n",
    "\n",
    "public class Adult : Person\n",
    "{\n",
    "  public static int minimumAge;\n",
    "\n",
    "  public Adult(string lastName, string firstName) : base(lastName, firstName)\n",
    "  { }\n",
    "\n",
    "  static Adult() => minimumAge = 18;\n",
    "}\n",
    "\n",
    "var adult = new Adult(\"Doe\", \"John\");\n",
    "\n",
    "Console.WriteLine($\"Minimum age for adults: {Adult.minimumAge}\");"
   ]
  },
  {
   "cell_type": "markdown",
   "id": "7ceba550",
   "metadata": {},
   "source": [
    "#### Primary Constructor"
   ]
  },
  {
   "cell_type": "code",
   "execution_count": null,
   "id": "0a65e36b",
   "metadata": {
    "language_info": {
     "name": "polyglot-notebook"
    },
    "polyglot_notebook": {
     "kernelName": "csharp"
    }
   },
   "outputs": [],
   "source": [
    "public class NamedItem(string name)\n",
    "{\n",
    "  public string Name => name;\n",
    "}"
   ]
  },
  {
   "cell_type": "markdown",
   "id": "393e570c",
   "metadata": {},
   "source": [
    "### Finalizers\n",
    "\n",
    "Finalizers (historically referred to as destructors) are used to perform any necessary final clean-up when a class instance is being collected by the garbage collector."
   ]
  },
  {
   "cell_type": "code",
   "execution_count": null,
   "id": "331977e7",
   "metadata": {
    "language_info": {
     "name": "polyglot-notebook"
    },
    "polyglot_notebook": {
     "kernelName": "csharp"
    }
   },
   "outputs": [],
   "source": [
    "class First\n",
    "{\n",
    "  ~First()\n",
    "  {\n",
    "    System.Diagnostics.Trace.WriteLine(\"First's finalizer is called.\");\n",
    "  }\n",
    "}\n",
    "\n",
    "class Second : First\n",
    "{\n",
    "  ~Second()\n",
    "  {\n",
    "    System.Diagnostics.Trace.WriteLine(\"Second's finalizer is called.\");\n",
    "  }\n",
    "}\n",
    "\n",
    "class Third : Second\n",
    "{\n",
    "  ~Third()\n",
    "  {\n",
    "    System.Diagnostics.Trace.WriteLine(\"Third's finalizer is called.\");\n",
    "  }\n",
    "}\n",
    "\n",
    "/* \n",
    "Test with code like the following:\n",
    "  Third t = new Third();\n",
    "  t = null;\n",
    "\n",
    "When objects are finalized, the output would be:\n",
    "Third's finalizer is called.\n",
    "Second's finalizer is called.\n",
    "First's finalizer is called.\n",
    "*/"
   ]
  },
  {
   "cell_type": "markdown",
   "id": "c815d4e0",
   "metadata": {},
   "source": [
    "### Nested Types\n",
    "\n",
    "A type defined within a class, struct, or interface is called a nested type. Regardless of whether the outer type is a class, interface, or struct, nested types default to private; they are accessible only from their containing type."
   ]
  },
  {
   "cell_type": "code",
   "execution_count": null,
   "id": "b04ea29c",
   "metadata": {
    "language_info": {
     "name": "polyglot-notebook"
    },
    "polyglot_notebook": {
     "kernelName": "csharp"
    }
   },
   "outputs": [],
   "source": [
    "public class Container\n",
    "{\n",
    "  class Nested\n",
    "  {\n",
    "    Nested() { }\n",
    "  }\n",
    "}"
   ]
  },
  {
   "cell_type": "markdown",
   "id": "34bcab74",
   "metadata": {},
   "source": [
    "### Access Modifiers for Members\n",
    "\n",
    "All types and type members have an accessibility level. The accessibility level controls whether they can be used from other code in your assembly or other assemblies. An assembly is a .dll or .exe created by compiling one or more .cs files in a single compilation.\n",
    "\n",
    "- **public:** Code in any assembly can access this type or member. The accessibility level of the containing type controls the accessibility level of public members of the type.\n",
    "- **private:** Only code declared in the same class or struct can access this member.\n",
    "- **protected:** Only code in the same class or in a derived class can access this type or member.\n",
    "- **internal:** Only code in the same assembly can access this type or member.\n",
    "- **protected internal:** Only code in the same assembly or in a derived class in another assembly can access this type or member.\n",
    "- **private protected:** Only code in the same assembly and in the same class or a derived class can access the type or member.\n",
    "- **file:** Only code in the same file can access the type or member.\n",
    "\n",
    "Struct members can't be declared as protected, protected internal, or private protected because structs don't support inheritance."
   ]
  }
 ],
 "metadata": {
  "kernelspec": {
   "display_name": ".NET (C#)",
   "language": "C#",
   "name": ".net-csharp"
  },
  "language_info": {
   "name": "polyglot-notebook"
  },
  "polyglot_notebook": {
   "kernelInfo": {
    "defaultKernelName": "csharp",
    "items": [
     {
      "aliases": [],
      "name": "csharp"
     }
    ]
   }
  }
 },
 "nbformat": 4,
 "nbformat_minor": 5
}
