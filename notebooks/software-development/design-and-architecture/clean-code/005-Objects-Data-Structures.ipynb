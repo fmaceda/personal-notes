{
 "cells": [
  {
   "cell_type": "markdown",
   "id": "9f9b16ea",
   "metadata": {},
   "source": [
    "# Objects and Data Structure\n",
    "\n",
    "## Content\n",
    "\n",
    "1. [Objects and Data Structures](#objects-and-data-structures)\n",
    "2. [The Law of Demeter](#the-law-of-demeter)\n",
    "3. [Resources](#resources)"
   ]
  },
  {
   "cell_type": "markdown",
   "id": "8bfa327a",
   "metadata": {},
   "source": [
    "## Objects and Data Structures\n",
    "\n",
    "### Data Abstraction\n",
    "\n",
    "Abstraction is the process of hiding implementation details and exposing only the essential features of a system or component. As well, using proper names that don't expose the implementation details.\n",
    "\n",
    "### Data/Object Anti-Symmetry\n",
    "\n",
    "- Objects hide their data behind abstractions and expose functions that operate on that data.\n",
    "- Data structure expose their data and have no meaningful functions."
   ]
  },
  {
   "cell_type": "code",
   "execution_count": null,
   "id": "edcd1d39",
   "metadata": {},
   "outputs": [],
   "source": [
    "// Shared class\n",
    "public class Point {\n",
    "  public double X;\n",
    "  public double Y;\n",
    "}\n",
    "\n",
    "// Procedural Code\n",
    "public class Square {\n",
    "  public Point TopLeft;\n",
    "  public double Side;\n",
    "}\n",
    "\n",
    "public class Rectangle {\n",
    "  public Point TopLeft;\n",
    "  public double Height;\n",
    "  public double Width;\n",
    "}\n",
    "\n",
    "public class Circle {\n",
    "  public Point Center;\n",
    "  public double Radius;\n",
    "}\n",
    "\n",
    "public class Geometry {\n",
    "  public double PI = 3.141592653589793;\n",
    "\n",
    "  public double area(Object shape)\n",
    "  {\n",
    "    if (shape is Square) {\n",
    "      Square s = (Square)shape;\n",
    "      return s.Side * s.Side;\n",
    "    }\n",
    "    else if (shape is Rectangle) {\n",
    "      Rectangle r = (Rectangle)shape;\n",
    "      return r.Height * r.Width;\n",
    "    }\n",
    "    else if (shape is Circle) {\n",
    "      Circle c = (Circle)shape;\n",
    "      return PI * c.Radius * c.Radius;\n",
    "    }\n",
    "    else \n",
    "    {\n",
    "      return 0;\n",
    "    }\n",
    "  }\n",
    "}"
   ]
  },
  {
   "cell_type": "code",
   "execution_count": null,
   "id": "0b72eb4e",
   "metadata": {},
   "outputs": [],
   "source": [
    "// Shared class\n",
    "public class Point {\n",
    "  public double X;\n",
    "  public double Y;\n",
    "}\n",
    "\n",
    "// OO Code\n",
    "public interface Shape\n",
    "{\n",
    "  double area();\n",
    "}\n",
    "\n",
    "public class Square : Shape {\n",
    "  private Point TopLeft;\n",
    "  private double Side;\n",
    "\n",
    "  public double area() {\n",
    "    return Side*Side;\n",
    "  }\n",
    "}\n",
    "\n",
    "public class Rectangle : Shape {\n",
    "  private Point TopLeft;\n",
    "  private double Height;\n",
    "  private double Width;\n",
    "\n",
    "  public double area() {\n",
    "    return Height * Width;\n",
    "  }\n",
    "}\n",
    "\n",
    "public class Circle : Shape {\n",
    "  private Point Center;\n",
    "  private double Radius;\n",
    "  public double PI = 3.141592653589793;\n",
    "\n",
    "  public double area() {\n",
    "    return PI * Radius * Radius;\n",
    "  }\n",
    "}"
   ]
  },
  {
   "cell_type": "markdown",
   "id": "f3b7e3f2",
   "metadata": {},
   "source": [
    "- `Procedural` code (code using data structures) makes it easy to add new functions without changing the existing data structures. `OO` code, on the other hand, makes it easy to add new classes without changing existing functions.\n",
    "- `Procedural` code makes it hard to add new data structures because all the functions must change. `OO` code makes it hard to add new functions because all the classes must change."
   ]
  },
  {
   "cell_type": "markdown",
   "id": "ead1b96a",
   "metadata": {},
   "source": [
    "## The Law of Demeter\n",
    "\n",
    "There is a well-known heuristic called the Law of Demeter that says a module should not know about the innards of the objects it manipulates.\n",
    "\n",
    "More precisely, the Law of Demeter says that a method f of a class C should only call the methods of these:\n",
    "\n",
    "- C (Same class)\n",
    "- An object created by f (Inside the same method)\n",
    "- An object passed as an argument to f\n",
    "- An object held in an instance variable of C\n",
    "\n",
    "### Violation of the Law of Demeter\n",
    "\n",
    "- **Train Wrecks:** In objects, avoid excessive chaining of method calls. It is usually best to split them up.\n",
    "- **Hybrids:** This confusion sometimes leads to unfortunate hybrid structures that are half object and half data structure. Such hybrids make it hard to add new functions but also make it hard to add new data structures.\n",
    "- **Hiding Structure:** Encapsulate implementation details.\n",
    "\n",
    "### Data Transfer Objects (DTO)\n",
    "\n",
    "Data Transfer Objects (DTOs) are objects used to transfer data between different layers or components of a software system.\n",
    "DTOs are very useful structures, especially when communicating with databases or parsing messages from sockets, and so on. They often become the first in a series of translation stages that convert raw data in a database into objects in the application code.\n",
    "\n",
    "Active Records are special format of DTOs as they have navigational methods like save and find."
   ]
  },
  {
   "cell_type": "code",
   "execution_count": null,
   "id": "b8956148",
   "metadata": {},
   "outputs": [],
   "source": [
    "public class Address {\n",
    "  private string Street { get; }\n",
    "  private string StreetExtra { get; }\n",
    "  private string City { get; }\n",
    "  private string State { get; }\n",
    "  private string Zip { get; }\n",
    "\n",
    "  public Address(\n",
    "    string street,\n",
    "    string streetExtra,\n",
    "    string city,\n",
    "    string state,\n",
    "    string zip)\n",
    "  {\n",
    "    Street = street;\n",
    "    StreetExtra = streetExtra;\n",
    "    City = city;\n",
    "    State = state;\n",
    "    Zip = zip;\n",
    "  }\n",
    "}"
   ]
  },
  {
   "cell_type": "markdown",
   "id": "a1e9ced9",
   "metadata": {},
   "source": [
    "#### Active Record\n",
    "\n",
    "Active Records are special forms of DTOs. They are data structures with public (or beanaccessed) variables; but they typically have navigational methods like save and find. Typically these Active Records are direct translations from database tables, or other data sources."
   ]
  },
  {
   "cell_type": "markdown",
   "id": "56513da3",
   "metadata": {},
   "source": [
    "## Resources\n",
    "\n",
    "- *Clean Code: A Handbook of Agile Software Craftsmanship*, by Robert C. Martin\n",
    "- [Clean Code in C# Part 4 Formatting - DEV Community](https://dev.to/caiocesar/clean-code-in-c-part-4-formatting-1b1h)\n"
   ]
  }
 ],
 "metadata": {
  "kernelspec": {
   "display_name": ".NET (C#)",
   "language": "C#",
   "name": ".net-csharp"
  },
  "language_info": {
   "name": "polyglot-notebook"
  },
  "polyglot_notebook": {
   "kernelInfo": {
    "defaultKernelName": "csharp",
    "items": [
     {
      "aliases": [],
      "name": "csharp"
     }
    ]
   }
  }
 },
 "nbformat": 4,
 "nbformat_minor": 5
}
