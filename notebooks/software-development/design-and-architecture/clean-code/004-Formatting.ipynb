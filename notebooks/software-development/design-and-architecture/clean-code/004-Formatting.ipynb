{
 "cells": [
  {
   "cell_type": "markdown",
   "id": "0f916b96",
   "metadata": {},
   "source": [
    "# Formatting\n",
    "\n",
    "## Content\n",
    "\n",
    "1. [Rules of formatting](#rules-of-formatting)\n",
    "2. [Vertical Formatting](#vertical-formatting)\n",
    "3. [Horizontal Formatting](#horizontal-formatting)\n",
    "4. [Resources](#resources)"
   ]
  },
  {
   "cell_type": "markdown",
   "id": "690b15f7",
   "metadata": {},
   "source": [
    "## Rules of formatting\n",
    "\n",
    "### The Purpose of Formatting\n",
    "\n",
    "Code formatting is about communication, and communication is the professional developer's first order of business."
   ]
  },
  {
   "cell_type": "markdown",
   "id": "e171bb1e",
   "metadata": {},
   "source": [
    "## Vertical Formatting\n",
    "\n",
    "According to Robert C. Martin example, files long preferred to be 200 lines with an upper limit of 500 lines long.\n",
    "\n",
    "Although this should not be a hard and fast rule, it should be considered very desirable. Small files are usually easier to understand than large files are.\n",
    "\n",
    "### The Newspaper Metaphor\n",
    "\n",
    "Think of a well-written newspaper article. You read it vertically. At the top you expect a headline that will tell you what the story is about and allows you to decide whether it is something you want to read. The first paragraph gives you a synopsis of the whole story, hiding all the details while giving you the broad-brush concepts. As you continue downward, the details increase until you have all the dates, names, quotes, claims, and other minutia.\n",
    "\n",
    "Having this example put on code formatting, we can think the following:\n",
    "\n",
    "- File name should be simple but explanatory. The name, by itself, should be sufficient to tell us whether we are in the\n",
    "right module or not.\n",
    "- The topmost parts of the source file should provide the high-level concepts and algorithms.\n",
    "- Detail should increase as we move downward, until at the end we find the lowest level functions and details in the source file.\n",
    "\n",
    "### Vertical Openness Between Concepts\n",
    "\n",
    "Nearly all code is read left to right and top to bottom. Each line represents an expression or a clause, and each group of lines represents a complete thought. Those thoughts should be separated from each other with blank lines.\n",
    "\n",
    "### Vertical Density\n",
    "\n",
    "If openness separates concepts, then vertical density implies close association. So lines of code that are tightly related should appear vertically dense. For example, in a class, each property will follow the previous one, then we place a blank line to separate properties from methods.\n",
    "\n",
    "### Vertical Distance\n",
    "\n",
    "Concepts that are closely related should be kept vertically close to each other.\n",
    "Clearly this rule doesn't work for concepts that belong in separate files. But then closely related concepts should not be separated into different files unless you have a very good reason. Indeed, this is one of the reasons that protected variables should be avoided.\n",
    "\n",
    "- **Variable Declarations:** Variables should be declared as close to their usage as possible.\n",
    "- **Instance variables:** They should be declared at the top of the class. This should not increase the vertical distance of these variables.\n",
    "- **Dependent Functions:** If one function calls another, they should be vertically close, and the caller should be above the callee, if at all possible. Constants should be kept at an appropriate level; therefore, we pass them from the place where it makes sense to know it to the low-level function where it is actually used.\n",
    "- **Conceptual Affinity:**  The stronger the affinity the less vertical distance there should be between them. This affinity could be direct dependence \"One function calling another, or A group of functions perform similar operation\", or it could be conceptual affinity \"Share a common naming scheme or Perform variation of the same basic task\".\n",
    "\n",
    "### Vertical Ordering\n",
    "\n",
    "In general we want function call dependencies to point in the downward direction. That is, a function that is called should be below a function that does the calling. This creates a nice flow down the source code module from high level to low level.\n"
   ]
  },
  {
   "cell_type": "markdown",
   "id": "920a7328",
   "metadata": {},
   "source": [
    "## Horizontal Formatting\n",
    "\n",
    "Programmers clearly prefer short lines.\n",
    "The old Hollerith limit of 80 is a bit arbitrary, and there should not be a problem to lines edging out to 100 or even 120. But beyond that is probably just careless.\n",
    "\n",
    "### Horizontal Openness and Density\n",
    "\n",
    "Use horizontal white space to associate things that are strongly related and disassociate things that are weakly related.\n",
    "\n",
    "- Assignment operators surrounded with white space."
   ]
  },
  {
   "cell_type": "code",
   "execution_count": 1,
   "id": "d89ec425",
   "metadata": {},
   "outputs": [],
   "source": [
    "string name = \"Fernando\";"
   ]
  },
  {
   "cell_type": "markdown",
   "id": "eb79197c",
   "metadata": {},
   "source": [
    "- No space between function name and the opening parenthesis while placing space between the closing parenthesis and the curly brackets:"
   ]
  },
  {
   "cell_type": "code",
   "execution_count": 2,
   "id": "9b86f9ea",
   "metadata": {},
   "outputs": [],
   "source": [
    "string GetFullName()\n",
    "{\n",
    "  return \"FirstName LastName\";\n",
    "}\n"
   ]
  },
  {
   "cell_type": "markdown",
   "id": "d6fa9535",
   "metadata": {},
   "source": [
    "- Accentuate the precedence of operators."
   ]
  },
  {
   "cell_type": "code",
   "execution_count": null,
   "id": "84b2c21c",
   "metadata": {},
   "outputs": [],
   "source": [
    "int CalculateTotal() \n",
    "{\n",
    "  int a = 4;\n",
    "  int c = 10;\n",
    "  // The factors have no white space between them because they are high precedence.\n",
    "  // The terms are separated by white space because addition and subtraction are lower precedence.\n",
    "  return 4*4 + 3*a*c; \n",
    "}"
   ]
  },
  {
   "cell_type": "markdown",
   "id": "bc4ef588",
   "metadata": {},
   "source": [
    "### Indentation\n",
    "\n",
    "A source file is a hierarchy rather like an outline. Each level of this hierarchy is a scope into which names can be declared and in which declarations and executable statements are interpreted.\n",
    "\n",
    "To make this hierarchy of scopes visible, we indent the lines of source code in proportion to their position in the hiearchy.\n",
    "\n",
    "- Statements at the level of the file, such as most class declarations, are not indented at all.\n",
    "- Methods within a class are indented one level to the right of the class.\n",
    "- Implementations of those methods are implemented one level to the right of the method declaration.\n",
    "- Block implementations are implemented one level to the right of their containing block\n",
    "- And so on … but we never ever break indentation."
   ]
  },
  {
   "cell_type": "markdown",
   "id": "4675f13d",
   "metadata": {},
   "source": [
    "## Resources\n",
    "\n",
    "- *Clean Code: A Handbook of Agile Software Craftsmanship*, by Robert C. Martin\n",
    "- [Clean Code in C# Part 4 Formatting - DEV Community](https://dev.to/caiocesar/clean-code-in-c-part-4-formatting-1b1h)"
   ]
  }
 ],
 "metadata": {
  "kernelspec": {
   "display_name": ".NET (C#)",
   "language": "C#",
   "name": ".net-csharp"
  },
  "language_info": {
   "name": "polyglot-notebook"
  },
  "polyglot_notebook": {
   "kernelInfo": {
    "defaultKernelName": "csharp",
    "items": [
     {
      "aliases": [],
      "name": "csharp"
     }
    ]
   }
  }
 },
 "nbformat": 4,
 "nbformat_minor": 5
}
