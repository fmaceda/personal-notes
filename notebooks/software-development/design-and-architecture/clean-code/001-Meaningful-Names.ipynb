{
 "cells": [
  {
   "cell_type": "markdown",
   "id": "ba3b6fe6",
   "metadata": {},
   "source": [
    "# Meaningful Names\n",
    "\n",
    "## Content\n",
    "\n",
    "1. [Use Intention-Revealing Names](#use-intention-revealing-names)\n",
    "2. [Avoid Disinformation](#avoid-disinformation)\n",
    "3. [Make Meaningful Distinctions](#make-meaningful-distinctions)\n",
    "4. [Use Pronounceable Names](#use-pronounceable-names)\n",
    "5. [Use Searchable Names](#use-searchable-names)\n",
    "6. [Avoid Encodings](#avoid-encodings)\n",
    "7. [Avoid Mental Mapping](#avoid-mental-mapping)\n",
    "8. [Class Names](#class-names)\n",
    "9. [Method Names](#method-names)\n",
    "10. [Don't Be Cute](#dont-be-cute)\n",
    "11. [Pick One Word per Concept](#pick-one-word-per-concept)\n",
    "12. [Don't Pun](#dont-pun)\n",
    "13. [Use Solution Domain Names](#use-solution-domain-names)\n",
    "14. [Use Problem Domain Names](#use-problem-domain-names)\n",
    "15. [Don't Add Gratuitous Context](#dont-add-gratuitous-context)\n",
    "16. [Resources](#resources)"
   ]
  },
  {
   "cell_type": "markdown",
   "id": "95ac225e",
   "metadata": {},
   "source": [
    "## Use Intention-Revealing Names\n",
    "\n",
    "The name of a variable, function, or class, should answer all the big questions. It should tell you why it exists, what it does, and how it is used. If a name requires a comment, then the name does not reveal its intent.\n",
    "\n",
    "### Example 1\n",
    "\n",
    "Let's say we want to define a variable to store elapsed time in days."
   ]
  },
  {
   "cell_type": "code",
   "execution_count": null,
   "id": "b730ab8d",
   "metadata": {
    "language_info": {
     "name": "polyglot-notebook"
    },
    "polyglot_notebook": {
     "kernelName": "csharp"
    }
   },
   "outputs": [],
   "source": [
    "// No question is answered. \n",
    "int d; // elapsed time in days\n",
    "\n",
    "// The name has now more sense.\n",
    "int elapsedTimeInDays;\n",
    "int daysSinceCreation;\n",
    "int daysSinceModification;\n",
    "int fileAgeInDays;"
   ]
  },
  {
   "cell_type": "markdown",
   "id": "9e4a1959",
   "metadata": {},
   "source": [
    "### Example 2\n",
    "\n",
    "Let's try to analyze what's the purpose of this code:"
   ]
  },
  {
   "cell_type": "code",
   "execution_count": 1,
   "id": "2a71cdf6",
   "metadata": {
    "language_info": {
     "name": "polyglot-notebook"
    },
    "polyglot_notebook": {
     "kernelName": "csharp"
    }
   },
   "outputs": [],
   "source": [
    "List<int[]> theList = new();\n",
    "\n",
    "public List<int[]> GetThem() {\n",
    "  List<int[]> list1 = new();\n",
    "\n",
    "  foreach (int[] x in theList)\n",
    "  {\n",
    "    if (x[0] == 4) \n",
    "    {\t\n",
    "      list1.Add(x);\n",
    "    }\n",
    "  }\n",
    "  return list1;\n",
    "}"
   ]
  },
  {
   "cell_type": "markdown",
   "id": "2d478ee8",
   "metadata": {},
   "source": [
    "There are some questions we need to answer, so we can understand the code:\n",
    "\n",
    "1. What kinds of things are in `theList`?\n",
    "2. What is the significance of the zeroth subscript of an item in `theList`?\n",
    "3. What is the significance of the value `4`?\n",
    "4. How would I use the list being returned?\n",
    "\n",
    "Let's say we have the following context:\n",
    "\n",
    "1. We're working in a mine sweeper game.\n",
    "2. We find that the board is a list of cells called `theList`. Let's rename that to `gameBoard`.\n",
    "3. Each cell on the board is represented by a simple array.\n",
    "4. We further find that the zeroth subscript is the location of a `status` value and that a status value of `4` means `flagged`.\n",
    "\n",
    "Just by giving these concepts names we can improve the code considerably:"
   ]
  },
  {
   "cell_type": "code",
   "execution_count": 2,
   "id": "ecc8bc8d",
   "metadata": {
    "language_info": {
     "name": "polyglot-notebook"
    },
    "polyglot_notebook": {
     "kernelName": "csharp"
    }
   },
   "outputs": [],
   "source": [
    "List<int[]> gameBoard = new();\n",
    "\n",
    "const int StatusValue = 0;\n",
    "const int Flagged = 4;\n",
    "\n",
    "public List<int[]> GetFlaggedCells() {\n",
    "\t\t\n",
    "  List<int[]> flaggedCells = new();\n",
    "\n",
    "  foreach (int[] cell in gameBoard) \n",
    "  {\n",
    "    if (cell[StatusValue] == Flagged)\n",
    "    {\n",
    "      flaggedCells.Add(cell);\n",
    "    }\n",
    "  }\n",
    "  \n",
    "  return flaggedCells;\n",
    "}"
   ]
  },
  {
   "cell_type": "markdown",
   "id": "5951e490",
   "metadata": {},
   "source": [
    "The simplicity of the code has not changed, but the code has become much more explicit.\n",
    "\n",
    "There's a chance to make it even clearer by creating a class for cells instead of using array of `int`:"
   ]
  },
  {
   "cell_type": "code",
   "execution_count": 4,
   "id": "97f16e06",
   "metadata": {
    "language_info": {
     "name": "polyglot-notebook"
    },
    "polyglot_notebook": {
     "kernelName": "csharp"
    }
   },
   "outputs": [],
   "source": [
    "List<Cell> gameBoard = new();\n",
    "\n",
    "public class Cell\n",
    "{\n",
    "  private int Status { get; set; }\n",
    "\n",
    "  public bool IsFlagged()\n",
    "  {\n",
    "    // The logic to handle each status goes here.\n",
    "    return true;\n",
    "  }\n",
    "}\n",
    "\n",
    "public List<Cell> GetFlaggedCells() {\n",
    "\t\t\n",
    "  List<Cell> flaggedCells = new();\n",
    "\n",
    "  foreach (Cell cell in gameBoard) \n",
    "  {\n",
    "    if (cell.IsFlagged())\n",
    "    {\n",
    "      flaggedCells.Add(cell);\n",
    "    }\n",
    "  }\n",
    "  \n",
    "  return flaggedCells;\n",
    "}"
   ]
  },
  {
   "cell_type": "markdown",
   "id": "460ce559",
   "metadata": {},
   "source": [
    "## Avoid Disinformation\n",
    "\n",
    "Programmers must avoid leaving false clues that obscure the meaning of code.\n",
    "\n",
    "### Example 1\n",
    "\n",
    "Do not use abbreviation."
   ]
  },
  {
   "cell_type": "code",
   "execution_count": 5,
   "id": "4fd62ea2",
   "metadata": {
    "language_info": {
     "name": "polyglot-notebook"
    },
    "polyglot_notebook": {
     "kernelName": "csharp"
    }
   },
   "outputs": [],
   "source": [
    "int hp;\n",
    "string aix;\n",
    "bool sco;"
   ]
  },
  {
   "cell_type": "markdown",
   "id": "29f0b45a",
   "metadata": {},
   "source": [
    "### Example 2\n",
    "\n",
    "Do not refer to a grouping of accounts as an `accountList` unless it's actually a List. "
   ]
  },
  {
   "cell_type": "code",
   "execution_count": null,
   "id": "2cc3c5f9",
   "metadata": {
    "language_info": {
     "name": "polyglot-notebook"
    },
    "polyglot_notebook": {
     "kernelName": "csharp"
    }
   },
   "outputs": [],
   "source": [
    "class Account {}\n",
    "\n",
    "// If the container holding the accounts is not actually a List, it may lead to false conclusions.\n",
    "Dictionary<int, Account> accountList = new();\n",
    "\n",
    "// A better way to name the variable would be:\n",
    "Dictionary<int, Account> accountGroup = new();\n",
    "Dictionary<int, Account> bunchOfAccounts = new();\n",
    "Dictionary<int, Account> accounts = new();"
   ]
  },
  {
   "cell_type": "markdown",
   "id": "01eb5ce1",
   "metadata": {},
   "source": [
    "### Example 3\n",
    "\n",
    "How long does it take to spot the subtle difference between the following variables:"
   ]
  },
  {
   "cell_type": "code",
   "execution_count": null,
   "id": "cdf09bd4",
   "metadata": {
    "language_info": {
     "name": "polyglot-notebook"
    },
    "polyglot_notebook": {
     "kernelName": "csharp"
    }
   },
   "outputs": [],
   "source": [
    "string XYZControllerForEfficientHandlingOfStrings;\n",
    "string XYZControllerForEfficientStorageOfStrings;"
   ]
  },
  {
   "cell_type": "markdown",
   "id": "a9e22f14",
   "metadata": {},
   "source": [
    "Spelling similar concepts similarly is information. Using inconsistent spellings is disinformation.\n",
    "It is very helpful if names for very similar things sort together alphabetically and if the differences are very obvious.\n",
    "\n",
    "### Example 4\n",
    "\n",
    "A truly awful example of disinformative names would be the use of lower-case L or uppercase O as variable names, especially in combination."
   ]
  },
  {
   "cell_type": "code",
   "execution_count": 6,
   "id": "91a403b2",
   "metadata": {
    "language_info": {
     "name": "polyglot-notebook"
    },
    "polyglot_notebook": {
     "kernelName": "csharp"
    }
   },
   "outputs": [],
   "source": [
    "int l = 100;\n",
    "int O = 200;\n",
    "int O1 = 300;\n",
    "// Avoid using similar-looking variable names like 'l' (lowercase L) and 'O' (uppercase O) as they can be easily confused.\n",
    "int a = l;\n",
    "if ( O == l )\n",
    "{\n",
    "  a = O1;\n",
    "}\n",
    "else\n",
    "{\n",
    "  l = 01;\n",
    "}"
   ]
  },
  {
   "cell_type": "markdown",
   "id": "996a7106",
   "metadata": {},
   "source": [
    "The problem, of course, is that they look almost entirely like the constants one and zero, respectively."
   ]
  },
  {
   "cell_type": "markdown",
   "id": "5c0314a2",
   "metadata": {},
   "source": [
    "## Make Meaningful Distinctions\n",
    "\n",
    "If names must be different, then they should also mean something different.\n",
    "\n",
    "### Example 1\n",
    "\n",
    "Number-series naming (a1, a2, .. aN) is the opposite of intentional naming."
   ]
  },
  {
   "cell_type": "code",
   "execution_count": null,
   "id": "5484565c",
   "metadata": {
    "language_info": {
     "name": "polyglot-notebook"
    },
    "polyglot_notebook": {
     "kernelName": "csharp"
    }
   },
   "outputs": [],
   "source": [
    "// a1 and a2 variables doesn't have any meaningful distinction.\n",
    "public static void CopyChars(char[] a1, char[] a2) {\n",
    "  for (int i = 0; i < a1.Length; i++) {\n",
    "    a2[i] = a1[i];\n",
    "  }\n",
    "}"
   ]
  },
  {
   "cell_type": "code",
   "execution_count": null,
   "id": "cb135f9d",
   "metadata": {
    "language_info": {
     "name": "polyglot-notebook"
    },
    "polyglot_notebook": {
     "kernelName": "csharp"
    }
   },
   "outputs": [],
   "source": [
    "// If we call them source and destination, they mean something different.\n",
    "public static void CopyChars(char[] source, char[] destination) {\n",
    "  for (int i = 0; i < source.Length; i++) {\n",
    "    destination[i] = source[i];\n",
    "  }\n",
    "}"
   ]
  },
  {
   "cell_type": "markdown",
   "id": "7e684f37",
   "metadata": {},
   "source": [
    "### Example 2\n",
    "\n",
    "Noise words are another meaningless distinction."
   ]
  },
  {
   "cell_type": "code",
   "execution_count": null,
   "id": "ab89d871",
   "metadata": {
    "language_info": {
     "name": "polyglot-notebook"
    },
    "polyglot_notebook": {
     "kernelName": "csharp"
    }
   },
   "outputs": [],
   "source": [
    "public class Product {\n",
    "  // ...\n",
    "}\n",
    "\n",
    "public class ProductInfo {\n",
    "  // This class name doesnt have a different meaning than Product class\n",
    "  // ...\n",
    "}\n",
    "\n",
    "public class ProductData {\n",
    "  // This class name doesnt have a different meaning than Product class\n",
    "  // ...\n",
    "}"
   ]
  },
  {
   "cell_type": "markdown",
   "id": "ac8aa70b",
   "metadata": {},
   "source": [
    "### Example 3\n",
    "\n",
    "Some other recommendations."
   ]
  },
  {
   "cell_type": "code",
   "execution_count": null,
   "id": "0736f6cc",
   "metadata": {
    "language_info": {
     "name": "polyglot-notebook"
    },
    "polyglot_notebook": {
     "kernelName": "csharp"
    }
   },
   "outputs": [],
   "source": [
    "class Customer {}\n",
    "class CustomerObject {}\n",
    "\n",
    "// Wrong use of some words.\n",
    "string NameVariable;\n",
    "string NameString;\n",
    "string[] UsersTable;\n",
    "Customer customerObject = new();\n",
    "CustomerObject customer1 = new();\n",
    "\n",
    "// Avoid using type words.\n",
    "string Name;\n",
    "string[] Users;\n",
    "Customer customer2 = new();"
   ]
  },
  {
   "cell_type": "markdown",
   "id": "fac673f2",
   "metadata": {},
   "source": [
    "## Use Pronounceable Names\n",
    "\n",
    "Make your names pronounceable. If you can't pronounce it, you can't discuss it without sounding like an idiot.\n",
    "\n",
    "### Example"
   ]
  },
  {
   "cell_type": "code",
   "execution_count": null,
   "id": "524b556b",
   "metadata": {
    "language_info": {
     "name": "polyglot-notebook"
    },
    "polyglot_notebook": {
     "kernelName": "csharp"
    }
   },
   "outputs": [],
   "source": [
    "// Wrong use pronounceable names.\n",
    "class DtaRcrd102 {\n",
    "  private DateTime Genymdhms;\n",
    "  private DateTime Modymdhms;\n",
    "  private String Pszqint = \"102\";\n",
    "};\n",
    "\n",
    "// Meaninful names and easy to pronounce.\n",
    "class Customer {\n",
    "  private DateTime GenerationTimestamp;\n",
    "  private DateTime ModificationTimestamp;\n",
    "  private String RecordId = \"102\";\n",
    "};"
   ]
  },
  {
   "cell_type": "markdown",
   "id": "2fb144d2",
   "metadata": {},
   "source": [
    "## Use Searchable Names\n",
    "\n",
    "If a variable or constant might be seen or used in multiple places in a body of code, it is imperative to give it a search-friendly name.\n",
    "\n",
    "### Example"
   ]
  },
  {
   "cell_type": "code",
   "execution_count": 8,
   "id": "369fb3e2",
   "metadata": {
    "language_info": {
     "name": "polyglot-notebook"
    },
    "polyglot_notebook": {
     "kernelName": "csharp"
    }
   },
   "outputs": [],
   "source": [
    "// Short variable names which are not useful for searching.\n",
    "int s = 0;\n",
    "int[] t = [1, 2, 3, 4, 5, 6];\n",
    "\n",
    "for (int j = 0; j < 6; j++) {\n",
    "  s += (t[j]*4)/5;\n",
    "}\n",
    "\n",
    "// Meaninful names and are useful for searching.\n",
    "int realDaysPerIdealDay = 4;\n",
    "int realdays = 3;\n",
    "const int WORK_DAYS_PER_WEEK = 5;\n",
    "const int NUMBER_OF_TASKS = 6;\n",
    "int sum = 0;\n",
    "int[] taskEstimate = [1, 2, 3, 4, 5, 6];\n",
    "\n",
    "for (int j = 0; j < NUMBER_OF_TASKS; j++) {\n",
    "  int realTaskDays = taskEstimate[j] * realDaysPerIdealDay;\n",
    "  int realTaskWeeks = (realdays / WORK_DAYS_PER_WEEK);\n",
    "  sum += realTaskWeeks;\n",
    "}"
   ]
  },
  {
   "cell_type": "markdown",
   "id": "c4d04fe5",
   "metadata": {},
   "source": [
    "## Avoid Encodings\n",
    "\n",
    "Encoding type or scope information into names simply adds an extra burden of deciphering.\n",
    "\n",
    "### Hungarian Notation\n",
    "\n",
    "Hungarian Notation is a naming convention in programming where variable and function names include information about their type, purpose, or intended use."
   ]
  },
  {
   "cell_type": "code",
   "execution_count": null,
   "id": "af75b1f2",
   "metadata": {
    "language_info": {
     "name": "polyglot-notebook"
    },
    "polyglot_notebook": {
     "kernelName": "csharp"
    }
   },
   "outputs": [],
   "source": [
    "// Given we have a phone number variable in string type, we declare the following:\n",
    "string phoneString;"
   ]
  },
  {
   "cell_type": "code",
   "execution_count": null,
   "id": "203ac7d3",
   "metadata": {
    "language_info": {
     "name": "polyglot-notebook"
    },
    "polyglot_notebook": {
     "kernelName": "csharp"
    }
   },
   "outputs": [],
   "source": [
    "class PhoneNumber {}\n",
    "\n",
    "// We then change the type to Phone Number:\n",
    "PhoneNumber phoneString;\n",
    "\n",
    "// The name will not changed when type changed!"
   ]
  },
  {
   "cell_type": "markdown",
   "id": "ade7e94c",
   "metadata": {},
   "source": [
    "### Member Prefixes\n",
    "\n",
    "You also don't need to prefix member variables with m_ anymore.\n"
   ]
  },
  {
   "cell_type": "code",
   "execution_count": null,
   "id": "52bd999c",
   "metadata": {
    "language_info": {
     "name": "polyglot-notebook"
    },
    "polyglot_notebook": {
     "kernelName": "csharp"
    }
   },
   "outputs": [],
   "source": [
    "// Using a short name for description. You need to have a comment explaining the context of the variable.\n",
    "public class Part {\n",
    "  private string m_dsc; // The textual description\n",
    "  \n",
    "  void SetName(String name) {\n",
    "    m_dsc = name;\n",
    "  }\n",
    "}"
   ]
  },
  {
   "cell_type": "code",
   "execution_count": null,
   "id": "02cdd008",
   "metadata": {
    "language_info": {
     "name": "polyglot-notebook"
    },
    "polyglot_notebook": {
     "kernelName": "csharp"
    }
   },
   "outputs": [],
   "source": [
    "// Using a meaninful name for description. It's not required any extra comment to explain what does the variable is used to.\n",
    "public class Part {\n",
    "  string Description;\n",
    "  \n",
    "  void SetDescription(String description) {\n",
    "    Description = description;\n",
    "  }\n",
    "}"
   ]
  },
  {
   "cell_type": "markdown",
   "id": "3d05d0f7",
   "metadata": {},
   "source": [
    "### Interfaces and Implementations\n",
    "\n",
    "Interfaces and implementations will have the same name, so we need to somehow difference them."
   ]
  },
  {
   "cell_type": "code",
   "execution_count": null,
   "id": "b4e98366",
   "metadata": {
    "language_info": {
     "name": "polyglot-notebook"
    },
    "polyglot_notebook": {
     "kernelName": "csharp"
    }
   },
   "outputs": [],
   "source": [
    "public interface IAnimal { }\n",
    "\n",
    "public class Animal : IAnimal { }"
   ]
  },
  {
   "cell_type": "markdown",
   "id": "38b79880",
   "metadata": {},
   "source": [
    "## Avoid Mental Mapping\n",
    "\n",
    "Readers shouldn't have to mentally translate your names into other names they already know. This problem generally arises from a choice to use neither problem domain terms nor solution domain terms."
   ]
  },
  {
   "cell_type": "code",
   "execution_count": 9,
   "id": "8294364b",
   "metadata": {
    "language_info": {
     "name": "polyglot-notebook"
    },
    "polyglot_notebook": {
     "kernelName": "csharp"
    }
   },
   "outputs": [],
   "source": [
    "string[] groups = [ ];\n",
    "string[] people = [ ];\n",
    "\n",
    "// Using traditional i and j variables, so we need to have a mental mapping that i is iterating groups and j is iterating people.\n",
    "for (int i = 0; i < groups.Length; i++) {\n",
    "  for (int j = 0; j < people.Length; j++) {\n",
    "    // Do something with groups[i] and people[j]\n",
    "  }\n",
    "}\n",
    "\n",
    "// If we use meaninful names for groupId and personId, then we don't need to have a mental mapping.\n",
    "for (int groupId = 0; groupId < groups.Length; groupId++) {\n",
    "  for (int personId = 0; personId < people.Length; personId++) {\n",
    "    // Do something with groups[groupId] and people[personId]\n",
    "  }\n",
    "}"
   ]
  },
  {
   "cell_type": "markdown",
   "id": "0a9ce619",
   "metadata": {},
   "source": [
    "## Class Names"
   ]
  },
  {
   "cell_type": "code",
   "execution_count": null,
   "id": "3c67e64b",
   "metadata": {
    "language_info": {
     "name": "polyglot-notebook"
    },
    "polyglot_notebook": {
     "kernelName": "csharp"
    }
   },
   "outputs": [],
   "source": [
    "// Classes and objects should have noun or noun phrase names.\n",
    "public class Customer { }\n",
    "public class WikiPage { }\n",
    "public class Account { }\n",
    "public class AddressParser { }\n",
    "\n",
    "// Avoid words like Manager, Processor, Data, or Info in the name of a class.\n",
    "public class CustomerData { }\n",
    "public class CustomerInfo { }\n",
    "\n",
    "// A class name should not be a verb.\n",
    "public class Eating { }"
   ]
  },
  {
   "cell_type": "markdown",
   "id": "3720d2a4",
   "metadata": {},
   "source": [
    "## Method Names\n",
    "\n",
    "Methods should have verb or verb phrase names.\n"
   ]
  },
  {
   "cell_type": "code",
   "execution_count": 11,
   "id": "6bfac865",
   "metadata": {
    "language_info": {
     "name": "polyglot-notebook"
    },
    "polyglot_notebook": {
     "kernelName": "csharp"
    }
   },
   "outputs": [],
   "source": [
    "public void PostPayment() { }\n",
    "public void DeletePage() { }\n",
    "public void Save() { }\n",
    "public void IsPosted() { }"
   ]
  },
  {
   "cell_type": "markdown",
   "id": "b73eb821",
   "metadata": {},
   "source": [
    "## Don't Be Cute\n",
    "\n",
    "If names are too clever, they will be memorable only to people who share the author's sense of humor, and only as long as these people remember the joke."
   ]
  },
  {
   "cell_type": "code",
   "execution_count": null,
   "id": "ef7b109e",
   "metadata": {
    "language_info": {
     "name": "polyglot-notebook"
    },
    "polyglot_notebook": {
     "kernelName": "csharp"
    }
   },
   "outputs": [],
   "source": [
    "// Cute but not meaninful.\n",
    "public void HolyHandGrenade() { }\n",
    "\n",
    "// Meaninful named method.\n",
    "public void DeleteItems() { }"
   ]
  },
  {
   "cell_type": "markdown",
   "id": "a7908805",
   "metadata": {},
   "source": [
    "## Pick One Word per Concept\n",
    "\n",
    "Pick one word for one abstract concept and stick with it."
   ]
  },
  {
   "cell_type": "code",
   "execution_count": 12,
   "id": "21db9047",
   "metadata": {
    "language_info": {
     "name": "polyglot-notebook"
    },
    "polyglot_notebook": {
     "kernelName": "csharp"
    }
   },
   "outputs": [],
   "source": [
    "public class User { }\n",
    "public class Group { }\n",
    "public class Task { }\n",
    "\n",
    "// Using different names for the same purpose.\n",
    "public class UserService {\n",
    "  public List<User> Fetch()\n",
    "  {\n",
    "    return new List<User>();\n",
    "  } \n",
    "}\n",
    "\n",
    "public class GroupService {\n",
    "  public List<Group> Retrieve()\n",
    "  {\n",
    "    return new List<Group>();\n",
    "  }\n",
    "}\n",
    "\n",
    "public class TaskService {\n",
    "  public List<Task> Get() {\n",
    "    return new List<Task>();\n",
    "  }\n",
    "}"
   ]
  },
  {
   "cell_type": "code",
   "execution_count": 13,
   "id": "f4cac9f4",
   "metadata": {
    "language_info": {
     "name": "polyglot-notebook"
    },
    "polyglot_notebook": {
     "kernelName": "csharp"
    }
   },
   "outputs": [],
   "source": [
    "public class User { }\n",
    "public class Group { }\n",
    "public class Task { }\n",
    "\n",
    "// Using one same name for the same purpose.\n",
    "public class UserService {\n",
    "  public List<User> Get()\n",
    "  {\n",
    "    return new List<User>();\n",
    "  } \n",
    "}\n",
    "\n",
    "public class GroupService {\n",
    "  public List<Group> Get()\n",
    "  {\n",
    "    return new List<Group>();\n",
    "  }\n",
    "}\n",
    "\n",
    "public class TaskService {\n",
    "  public List<Task> Get() {\n",
    "    return new List<Task>();\n",
    "  }\n",
    "}"
   ]
  },
  {
   "cell_type": "markdown",
   "id": "b5922ae6",
   "metadata": {},
   "source": [
    "## Don't Pun\n",
    "\n",
    "Avoid using the same word for two purposes. Using the same term for two different ideas is essentially a pun."
   ]
  },
  {
   "cell_type": "code",
   "execution_count": 15,
   "id": "42cc662c",
   "metadata": {
    "language_info": {
     "name": "polyglot-notebook"
    },
    "polyglot_notebook": {
     "kernelName": "csharp"
    }
   },
   "outputs": [],
   "source": [
    "// Using the same name for diffent purposes.\n",
    "public class UserService {\n",
    "  public void Add(User user) { } // This method let us create a new user.\n",
    "}\n",
    "public class GroupService {\n",
    "  public void Add(Group group, User user) { } // This method let us insert a user into a group.\n",
    "}"
   ]
  },
  {
   "cell_type": "code",
   "execution_count": 16,
   "id": "30106834",
   "metadata": {
    "language_info": {
     "name": "polyglot-notebook"
    },
    "polyglot_notebook": {
     "kernelName": "csharp"
    }
   },
   "outputs": [],
   "source": [
    "// Using the appropriate name for each purpose.\n",
    "public class UserService {\n",
    "  public void Create(User user) { } // This method let us create a new user.\n",
    "}\n",
    "public class GroupService {\n",
    "  public void Insert(Group group, User user) { } // This method let us insert a user into a group.\n",
    "}"
   ]
  },
  {
   "cell_type": "markdown",
   "id": "32796509",
   "metadata": {},
   "source": [
    "## Use Solution Domain Names\n",
    "\n",
    "Remember that the people who read your code will be programmers. So go ahead and use computer science (CS) terms, algorithm names, pattern names, math terms, and so forth.\n",
    "\n",
    "- The name `AccountVisitor` means a great deal to a programmer who is familiar with the VISITOR pattern.\n",
    "- What programmer would not know what a `JobQueue` was?\n",
    "\n",
    "There are lots of very technical things that programmers have to do. Choosing technical names for those things is usually the most appropriate course."
   ]
  },
  {
   "cell_type": "markdown",
   "id": "20e01d3b",
   "metadata": {},
   "source": [
    "## Use Problem Domain Names\n",
    "\n",
    "If there are no programming terms, we can use terms related to the feature or business.\n",
    "\n",
    "### Example"
   ]
  },
  {
   "cell_type": "code",
   "execution_count": null,
   "id": "8d348b43",
   "metadata": {
    "language_info": {
     "name": "polyglot-notebook"
    },
    "polyglot_notebook": {
     "kernelName": "csharp"
    }
   },
   "outputs": [],
   "source": [
    "public class Account {\n",
    "  private string AccountBalance; // This variable name has no programming terms, so it's related to the bussiness.\n",
    "}"
   ]
  },
  {
   "cell_type": "markdown",
   "id": "aed6323a",
   "metadata": {},
   "source": [
    "Separating solution and problem domain concepts is part of the job of a good programmer and designer. The code that has more to do with problem domain concepts should have names drawn from the problem domain."
   ]
  },
  {
   "cell_type": "markdown",
   "id": "c95ee32d",
   "metadata": {},
   "source": [
    "## Add Meaningful Context\n",
    "\n",
    "There are a few names which are meaningful in and of themselves—most are not. Instead, you need to place names in context for your reader by enclosing them in well-named classes, methods, functions, etc."
   ]
  },
  {
   "cell_type": "code",
   "execution_count": null,
   "id": "214d099c",
   "metadata": {
    "language_info": {
     "name": "polyglot-notebook"
    },
    "polyglot_notebook": {
     "kernelName": "csharp"
    }
   },
   "outputs": [],
   "source": [
    "// We have several fields that doesn't have a clear context\n",
    "public class User {\n",
    "  public string FirstName { get; set; }\n",
    "  public string LastName { get; set; }\n",
    "  public string Street { get; set; }\n",
    "  public int HouseNumber { get; set; }\n",
    "  public string City { get; set; }\n",
    "  public string State { get; set; }\n",
    "  public string Zipcode { get; set; }\n",
    "}\n",
    "\n",
    "User user = new();\n",
    "\n",
    "// In this context, we only know the State property is part of the user.\n",
    "Console.WriteLine(user.State);\n",
    "\n",
    "// In this context, we only know the State propertyis part of the user's address\n",
    "Console.WriteLine(user.Street);\n",
    "Console.WriteLine(user.HouseNumber);\n",
    "Console.WriteLine(user.City);\n",
    "Console.WriteLine(user.State);"
   ]
  },
  {
   "cell_type": "code",
   "execution_count": 19,
   "id": "d85b6531",
   "metadata": {
    "language_info": {
     "name": "polyglot-notebook"
    },
    "polyglot_notebook": {
     "kernelName": "csharp"
    }
   },
   "outputs": [
    {
     "name": "stdout",
     "output_type": "stream",
     "text": [
      "\r\n"
     ]
    }
   ],
   "source": [
    "// We have several fields that have a clear context: Address.\n",
    "public class Address {\n",
    "  public string Street { get; set; }\n",
    "  public int HouseNumber { get; set; }\n",
    "  public string City { get; set; }\n",
    "  public string State { get; set; }\n",
    "  public string Zipcode { get; set; }\n",
    "}\n",
    "\n",
    "public class User {\n",
    "  public string FirstName { get; set; }\n",
    "  public string LastName { get; set; }\n",
    "  public Address Address { get; set; }\n",
    "\n",
    "  public User() {\n",
    "    Address = new Address();\n",
    "  }\n",
    "}\n",
    "\n",
    "User user = new();\n",
    "\n",
    "// In this context, we do know the State property is part of the user's address.\n",
    "Console.WriteLine(user.Address.State);"
   ]
  },
  {
   "cell_type": "markdown",
   "id": "03c79e29",
   "metadata": {},
   "source": [
    "## Don't Add Gratuitous Context\n",
    "\n",
    "In an imaginary application called \"Gas Station Deluxe,\" it is a bad idea to prefix every class with GSD. Frankly, you are working against your tools. You type G and press the completion key and are rewarded with a mile-long list of every class in the system. Is that wise? Why make it hard for the IDE to help you?"
   ]
  },
  {
   "cell_type": "code",
   "execution_count": 20,
   "id": "fcf52c4f",
   "metadata": {
    "language_info": {
     "name": "polyglot-notebook"
    },
    "polyglot_notebook": {
     "kernelName": "csharp"
    }
   },
   "outputs": [],
   "source": [
    "// Likewise, say you invented a \"MailingAddress\" class in GSD's accounting module, and you named it \"GSDAccountAddress\"\n",
    "public class GSDAccountAddress { }\n",
    "\n",
    "// Later, you need a mailing address for your customer contact application. Do you use \"GSDAccountCustomer\"? Does it sound like the right name? Some characters are redundant or irrelevant.\n",
    "public class GSDAccountCustomer { }\n",
    "\n",
    "// The names \"accountAddress\" and \"customerAddress\" are fine names for instances of the class \"Address\" but could be poor names for classes.\n",
    "public class Address { }\n",
    "\n",
    "Address accountAddress = new();\n",
    "Address customerAddress = new();"
   ]
  },
  {
   "cell_type": "markdown",
   "id": "49e9a88a",
   "metadata": {},
   "source": [
    "Shorter names are generally better than longer ones, so long as they are clear. Add no more context to a name than is necessary."
   ]
  },
  {
   "cell_type": "markdown",
   "id": "c2128e20",
   "metadata": {},
   "source": [
    "## Resources\n",
    "\n",
    "- *Clean Code: A Handbook of Agile Software Craftsmanship*, by Robert C. Martin\n",
    "- [Identifier name - rules and conventions - C# | Microsoft Learn](https://learn.microsoft.com/en-us/dotnet/csharp/fundamentals/coding-style/identifier-names )\n",
    "- [.NET Coding Conventions - C# | Microsoft Learn](https://learn.microsoft.com/en-us/dotnet/csharp/fundamentals/coding-style/coding-conventions)\n",
    "- [Clean Code in C# Part 1 Meaningful Names - DEV Community](https://dev.to/caiocesar/clean-code-in-c-part-1-meaningful-names-1i0g)"
   ]
  }
 ],
 "metadata": {
  "kernelspec": {
   "display_name": ".NET (C#)",
   "language": "C#",
   "name": ".net-csharp"
  },
  "language_info": {
   "name": "polyglot-notebook"
  },
  "polyglot_notebook": {
   "kernelInfo": {
    "defaultKernelName": "csharp",
    "items": [
     {
      "aliases": [],
      "name": "csharp"
     }
    ]
   }
  }
 },
 "nbformat": 4,
 "nbformat_minor": 5
}
