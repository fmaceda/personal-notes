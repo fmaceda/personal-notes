{
 "cells": [
  {
   "cell_type": "markdown",
   "id": "63cf8dc1",
   "metadata": {},
   "source": [
    "# Functions\n",
    "\n",
    "## Content\n",
    "\n",
    "1. [Overview](#overview)\n",
    "2. [Small](#small)\n",
    "3. [Do One Thing](#do-one-thing)\n",
    "4. [One Level of Abstraction per Function](#one-level-of-abstraction-per-function)\n",
    "5. [Switch Statements](#switch-statements)\n",
    "6. [Use Descriptive Names](#use-descriptive-names)\n",
    "7. [Function Arguments](#function-arguments)\n",
    "8. [Have No Side Effects](#have-no-side-effects)\n",
    "9. [Command Query Separation](#command-query-separation)\n",
    "10. [Prefer Exceptions to Returning Error Codes](#prefer-exceptions-to-returning-error-codes)\n",
    "11. [Don’t Repeat Yourself](#dont-repeat-yourself)\n",
    "12. [Structured Programming](#structured-programming)\n",
    "13. [Resources](#resources)"
   ]
  },
  {
   "cell_type": "markdown",
   "id": "9316071e",
   "metadata": {},
   "source": [
    "## Overview\n",
    "\n",
    "It's importance to create small, focused, and single-responsibility functions that are easy to understand, test, and maintain."
   ]
  },
  {
   "cell_type": "markdown",
   "id": "bafec448",
   "metadata": {},
   "source": [
    "## Small\n",
    "\n",
    "- The first rule of functions is that they should be small. They should hardly ever be 20 lines long.\n",
    "- This implies that the blocks within `if` statements, `else` statements, `while` statements, and so on should be one line long. Probably that line should be a function call.\n",
    "- This also implies that functions should not be large enough to hold nested structures. Therefore, the indent level of a function should not be greater than one or two."
   ]
  },
  {
   "cell_type": "markdown",
   "id": "42bffdca",
   "metadata": {},
   "source": [
    "## Do One Thing\n",
    "\n",
    "- Functions should do one thing, should do it well, and should do it only.\n",
    "- Functions should not be able to be divided into more sections/functions."
   ]
  },
  {
   "cell_type": "markdown",
   "id": "8219b40f",
   "metadata": {},
   "source": [
    "## One Level of Abstraction per Function\n",
    "\n",
    "- To make sure the functions are doing \"one thing\", we need to make sure that the statements within the function are all at the same level of abstraction.\n",
    "- We can follow the \"The Stepdown Rule\". It's all about reading code from top to bottom. This way each function introduces the next and make the code readable from top to bottom."
   ]
  },
  {
   "cell_type": "markdown",
   "id": "99cd7837",
   "metadata": {},
   "source": [
    "## Switch Statements\n",
    "\n",
    "- It's hard to make a small `switch` statement.\n",
    "- It violates the Single Responsibility Principle (SRP) because there is more than one reason for it to change.\n",
    "- It violates the Open Closed Principle8 (OCP) because it must change whenever new cases are added.\n",
    "- They can be tolerated if they appear only once, are used to create polymorphic objects, and are hidden behind an inheritance."
   ]
  },
  {
   "cell_type": "markdown",
   "id": "68e19e03",
   "metadata": {},
   "source": [
    "## Use Descriptive Names\n",
    "\n",
    "- Function name should describes what the function does.\n",
    "- The smaller and more focused a function is, the easier it is to choose a descriptive name.\n",
    "- Don't be afraid to make a name long. A long descriptive name is better than a short enigmatic name."
   ]
  },
  {
   "cell_type": "markdown",
   "id": "d0a4c6c4",
   "metadata": {},
   "source": [
    "## Function Arguments\n",
    "\n",
    "- The ideal number of arguments for a function is zero.\n",
    "- Three arguments should be avoided where possible.\n",
    "- Arguments should make sense with the function name. There are two very common reasons to pass a single argument into a function.\n",
    "  - You may be asking a question about that argument.\n",
    "  - Or you may be operating on that argument, transforming it into something else and returning it.\n",
    "- Avoid using Flag Arguments.\n",
    "- Use object arguments."
   ]
  },
  {
   "cell_type": "code",
   "execution_count": 3,
   "id": "725c9e7f",
   "metadata": {},
   "outputs": [],
   "source": [
    "public class Circle { }\n",
    "\n",
    "// In this case, the first two arguments seem to be related.\n",
    "Circle MakeCircle(double x, double y, double radius)\n",
    "{\n",
    "  return new Circle();\n",
    "}"
   ]
  },
  {
   "cell_type": "code",
   "execution_count": 4,
   "id": "47520a09",
   "metadata": {},
   "outputs": [],
   "source": [
    "public class Point { }\n",
    "public class Circle { }\n",
    "\n",
    "// We can abstract x and y into Point class, and have one instance instead.\n",
    "Circle MakeCircle(Point center, double radius)\n",
    "{\n",
    "  return new Circle();\n",
    "}"
   ]
  },
  {
   "cell_type": "markdown",
   "id": "29cc103e",
   "metadata": {},
   "source": [
    "- Function and arguments should form a very nice verb/noun pair."
   ]
  },
  {
   "cell_type": "markdown",
   "id": "0f4f3d91",
   "metadata": {},
   "source": [
    "## Have No Side Effects\n",
    "\n",
    "- Your function promises to do one thing, so it should not do other hidden things."
   ]
  },
  {
   "cell_type": "markdown",
   "id": "9d5bf6c8",
   "metadata": {},
   "source": [
    "## Command Query Separation\n",
    "\n",
    "- Functions should either do something or answer something, but not both."
   ]
  },
  {
   "cell_type": "markdown",
   "id": "fe9d8c00",
   "metadata": {},
   "source": [
    "## Prefer Exceptions to Returning Error Codes\n",
    "\n",
    "- Use try/catch to handle error instead of returning error codes as exceptions can be added without forcing any recompilation or redeployment."
   ]
  },
  {
   "cell_type": "code",
   "execution_count": 5,
   "id": "cd5262bc",
   "metadata": {},
   "outputs": [
    {
     "name": "stdout",
     "output_type": "stream",
     "text": [
      "page deleted\r\n"
     ]
    }
   ],
   "source": [
    "int StatusOk = 200;\n",
    "int StatusFailed = 400;\n",
    "\n",
    "string page = \"examplePage\";\n",
    "\n",
    "Registry registry = new();\n",
    "ConfigKey configKeys = new();\n",
    "\n",
    "// Returning error codes from specific actions.\n",
    "if (DeletePage(page) == StatusOk) \n",
    "{\n",
    "  if (registry.DeleteReference(page) == StatusOk)\n",
    "  {\n",
    "    if (configKeys.DeleteKey(page) == StatusOk)\n",
    "    {\n",
    "      Console.WriteLine(\"page deleted\");\n",
    "    } \n",
    "    else\n",
    "    {\n",
    "      Console.WriteLine(\"configKey not deleted\");\n",
    "    }\n",
    "  }\n",
    "  else \n",
    "  {\n",
    "    Console.WriteLine(\"deleteReference from registry failed\");\n",
    "  }\n",
    "}\n",
    "else\n",
    "{\n",
    "  Console.WriteLine(\"delete failed\");\n",
    "  return StatusFailed;\n",
    "}\n",
    "\n",
    "// We can replace the nested if statements with using try/catch.\n",
    "try {\n",
    "  DeletePage(page);\n",
    "  registry.DeleteReference(page);\n",
    "  configKeys.DeleteKey(page);\n",
    "}\n",
    "catch (Exception e)\n",
    "{\n",
    "  Console.WriteLine(e.Message);\n",
    "}\n",
    "\n",
    "int DeletePage(string page)\n",
    "{\n",
    "  return 200; // Simulating a successful deletion.\n",
    "}\n",
    "\n",
    "class Registry\n",
    "{\n",
    "  public int DeleteReference(string page)\n",
    "  {\n",
    "    return 200; // Simulating a successful deletion.\n",
    "  }\n",
    "}\n",
    "\n",
    "class ConfigKey\n",
    "{\n",
    "  public int DeleteKey(string page)\n",
    "  {\n",
    "    return 200; // Simulating a successful deletion.\n",
    "  }\n",
    "}"
   ]
  },
  {
   "cell_type": "markdown",
   "id": "a89c2287",
   "metadata": {},
   "source": [
    "- Functions should do one thing. Error handing is one thing. "
   ]
  },
  {
   "cell_type": "markdown",
   "id": "a450fed6",
   "metadata": {},
   "source": [
    "## Don’t Repeat Yourself\n",
    "\n",
    "- In case you find some code that is being used, try to separate it into a reusable function."
   ]
  },
  {
   "cell_type": "markdown",
   "id": "b4c8f976",
   "metadata": {},
   "source": [
    "## Structured Programming\n",
    "\n",
    "- Edsger Dijkstra's rule says \"every function and every block within a function should have one entry and one exit\".\n",
    "- Following these rules means that there should only be one return statement in a function, no `break` or `continue` statements in a loop, and never, ever, any `goto` statements.\n",
    "- This rule provides significant benefit in large functions only."
   ]
  },
  {
   "cell_type": "markdown",
   "id": "b6a318bb",
   "metadata": {},
   "source": [
    "## Resources\n",
    "\n",
    "- *Clean Code: A Handbook of Agile Software Craftsmanship*, by Robert C. Martin\n",
    "- [Clean Code in C# Part 2 Methods - DEV Community](https://dev.to/caiocesar/clean-code-in-c-part-2-methods-58mb)"
   ]
  }
 ],
 "metadata": {
  "kernelspec": {
   "display_name": ".NET (C#)",
   "language": "C#",
   "name": ".net-csharp"
  },
  "language_info": {
   "name": "polyglot-notebook"
  },
  "polyglot_notebook": {
   "kernelInfo": {
    "defaultKernelName": "csharp",
    "items": [
     {
      "aliases": [],
      "name": "csharp"
     }
    ]
   }
  }
 },
 "nbformat": 4,
 "nbformat_minor": 5
}
