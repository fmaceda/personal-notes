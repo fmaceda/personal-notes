{
 "cells": [
  {
   "cell_type": "markdown",
   "id": "bddc6c62",
   "metadata": {},
   "source": [
    "# Comments\n",
    "\n",
    "## Content\n",
    "\n",
    "1. [Rules of comments](#rules-of-comments)\n",
    "2. [Good comments](#good-comments)\n",
    "3. [Bad comments](#bad-comments)\n",
    "4. [Resources](#resources)"
   ]
  },
  {
   "cell_type": "markdown",
   "id": "cba1719e",
   "metadata": {},
   "source": [
    "## Rules of comments\n",
    "\n",
    "Truth can only be found in one place: the code. Only the code can truly tell you what it does. It is the only source of truly accurate information. Therefore, though comments are sometimes necessary, we will expend significant energy to minimize them.\n",
    "\n",
    "One of the more common motivations for writing comments is bad code.\n",
    "\n",
    "Clear and expressive code with few comments is far superior to cluttered and complex code with lots of comments."
   ]
  },
  {
   "cell_type": "code",
   "execution_count": 2,
   "id": "58df9ba2",
   "metadata": {},
   "outputs": [],
   "source": [
    "// Using comments to explain the code:\n",
    "\n",
    "Employee employee = new()\n",
    "{\n",
    "  Age = 70,\n",
    "  Flags = true\n",
    "};\n",
    "const bool HourlyFlag = true;\n",
    "\n",
    "// Check to see if the employee is eligible for full benefits\n",
    "if ((employee.Flags && HourlyFlag) && (employee.Age > 65)) { }\n",
    "\n",
    "// Use the code to explain the behavior:\n",
    "if (employee.IsEligibleForFullBenefits()) { }\n",
    "\n",
    "class Employee \n",
    "{\n",
    "  public int Age { get; set;}\n",
    "  public bool Flags { get; set; }\n",
    "\n",
    "  public bool IsEligibleForFullBenefits()\n",
    "  {\n",
    "    return true;\n",
    "  }\n",
    "}"
   ]
  },
  {
   "cell_type": "markdown",
   "id": "35c2f4e6",
   "metadata": {},
   "source": [
    "## Good comments\n",
    "\n",
    "Some comments are necessary or beneficial.\n",
    "\n",
    "### Legal Comments\n",
    "\n",
    "Copyright and authorship statements are necessary and reasonable things to put into a comment at the start of each source file."
   ]
  },
  {
   "cell_type": "code",
   "execution_count": null,
   "id": "0751ffa1",
   "metadata": {},
   "outputs": [],
   "source": [
    "// Copyright (C) 2003,2004,2005 by Object Mentor, Inc. All rights reserved.\n",
    "// Released under the terms of the GNU General Public License version 2 or later."
   ]
  },
  {
   "cell_type": "markdown",
   "id": "a67e6659",
   "metadata": {},
   "source": [
    "### Informative Comments\n",
    "\n",
    "It is sometimes useful to provide basic information with a comment. For example, adding a comment to explain return value of an abstract method."
   ]
  },
  {
   "cell_type": "code",
   "execution_count": 3,
   "id": "7122e480",
   "metadata": {},
   "outputs": [],
   "source": [
    "public class Responder { \n",
    "  // This class is a placeholder for the Responder implementation.\n",
    "  // It should contain methods and properties relevant to the responder's functionality.\n",
    "}\n",
    "\n",
    "// Returns an instance of the Responder being tested.\n",
    "public abstract class ResponderFactory\n",
    "{\n",
    "  protected abstract Responder responderInstance();\n",
    "}"
   ]
  },
  {
   "cell_type": "markdown",
   "id": "d218320a",
   "metadata": {},
   "source": [
    "### Explanation of Intent\n",
    "\n",
    "Sometimes a comment goes beyond just useful information about the implementation and provides the intent behind a decision.\n",
    "\n",
    "#### Example\n",
    "\n",
    "When comparing two objects, the author decided that he wanted to sort objects of his class higher than objects of any other."
   ]
  },
  {
   "cell_type": "code",
   "execution_count": null,
   "id": "95c5f2c5",
   "metadata": {},
   "outputs": [],
   "source": [
    "public int compareTo(Object o)\n",
    "{\n",
    "  // ... \n",
    "  return 1; // we are greater because we are the right type.\n",
    "}"
   ]
  },
  {
   "cell_type": "markdown",
   "id": "53f8f4dd",
   "metadata": {},
   "source": [
    "### Clarification\n",
    "\n",
    "Sometimes it is just helpful to translate the meaning of some obscure argument or return value into something that's readable.\n",
    "\n",
    "Comments can be useful when the code is part of the standard library, or in code that you cannot."
   ]
  },
  {
   "cell_type": "code",
   "execution_count": null,
   "id": "6d4a4a90",
   "metadata": {},
   "outputs": [],
   "source": [
    "public int CompareStrings( string str1, string str2 )\n",
    "{\n",
    "  // Compare the values, using the CompareTo method on the first string.\n",
    "  int cmpVal = str1.CompareTo(str2);\n",
    "\n",
    "  if (cmpVal == 0) \n",
    "  {\n",
    "    // str1 == str2\n",
    "    return 0;\n",
    "  }\n",
    "  else if (cmpVal < 0)\n",
    "  {\n",
    "    // str1 < str2\n",
    "    return -1;\n",
    "  }\n",
    "  else\n",
    "  {\n",
    "    // str1 > str2\n",
    "    return 1;\n",
    "  }\n",
    "}"
   ]
  },
  {
   "cell_type": "markdown",
   "id": "b8cfb085",
   "metadata": {},
   "source": [
    "### Warning of Consequences\n",
    "\n",
    "Sometimes it is useful to warn other programmers about certain consequences."
   ]
  },
  {
   "cell_type": "code",
   "execution_count": 4,
   "id": "b6ae7fd0",
   "metadata": {},
   "outputs": [],
   "source": [
    "public class Data { }\n",
    "\n",
    "// WARNING: This method directly modifies the database.  \n",
    "//          Any changes here will be permanent and irreversible.\n",
    "public void UpdateDatabase(Data data)\n",
    "{\n",
    "  // Database update logic here\n",
    "}"
   ]
  },
  {
   "cell_type": "markdown",
   "id": "ad5905ed",
   "metadata": {},
   "source": [
    "### TODO Comments\n",
    "\n",
    "It is sometimes reasonable to leave \"To do\" notes in the form of //TODO comments.\n",
    "\n",
    "TODO comments let the team know that something needs to be done.\n",
    "\n",
    "TODOs are jobs that the programmer thinks should be done, but for some reason can't do at the moment."
   ]
  },
  {
   "cell_type": "code",
   "execution_count": 5,
   "id": "b6acae7c",
   "metadata": {},
   "outputs": [],
   "source": [
    "// TODO: Implement error handling for database connection\n",
    "public void ConnectToDatabase(string connectionString)\n",
    "{\n",
    "  // ... code to connect to the database ...\n",
    "}"
   ]
  },
  {
   "cell_type": "markdown",
   "id": "93c17aa2",
   "metadata": {},
   "source": [
    "### Amplification\n",
    "\n",
    "A comment may be used to amplify the importance of something that may otherwise seem inconsequential."
   ]
  },
  {
   "cell_type": "code",
   "execution_count": 7,
   "id": "35fa540c",
   "metadata": {},
   "outputs": [],
   "source": [
    "public class User\n",
    "{\n",
    "  public string FirstName { get; set; }\n",
    "  public string LastName { get; set; }\n",
    "}\n",
    "\n",
    "string personName = \"     FirstName Lastname    \";\n",
    "string[] fullName = personName.Trim().Split(' ');\n",
    "// the trim is real important. It removes the starting and ending spaces that could cause the user instance to have unnecessary spaces in its parts.\n",
    "User user = new();\n",
    "user.FirstName = fullName[0];\n",
    "user.LastName = fullName[1];"
   ]
  },
  {
   "cell_type": "markdown",
   "id": "67992d53",
   "metadata": {},
   "source": [
    "### Public APIs\n",
    "\n",
    "If you are writing a public API, then you should certainly write good comments for it.\n",
    "\n",
    "You can use javadocs for Java code or jsdocs for JavaScript."
   ]
  },
  {
   "cell_type": "markdown",
   "id": "e0c74c21",
   "metadata": {},
   "source": [
    "## Bad comments\n",
    "\n",
    "Most comments fall into this category. Usually they are crutches or excuses for poor code or justifications for insufficient decisions, amounting to little more than the programmer talking to himself.\n",
    "\n",
    "### Some examples\n",
    "\n",
    "- **Mumbling:** Plopping in a comment just because you feel you should or because the process requires it, is a hack.\n",
    "- **Redundant Comments:** The comment explains the same as you can deduce from function, variables, etc. It probably takes longer to read than the code itself.\n",
    "- **Misleading Comments:** You find misinformation from the comment.\n",
    "- **Mandated Comments:** It is just plain silly to have a rule that says that every variable must have a comment.\n",
    "- **Journal Comments:** Sometimes people add a comment to the start of a module every time they edit it. Something like a changelog.\n",
    "- **Noise Comments:** Sometimes you see comments that are nothing but noise. They restate the obvious and provide no new information.\n",
    "- **Position Markers:** Sometimes programmers like to mark a particular position in a source file.\n",
    "- **Closing Brace Comments:** Sometimes programmers will put special comments on closing braces.\n",
    "- **Attributions and Bylines:** Source code control systems are very good at remembering who added what, when. There is no need to pollute the code with little bylines.\n",
    "- **Commented-Out Code:** Few practices are as odious as commenting-out code. Don’t do this!\n",
    "- **Too Much Information:** Don’t put interesting historical discussions or irrelevant descriptions of details into your comments.\n",
    "- **Inobvious Connection:** The connection between a comment and the code it describes should be obvious.\n",
    "- **Function Headers:** Short functions don’t need much description. A well-chosen name for a small function that does one thing is usually better than a comment header."
   ]
  },
  {
   "cell_type": "markdown",
   "id": "2a46aec6",
   "metadata": {},
   "source": [
    "## Resources\n",
    "\n",
    "- *Clean Code: A Handbook of Agile Software Craftsmanship*, by Robert C. Martin\n",
    "- [Clean Code in C# Part 3 Comments - DEV Community](https://dev.to/caiocesar/clean-code-in-c-part-3-comments-17p)"
   ]
  }
 ],
 "metadata": {
  "kernelspec": {
   "display_name": ".NET (C#)",
   "language": "C#",
   "name": ".net-csharp"
  },
  "language_info": {
   "name": "polyglot-notebook"
  },
  "polyglot_notebook": {
   "kernelInfo": {
    "defaultKernelName": "csharp",
    "items": [
     {
      "aliases": [],
      "name": "csharp"
     }
    ]
   }
  }
 },
 "nbformat": 4,
 "nbformat_minor": 5
}
