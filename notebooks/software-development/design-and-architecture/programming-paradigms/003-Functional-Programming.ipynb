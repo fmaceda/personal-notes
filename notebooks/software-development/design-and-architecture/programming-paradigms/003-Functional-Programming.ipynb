{
 "cells": [
  {
   "cell_type": "markdown",
   "id": "e19cb0bc",
   "metadata": {},
   "source": [
    "# Functional Programming\n",
    "\n",
    "## Content\n",
    "\n",
    "1. [Overview](#overview)\n",
    "\n",
    "3. [Resources](#resources)"
   ]
  },
  {
   "cell_type": "markdown",
   "id": "ee534b52",
   "metadata": {},
   "source": [
    "## Overview\n",
    "\n",
    "The third paradigm, which has only recently begun to be adopted, was the first to be invented. Indeed, its invention predates computer programming itself. Functional programming is the direct result of the work of **Alonzo Church**, who in 1936 invented l-calculus while pursuing the same mathematical problem that was motivating Alan Turing at the same time. His l-calculus is the foundation of the LISP language, invented in 1958 by John McCarthy. A foundational notion of l-calculus is immutability—that is, the notion that the values of symbols do not change. This effectively means that a functional language has no assignment statement. Most functional languages do, in fact, have some means to alter the value of a variable, but only under very strict discipline.\n",
    "\n",
    "We can summarize the functional programming paradigm as follows:\n",
    "\n",
    "> Functional programming imposes discipline upon assignment."
   ]
  },
  {
   "cell_type": "markdown",
   "id": "b7ae755a",
   "metadata": {},
   "source": [
    "## Immutability and Architecture\n",
    "\n",
    "All race conditions, deadlock conditions, and concurrent update problems are due to mutable variables. You cannot have a race condition or a concurrent update problem if no variable is ever updated. You\n",
    "cannot have deadlocks without mutable locks.\n",
    "\n",
    "In other words, all the problems that we face in concurrent applications—all the problems we face in applications that require multiple threads, and multiple processors—cannot happen if there are no mutable variables.\n",
    "\n",
    "Immutability can be practicable, if certain compromises are made."
   ]
  },
  {
   "cell_type": "markdown",
   "id": "dc000113",
   "metadata": {},
   "source": [
    "## Segregation of Mutability\n",
    "\n",
    "One of the most common compromises in regard to immutability is to segregate the application, or the services within the application, into mutable and immutable components. The immutable components perform their tasks in a purely functional way, without using any mutable variables. The immutable components communicate with one or more other components that are not purely functional, and allow for the state of variables to be mutated.\n",
    "\n",
    "Since mutating state exposes those components to all the problems of concurrency, it is common practice to use some kind of transactional memory to protect the mutable variables from concurrent updates and race conditions.\n",
    "\n",
    "Well-structured applications will be segregated into those components that do not mutate variables and those that do."
   ]
  },
  {
   "cell_type": "markdown",
   "id": "6c8cfc85",
   "metadata": {},
   "source": [
    "## Pure and Impure Functions\n",
    "\n",
    "Pure functions take some input and give a fixed output. Also, they cause no side effects in the outside world."
   ]
  },
  {
   "cell_type": "code",
   "execution_count": null,
   "id": "95e44927",
   "metadata": {
    "language_info": {
     "name": "polyglot-notebook"
    },
    "polyglot_notebook": {
     "kernelName": "javascript"
    }
   },
   "outputs": [],
   "source": [
    "const add = (a, b) => a + b;\n",
    "console.log(add(2,3));"
   ]
  },
  {
   "cell_type": "markdown",
   "id": "648d1ad5",
   "metadata": {},
   "source": [
    "Impure functions may take the same input and give different output. There can be side effects when using them."
   ]
  },
  {
   "cell_type": "code",
   "execution_count": null,
   "id": "05a9a090",
   "metadata": {
    "language_info": {
     "name": "polyglot-notebook"
    },
    "polyglot_notebook": {
     "kernelName": "javascript"
    }
   },
   "outputs": [],
   "source": [
    "let outsideMultiplier = 1;\n",
    "\n",
    "const multiply = (a, b) => a * b * outsideMultiplier;\n",
    "console.log(multiply(2,3)); // Output: 6\n",
    "\n",
    "outsideMultiplier = 10;\n",
    "const multiply = (a, b) => a * b * outsideMultiplier;\n",
    "console.log(multiply(2,3)); // Output: 60"
   ]
  },
  {
   "cell_type": "markdown",
   "id": "0a47da63",
   "metadata": {},
   "source": [
    "In functional programming, only pure functions are being used."
   ]
  },
  {
   "cell_type": "markdown",
   "id": "036c3bec",
   "metadata": {},
   "source": [
    "## The Tenets of Functional Programming\n",
    "\n",
    "1. Don't mutate data\n",
    "2. Use pure functions: fixed output for fixed inputs, and no side effects\n",
    "3. Use expressions and declarations\n"
   ]
  },
  {
   "cell_type": "markdown",
   "id": "df51483a",
   "metadata": {},
   "source": [
    "## Event Sourcing\n",
    "\n",
    "As a simple example, imagine a banking application that maintains the account balances of its customers. It mutates those balances when deposit and withdrawal transactions are executed.\n",
    "\n",
    "Now imagine that instead of storing the account balances, we store only the transactions. Whenever anyone wants to know the balance of an account, we simply add up all the transactions for that account, from the beginning of time. This scheme requires no mutable variables.\n",
    "\n",
    "The only convern with this approach is that over time the number of transactions would grow without bound and the processing power required to compute the totals would become intolerable.\n",
    "\n",
    "And there it comes event sourcing. Event sourcing is a strategy wherein we store the transactions, but not the state. When state is required, we simply apply all the transactions from the beginning of time.\n",
    "\n",
    "For solving the transactions to not grow without bound, we can have a process to compute and save the state every midnight. Then, when state information is required, we need to compute only the transactions since midnight.\n",
    "\n",
    "If we have enough storage and enough processor power, we can make our applications entirely immutable—and, therefore, entirely functional. Otherwise, we would need to find a way to clear all the existing data."
   ]
  },
  {
   "cell_type": "markdown",
   "id": "a0428f13",
   "metadata": {},
   "source": [
    "## Resources\n",
    "\n",
    "- *Clean Architecture: A Craftsman's Guide to Software Structure and Design*, by Robert C. Martin\n",
    "- [Intro to Functional Programming: JavaScript Paradigms | Toptal](https://www.toptal.com/javascript/functional-programming-javascript)"
   ]
  }
 ],
 "metadata": {
  "kernelspec": {
   "display_name": ".NET (F#)",
   "language": "F#",
   "name": ".net-fsharp"
  },
  "language_info": {
   "file_extension": ".fs",
   "mimetype": "text/x-fsharp",
   "name": "polyglot-notebook",
   "pygments_lexer": "fsharp",
   "version": "9.0"
  },
  "polyglot_notebook": {
   "kernelInfo": {
    "defaultKernelName": "fsharp",
    "items": [
     {
      "aliases": [],
      "name": "fsharp"
     }
    ]
   }
  }
 },
 "nbformat": 4,
 "nbformat_minor": 5
}
