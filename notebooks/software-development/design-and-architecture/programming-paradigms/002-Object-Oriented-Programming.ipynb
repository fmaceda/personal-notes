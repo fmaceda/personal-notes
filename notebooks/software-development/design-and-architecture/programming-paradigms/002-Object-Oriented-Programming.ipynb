{
 "cells": [
  {
   "cell_type": "markdown",
   "id": "e19cb0bc",
   "metadata": {},
   "source": [
    "# Object-Oriented Programming\n",
    "\n",
    "## Content\n",
    "\n",
    "1. [Overview](#overview)\n",
    "2. [Principles](#principles)\n",
    "3. [Encapsulation](#encapsulation)\n",
    "4. [Inheritance](#inheritance)\n",
    "5. [Polymorphism](#polymorphism)\n",
    "6. [Abstraction](#abstraction)\n",
    "7. [Example](#example)\n",
    "8. [Resources](#resources)"
   ]
  },
  {
   "cell_type": "markdown",
   "id": "ee534b52",
   "metadata": {},
   "source": [
    "## Overview\n",
    "\n",
    "The second paradigm to be adopted was actually discovered two years earlier, in 1966, by **Ole Johan Dahl** and **Kristen Nygaard**. These two programmers noticed that the function call stack frame in the ALGOL language could be moved to a heap, thereby allowing local variables declared by a function to exist long after the function returned. The function became a constructor for a class, the local variables became instance variables, and the nested functions became methods. This led inevitably to the discovery of polymorphism through the disciplined use of function pointers.\n",
    "\n",
    "We can summarize the object-oriented programming paradigm as follows:\n",
    "\n",
    "> Object-oriented programming imposes discipline on indirect transfer of control."
   ]
  },
  {
   "cell_type": "markdown",
   "id": "5bb80c1e",
   "metadata": {},
   "source": [
    "## Principles\n",
    "\n",
    "The four basic principles of object-oriented programming are:\n",
    "\n",
    "* **Encapsulation:** Hiding the internal state and functionality of an object and only allowing access through a public set of functions.\n",
    "* **Inheritance:** Ability to create new abstractions based on existing abstractions.\n",
    "* **Polymorphism:** Ability to implement inherited properties or methods in different ways across multiple abstractions.\n",
    "* **Abstraction:** Modeling the relevant attributes and interactions of entities as classes to define an abstract representation of a system.\n",
    "\n",
    "Given my main language is C#, and it is an object-oriented programming language, I'll be using it for sharing the examples."
   ]
  },
  {
   "cell_type": "markdown",
   "id": "5d9c0bcd",
   "metadata": {},
   "source": [
    "## Encapsulation\n",
    "\n",
    "### Definition \n",
    "Encapsulation is sometimes referred to as the first pillar or principle of object-oriented programming. A class or struct can specify how accessible each of its members is to code outside of the class or struct. Members not intended for consumers outside of the class or assembly are hidden to limit the potential for coding errors or malicious exploits."
   ]
  },
  {
   "cell_type": "markdown",
   "id": "4221a637",
   "metadata": {},
   "source": [
    "### Members\n",
    "\n",
    "The following list includes all the various kinds of members that can be declared in a class, struct, or record.\n",
    "\n",
    "* Fields\n",
    "* Constants\n",
    "* Properties\n",
    "* Methods\n",
    "* Constructors\n",
    "* Events\n",
    "* Finalizers\n",
    "* Indexers\n",
    "* Operators\n",
    "* Nested Types\n",
    "\n",
    "\n",
    "### Accessibility\n",
    "\n",
    "Some methods and properties are meant to be called or accessed from code outside a class or struct, known as client code. Other methods and properties might be only for use in the class or struct itself. It's important to limit the accessibility of your code so that only the intended client code can reach it. You specify how accessible your types and their members are to client code by using the following access modifiers:\n",
    "\n",
    "* `public`: Access is not restricted.\n",
    "* `protected`: Access is limited to the containing class or types derived from the containing class.\n",
    "* `internal`: Access is limited to the current assembly.\n",
    "* `protected internal`: Access is limited to the current assembly or types derived from the containing class.\n",
    "* `private`: Access is limited to the containing type.\n",
    "* `private protected`: Access is limited to the containing class or types derived from the containing class within the current assembly."
   ]
  },
  {
   "cell_type": "code",
   "execution_count": 2,
   "id": "87ce0f74",
   "metadata": {
    "language_info": {
     "name": "polyglot-notebook"
    },
    "polyglot_notebook": {
     "kernelName": "csharp"
    }
   },
   "outputs": [],
   "source": [
    "// Assembly1.cs  \n",
    "public class OtherClass\n",
    "{  \n",
    "  internal static int intM = 0;  \n",
    "}"
   ]
  },
  {
   "cell_type": "code",
   "execution_count": 4,
   "id": "45a027e8",
   "metadata": {
    "language_info": {
     "name": "polyglot-notebook"
    },
    "polyglot_notebook": {
     "kernelName": "csharp"
    }
   },
   "outputs": [],
   "source": [
    "// Assembly2.cs  \t\t\t\n",
    "class ParentClass\n",
    "{\n",
    "  public int a = 10; // No access restrictions.\n",
    "  protected int b = 20; // Access from the ParentClass and any other class that inherits this one.\n",
    "  internal int c = 30; // Access only on the same assembly.\n",
    "  private int d = 40; // Access only on the same class.\n",
    "\n",
    "  public int GetB()\n",
    "  {\n",
    "    return b; // OK\n",
    "  }\n",
    "\n",
    "  public int GetD()\n",
    "  {\n",
    "    return d; // OK\n",
    "  }\n",
    "}\n",
    "\n",
    "class ChildClass : ParentClass\n",
    "{\n",
    "  public void ChangeB(int newB)\n",
    "  {\n",
    "    b = newB; // OK\n",
    "  }\n",
    "}\n",
    "\n",
    "var parent = new ParentClass();\n",
    "var child = new ChildClass();\n",
    "var other = new OtherClass(); // OK\n",
    "\n",
    "// public\n",
    "parent.a = 20; // OK\n",
    "\n",
    "// protected\n",
    "// parent.b ERROR\n",
    "// child.b ERROR\n",
    "\n",
    "// internal\n",
    "parent.c = 20; // OK\n",
    "child.c = 20; // OK\n",
    "// other.intM = 20; ERROR\n",
    "\n",
    "// private\n",
    "// parent.d ERROR\n",
    "// child.d ERROR"
   ]
  },
  {
   "cell_type": "markdown",
   "id": "afa3136d",
   "metadata": {},
   "source": [
    "## Inheritance\n",
    "\n",
    "### Definition\n",
    "\n",
    "Classes (but not structs) support the concept of inheritance. A class that derives from another class, called the base class, automatically contains all the public, protected, and internal members of the base class except its constructors and finalizers."
   ]
  },
  {
   "cell_type": "code",
   "execution_count": 14,
   "id": "55c5c977",
   "metadata": {
    "language_info": {
     "name": "polyglot-notebook"
    },
    "polyglot_notebook": {
     "kernelName": "csharp"
    }
   },
   "outputs": [],
   "source": [
    "// Base class\n",
    "public class Animal\n",
    "{\n",
    "  public virtual string Name { get; set; }\n",
    "\n",
    "  public virtual void Eat() // virtual keyword allows to be overridden in a derived class.\n",
    "  {\n",
    "    Console.WriteLine(\"Animal is eating.\");\n",
    "  }\n",
    "}\n",
    "\n",
    "// Derived class\n",
    "public class Dog : Animal\n",
    "{\n",
    "  private string _name;\n",
    "\n",
    "  public string Breed { get; set; }\n",
    "  public override string Name\n",
    "  {\n",
    "    get\n",
    "    {\n",
    "      return _name;\n",
    "    }\n",
    "    set\n",
    "    {\n",
    "      if (!string.IsNullOrEmpty(value))\n",
    "      {\n",
    "        _name = value;\n",
    "      }\n",
    "      else\n",
    "      {\n",
    "        _name = \"Unknown\";\n",
    "      }\n",
    "    }\n",
    "  }\n",
    "\n",
    "  public void Bark()\n",
    "  {\n",
    "    Console.WriteLine(\"Dog is barking.\");\n",
    "  }\n",
    "\n",
    "  public override void Eat() // Because the Eat method is virtual, in a derived class it's possible to use override method to change the body.\n",
    "  {\n",
    "    Console.WriteLine(\"Dog is eating.\"); // Overriding the Eat method\n",
    "  }\n",
    "}"
   ]
  },
  {
   "cell_type": "markdown",
   "id": "3295a190",
   "metadata": {},
   "source": [
    "### Inheritance from abstract class"
   ]
  },
  {
   "cell_type": "code",
   "execution_count": 15,
   "id": "a74b2b3e",
   "metadata": {
    "language_info": {
     "name": "polyglot-notebook"
    },
    "polyglot_notebook": {
     "kernelName": "csharp"
    }
   },
   "outputs": [
    {
     "name": "stdout",
     "output_type": "stream",
     "text": [
      "Area of the square = 144\r\n"
     ]
    }
   ],
   "source": [
    "abstract class Shape\n",
    "{\n",
    "  public abstract int GetArea();\n",
    "}\n",
    "\n",
    "class Square : Shape\n",
    "{\n",
    "  private int _side;\n",
    "\n",
    "  public Square(int n) => _side = n;\n",
    "\n",
    "  // GetArea method is required to avoid a compile-time error.\n",
    "  public override int GetArea() => _side * _side;\n",
    "}\n",
    "\n",
    "var sq = new Square(12);\n",
    "Console.WriteLine($\"Area of the square = {sq.GetArea()}\");"
   ]
  },
  {
   "cell_type": "markdown",
   "id": "676369d4",
   "metadata": {},
   "source": [
    "## Polymorphism\n",
    "\n",
    "### Definition\n",
    "\n",
    "Polymorphism (meaning \"many forms\") allows objects of different classes to be treated as objects of a common type. This is achieved through inheritance and method overriding. "
   ]
  },
  {
   "cell_type": "code",
   "execution_count": 8,
   "id": "b0a3a7a9",
   "metadata": {
    "language_info": {
     "name": "polyglot-notebook"
    },
    "polyglot_notebook": {
     "kernelName": "csharp"
    }
   },
   "outputs": [
    {
     "name": "stdout",
     "output_type": "stream",
     "text": [
      "Drawing a rectangle\n",
      "Performing base class drawing tasks\n",
      "Drawing a triangle\n",
      "Performing base class drawing tasks\n",
      "Drawing a circle\n",
      "Performing base class drawing tasks\n"
     ]
    }
   ],
   "source": [
    "public class Shape\n",
    "{\n",
    "  // A few example members\n",
    "  public int X { get; private set; }\n",
    "  public int Y { get; private set; }\n",
    "  public int Height { get; set; }\n",
    "  public int Width { get; set; }\n",
    "\n",
    "  // Virtual method\n",
    "  public virtual void Draw()\n",
    "  {\n",
    "    Console.WriteLine(\"Performing base class drawing tasks\");\n",
    "  }\n",
    "}\n",
    "\n",
    "public class Circle : Shape\n",
    "{\n",
    "  public override void Draw()\n",
    "  {\n",
    "    // Code to draw a circle...\n",
    "    Console.WriteLine(\"Drawing a circle\");\n",
    "    base.Draw();\n",
    "  }\n",
    "}\n",
    "\n",
    "public class Rectangle : Shape\n",
    "{\n",
    "  public override void Draw()\n",
    "  {\n",
    "    // Code to draw a rectangle...\n",
    "    Console.WriteLine(\"Drawing a rectangle\");\n",
    "    base.Draw();\n",
    "  }\n",
    "}\n",
    "\n",
    "public class Triangle : Shape\n",
    "{\n",
    "  public override void Draw()\n",
    "  {\n",
    "    // Code to draw a triangle...\n",
    "    Console.WriteLine(\"Drawing a triangle\");\n",
    "    base.Draw();\n",
    "  }\n",
    "}\n",
    "\n",
    "var shapes = new List<Shape>\n",
    "{\n",
    "  new Rectangle(),\n",
    "  new Triangle(),\n",
    "  new Circle()\n",
    "};\n",
    "\n",
    "foreach (var shape in shapes)\n",
    "{\n",
    "  shape.Draw();\n",
    "}"
   ]
  },
  {
   "cell_type": "markdown",
   "id": "16d04597",
   "metadata": {},
   "source": [
    "### Hide base class members with new members"
   ]
  },
  {
   "cell_type": "code",
   "execution_count": 9,
   "id": "f17d0144",
   "metadata": {
    "language_info": {
     "name": "polyglot-notebook"
    },
    "polyglot_notebook": {
     "kernelName": "csharp"
    }
   },
   "outputs": [],
   "source": [
    "public class BaseClass\n",
    "{\n",
    "  public void DoWork() { WorkField++; }\n",
    "  public int WorkField;\n",
    "  public int WorkProperty\n",
    "  {\n",
    "    get { return 0; }\n",
    "  }\n",
    "}\n",
    "\n",
    "public class DerivedClass : BaseClass\n",
    "{\n",
    "  public new void DoWork() { WorkField++; }\n",
    "  public new int WorkField;\n",
    "  public new int WorkProperty\n",
    "  {\n",
    "    get { return 0; }\n",
    "  }\n",
    "}\n",
    "\n",
    "DerivedClass B = new DerivedClass();\n",
    "B.DoWork();  // Calls the new method.\n",
    "\n",
    "BaseClass A = (BaseClass)B;\n",
    "A.DoWork();  // Calls the old method."
   ]
  },
  {
   "cell_type": "markdown",
   "id": "fd1ee637",
   "metadata": {},
   "source": [
    "### Prevent derived classes from overriding virtual members"
   ]
  },
  {
   "cell_type": "code",
   "execution_count": 10,
   "id": "985c8441",
   "metadata": {
    "language_info": {
     "name": "polyglot-notebook"
    },
    "polyglot_notebook": {
     "kernelName": "csharp"
    }
   },
   "outputs": [],
   "source": [
    "public class A\n",
    "{\n",
    "  public virtual void DoWork() { }\n",
    "}\n",
    "\n",
    "public class B : A\n",
    "{\n",
    "  public override void DoWork() { }\n",
    "}\n",
    "\n",
    "public class C : B\n",
    "{\n",
    "  public sealed override void DoWork() { } // sealed keyword is used to prevent to override it on derived class.\n",
    "}\n",
    "\n",
    "public class D : C\n",
    "{\n",
    "  public new void DoWork() { } // it's possible to use the new keyword to declare a new method called DoWork for D class.\n",
    "}"
   ]
  },
  {
   "cell_type": "markdown",
   "id": "a2fe9eaa",
   "metadata": {},
   "source": [
    "### Access base class virtual members from derived classes"
   ]
  },
  {
   "cell_type": "code",
   "execution_count": 11,
   "id": "16584d20",
   "metadata": {
    "language_info": {
     "name": "polyglot-notebook"
    },
    "polyglot_notebook": {
     "kernelName": "csharp"
    }
   },
   "outputs": [],
   "source": [
    "public class Base\n",
    "{\n",
    "  public virtual void DoWork() {/*...*/ }\n",
    "}\n",
    "public class Derived : Base\n",
    "{\n",
    "  public override void DoWork()\n",
    "  {\n",
    "    //Perform Derived's work here\n",
    "    //...\n",
    "    // Call DoWork on base class\n",
    "    base.DoWork();\n",
    "  }\n",
    "}"
   ]
  },
  {
   "cell_type": "markdown",
   "id": "89e54923",
   "metadata": {},
   "source": [
    "## Abstraction\n",
    "\n",
    "### Definition\n",
    "\n",
    "Abstraction focuses on presenting only essential details to the user while hiding the complex implementation details. It involves defining abstract classes or interfaces that specify a contract (methods that must be implemented by derived classes) without providing concrete implementations. "
   ]
  },
  {
   "cell_type": "code",
   "execution_count": 13,
   "id": "3f336848",
   "metadata": {
    "language_info": {
     "name": "polyglot-notebook"
    },
    "polyglot_notebook": {
     "kernelName": "csharp"
    }
   },
   "outputs": [
    {
     "name": "stdout",
     "output_type": "stream",
     "text": [
      "Area of the square = 144\r\n"
     ]
    }
   ],
   "source": [
    "public abstract class Shape\n",
    "{\n",
    "  public abstract int GetArea();\n",
    "}\n",
    "\n",
    "public class Square : Shape\n",
    "{\n",
    "  private int _side;\n",
    "\n",
    "  public Square(int n) => _side = n;\n",
    "\n",
    "  // GetArea method is required to avoid a compile-time error.\n",
    "  public override int GetArea() => _side * _side;\n",
    "}\n",
    "\n",
    "var sq = new Square(12);\n",
    "Console.WriteLine($\"Area of the square = {sq.GetArea()}\");"
   ]
  },
  {
   "cell_type": "markdown",
   "id": "b371d925",
   "metadata": {},
   "source": [
    "## Example\n",
    "\n",
    "OOP constrains how behavior is passed around, using encapsulation, polymorphism, and inheritance to control indirect calls like virtual functions or method overrides.\n",
    "\n",
    "### ✅ OOP Example (C#):\n",
    "\n",
    "```csharp\n",
    "// C#\n",
    "abstract class Animal {\n",
    "  public abstract void Speak();\n",
    "}\n",
    "\n",
    "class Dog : Animal {\n",
    "  public override void Speak() {\n",
    "    Console.WriteLine(\"Woof\");\n",
    "  }\n",
    "}\n",
    "\n",
    "void MakeAnimalSpeak(Animal animal) {\n",
    "  animal.Speak(); // Polymorphic call (indirect transfer)\n",
    "}\n",
    "```\n",
    "\n",
    "### ❌ Uncontrolled Indirect Control Transfer (Function Pointer):\n",
    "\n",
    "```c\n",
    "// C - Function pointers, less structured than OOP\n",
    "void bark() { printf(\"Woof\\n\"); }\n",
    "\n",
    "void (*speakFunc)() = bark;\n",
    "speakFunc(); // Indirect call, no type safety, no structure\n",
    "```"
   ]
  },
  {
   "cell_type": "markdown",
   "id": "a0428f13",
   "metadata": {},
   "source": [
    "## Resources\n",
    "\n",
    "- *Clean Architecture: A Craftsman's Guide to Software Structure and Design*, by Robert C. Martin\n",
    "- [Introduction to Classes](https://learn.microsoft.com/en-us/dotnet/csharp/fundamentals/tutorials/classes)\n",
    "- [Object-oriented C#](https://learn.microsoft.com/en-us/dotnet/csharp/fundamentals/tutorials/oop)\n",
    "- [Members](https://learn.microsoft.com/en-us/dotnet/csharp/programming-guide/classes-and-structs/members)\n",
    "- [Access modifiers](https://learn.microsoft.com/en-us/dotnet/csharp/language-reference/keywords/access-modifiers)"
   ]
  }
 ],
 "metadata": {
  "kernelspec": {
   "display_name": ".NET (C#)",
   "language": "C#",
   "name": ".net-csharp"
  },
  "language_info": {
   "name": "polyglot-notebook"
  },
  "polyglot_notebook": {
   "kernelInfo": {
    "defaultKernelName": "csharp",
    "items": [
     {
      "aliases": [],
      "name": "csharp"
     }
    ]
   }
  }
 },
 "nbformat": 4,
 "nbformat_minor": 5
}
