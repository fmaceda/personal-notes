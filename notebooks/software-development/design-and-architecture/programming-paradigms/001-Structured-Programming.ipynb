{
 "cells": [
  {
   "cell_type": "markdown",
   "id": "cb56c91b",
   "metadata": {},
   "source": [
    "# Structured Programming\n",
    "\n",
    "## Content\n",
    "\n",
    "1. [Overview](#overview)\n",
    "2. [Proof](#proof)\n",
    "3. [Functional Decomposition](#functional-decomposition)\n",
    "4. [Scientific Method](#scientific-method)\n",
    "5. [Tests](#tests)\n",
    "6. [Example](#example)\n",
    "7. [Resources](#resources)"
   ]
  },
  {
   "cell_type": "markdown",
   "id": "ea4ca126",
   "metadata": {},
   "source": [
    "## Overview\n",
    "\n",
    "The first paradigm to be adopted (but not the first to be invented) was structured programming, which was discovered by **Edsger Wybe Dijkstra** in 1968. Dijkstra showed that the use of unrestrained jumps (goto statements) is harmful to program structure. As we'll see in the chapters that follow, he replaced those jumps with the more familiar if/then/else and do/while/until constructs.\n",
    "\n",
    "We can summarize the structured programming paradigm as follows:\n",
    "\n",
    "> Structured programming imposes discipline on direct transfer of control."
   ]
  },
  {
   "cell_type": "markdown",
   "id": "e0ecbb95",
   "metadata": {},
   "source": [
    "## Proof\n",
    "\n",
    "The problem that Dijkstra recognized, early on, was that programming is hard, and that programmers don't do it very well.\n",
    "\n",
    "Dijkstra's solution was to apply the mathematical discipline of proof. His vision was the construction of a **Euclidian hierarchy of postulates, theorems, corollaries, and lemmas**.\n",
    "\n",
    "Same as mathematicians do, **programmers should use proven structures**, and tie them together with code that they would then prove correct themselves.\n",
    "\n",
    "During his investigation, Dijkstra discovered that certain **uses of goto statements prevent modules from being decomposed recursively into smaller and smaller units**, thereby preventing use of the divide-and-conquer approach necessary for reasonable proofs.\n",
    "\n",
    "Other uses of goto, however, did not have this problem. Dijkstra realized that these **\"good\" uses of goto corresponded to simple selection and iteration control structures** such as `if/then/else` and `do/while`. Modules that used only those kinds of control structures could be recursively subdivided into provable units.\n",
    "\n",
    "This discovery was remarkable: The very control structures that made a module provable were the same minimum set of control structures from which all programs can be built. Thus structured programming was born.\n",
    "\n",
    "As computer languages evolved, the goto statement moved ever rearward, until it all but disappeared.\n",
    "\n",
    "At the end, there was no formal proof, and the Euclidean hierarchy of theorems was never built."
   ]
  },
  {
   "cell_type": "markdown",
   "id": "6bf4f033",
   "metadata": {},
   "source": [
    "## Functional Decomposition\n",
    "\n",
    "Structured programming allows modules to be recursively decomposed into provable units, which in turn means that modules can be functionally decomposed.\n",
    "\n",
    "By following these disciplines, programmers could break down large proposed systems into modules and components that could be further broken down into tiny provable functions."
   ]
  },
  {
   "cell_type": "markdown",
   "id": "21455e0c",
   "metadata": {},
   "source": [
    "## Scientific Method\n",
    "\n",
    "Given there was no formal proof, scientific method was then considered.\n",
    "\n",
    "Science is fundamentally different from mathematics, in that scientific theories and laws cannot be proven correct, but can demonstrated in several ways.\n",
    "\n",
    "Science does not work by proving statements true, but rather by proving statements false.Those statements that we cannot prove false, after much effort, we deem to be true enough for our purposes.\n",
    "\n",
    "Ultimately, we can say that mathematics is the discipline of proving provable statements true. Science, in contrast, is the discipline of proving provable statements false."
   ]
  },
  {
   "cell_type": "markdown",
   "id": "b9f8bb82",
   "metadata": {},
   "source": [
    "## Tests\n",
    "\n",
    "Dijkstra once said:\n",
    "\n",
    "> Testing shows the presence, not the absence, of bugs.\n",
    "\n",
    "In other words, a program can be proven incorrect by a test, but it cannot be proven correct. All that tests can do, after sufficient testing effort, is allow us to deem a program to be correct enough for our purposes.\n",
    "\n",
    "Software development is not a mathematical endeavor, even though it seems to manipulate mathematical\n",
    "constructs. Rather, software is like a science. We show correctness by failing to prove incorrectness, despite our best efforts.\n",
    "\n",
    "Such proofs of incorrectness can be applied only to provable programs.\n",
    "\n",
    "Structured programming forces us to recursively decompose a program into a\n",
    "set of small provable functions."
   ]
  },
  {
   "cell_type": "markdown",
   "id": "d415224a",
   "metadata": {
    "vscode": {
     "languageId": "c"
    }
   },
   "source": [
    "## Example\n",
    "\n",
    "Structured programming avoids goto and promotes structured control flow using loops (for, while) and conditionals (if, switch).\n",
    "\n",
    "### ✅ Structured Programming Example:\n",
    "\n",
    "```c\n",
    "// C - structured way\n",
    "for (int i = 0; i < 5; i++) {\n",
    "  printf(\"Number: %d\\n\", i);\n",
    "}\n",
    "```\n",
    "\n",
    "### ❌ Unstructured Programming (with goto):\n",
    "\n",
    "```c\n",
    "// C - unstructured, discouraged in structured programming\n",
    "int i = 0;\n",
    "start:\n",
    "if (i < 5) {\n",
    "    printf(\"Number: %d\\n\", i);\n",
    "    i++;\n",
    "    goto start;\n",
    "}\n",
    "```"
   ]
  },
  {
   "cell_type": "markdown",
   "id": "f8e7b151",
   "metadata": {},
   "source": [
    "## Resources\n",
    "\n",
    "- *Clean Architecture: A Craftsman's Guide to Software Structure and Design*, by Robert C. Martin"
   ]
  }
 ],
 "metadata": {
  "language_info": {
   "name": "csharp"
  }
 },
 "nbformat": 4,
 "nbformat_minor": 5
}
